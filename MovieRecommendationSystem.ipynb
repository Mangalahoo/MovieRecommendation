{
  "nbformat": 4,
  "nbformat_minor": 0,
  "metadata": {
    "colab": {
      "provenance": [],
      "authorship_tag": "ABX9TyPx7Ca+uK2Eqy80x1lNKHxq",
      "include_colab_link": true
    },
    "kernelspec": {
      "name": "python3",
      "display_name": "Python 3"
    },
    "language_info": {
      "name": "python"
    }
  },
  "cells": [
    {
      "cell_type": "markdown",
      "metadata": {
        "id": "view-in-github",
        "colab_type": "text"
      },
      "source": [
        "<a href=\"https://colab.research.google.com/github/Mangalahoo/MovieRecommendation/blob/main/MovieRecommendationSystem.ipynb\" target=\"_parent\"><img src=\"https://colab.research.google.com/assets/colab-badge.svg\" alt=\"Open In Colab\"/></a>"
      ]
    },
    {
      "cell_type": "markdown",
      "source": [
        "Import Library"
      ],
      "metadata": {
        "id": "jQsPVqrTDTVP"
      }
    },
    {
      "cell_type": "code",
      "execution_count": 2,
      "metadata": {
        "id": "f9hj9jdLDKNC"
      },
      "outputs": [],
      "source": [
        "import pandas as pd\n",
        "import numpy as np"
      ]
    },
    {
      "cell_type": "markdown",
      "source": [
        "Import data set"
      ],
      "metadata": {
        "id": "h9NvouHADcFz"
      }
    },
    {
      "cell_type": "code",
      "source": [
        "df = pd.read_csv(r'https://raw.githubusercontent.com/YBI-Foundation/Dataset/main/Movies%20Recommendation.csv')\n"
      ],
      "metadata": {
        "id": "6xJJup61Ddn3"
      },
      "execution_count": 4,
      "outputs": []
    },
    {
      "cell_type": "code",
      "source": [
        "df.head()\n"
      ],
      "metadata": {
        "colab": {
          "base_uri": "https://localhost:8080/",
          "height": 672
        },
        "id": "v1ynVVyaElth",
        "outputId": "f382a3c0-a175-4fe3-df10-7efa2bdbbe0a"
      },
      "execution_count": 5,
      "outputs": [
        {
          "output_type": "execute_result",
          "data": {
            "text/plain": [
              "   Movie_ID      Movie_Title                       Movie_Genre Movie_Language  \\\n",
              "0         1       Four Rooms                      Crime Comedy             en   \n",
              "1         2        Star Wars  Adventure Action Science Fiction             en   \n",
              "2         3     Finding Nemo                  Animation Family             en   \n",
              "3         4     Forrest Gump              Comedy Drama Romance             en   \n",
              "4         5  American Beauty                             Drama             en   \n",
              "\n",
              "   Movie_Budget  Movie_Popularity Movie_Release_Date  Movie_Revenue  \\\n",
              "0       4000000         22.876230         09-12-1995        4300000   \n",
              "1      11000000        126.393695         25-05-1977      775398007   \n",
              "2      94000000         85.688789         30-05-2003      940335536   \n",
              "3      55000000        138.133331         06-07-1994      677945399   \n",
              "4      15000000         80.878605         15-09-1999      356296601   \n",
              "\n",
              "   Movie_Runtime  Movie_Vote  ...  \\\n",
              "0           98.0         6.5  ...   \n",
              "1          121.0         8.1  ...   \n",
              "2          100.0         7.6  ...   \n",
              "3          142.0         8.2  ...   \n",
              "4          122.0         7.9  ...   \n",
              "\n",
              "                                      Movie_Homepage  \\\n",
              "0                                                NaN   \n",
              "1  http://www.starwars.com/films/star-wars-episod...   \n",
              "2              http://movies.disney.com/finding-nemo   \n",
              "3                                                NaN   \n",
              "4                      http://www.dreamworks.com/ab/   \n",
              "\n",
              "                                      Movie_Keywords  \\\n",
              "0          hotel new year's eve witch bet hotel room   \n",
              "1        android galaxy hermit death star lightsaber   \n",
              "2  father son relationship harbor underwater fish...   \n",
              "3  vietnam veteran hippie mentally disabled runni...   \n",
              "4  male nudity female nudity adultery midlife cri...   \n",
              "\n",
              "                                      Movie_Overview  \\\n",
              "0  It's Ted the Bellhop's first night on the job....   \n",
              "1  Princess Leia is captured and held hostage by ...   \n",
              "2  Nemo, an adventurous young clownfish, is unexp...   \n",
              "3  A man with a low IQ has accomplished great thi...   \n",
              "4  Lester Burnham, a depressed suburban father in...   \n",
              "\n",
              "                              Movie_Production_House  \\\n",
              "0  [{\"name\": \"Miramax Films\", \"id\": 14}, {\"name\":...   \n",
              "1  [{\"name\": \"Lucasfilm\", \"id\": 1}, {\"name\": \"Twe...   \n",
              "2     [{\"name\": \"Pixar Animation Studios\", \"id\": 3}]   \n",
              "3          [{\"name\": \"Paramount Pictures\", \"id\": 4}]   \n",
              "4  [{\"name\": \"DreamWorks SKG\", \"id\": 27}, {\"name\"...   \n",
              "\n",
              "                            Movie_Production_Country  \\\n",
              "0  [{\"iso_3166_1\": \"US\", \"name\": \"United States o...   \n",
              "1  [{\"iso_3166_1\": \"US\", \"name\": \"United States o...   \n",
              "2  [{\"iso_3166_1\": \"US\", \"name\": \"United States o...   \n",
              "3  [{\"iso_3166_1\": \"US\", \"name\": \"United States o...   \n",
              "4  [{\"iso_3166_1\": \"US\", \"name\": \"United States o...   \n",
              "\n",
              "                      Movie_Spoken_Language  \\\n",
              "0  [{\"iso_639_1\": \"en\", \"name\": \"English\"}]   \n",
              "1  [{\"iso_639_1\": \"en\", \"name\": \"English\"}]   \n",
              "2  [{\"iso_639_1\": \"en\", \"name\": \"English\"}]   \n",
              "3  [{\"iso_639_1\": \"en\", \"name\": \"English\"}]   \n",
              "4  [{\"iso_639_1\": \"en\", \"name\": \"English\"}]   \n",
              "\n",
              "                                       Movie_Tagline  \\\n",
              "0  Twelve outrageous guests. Four scandalous requ...   \n",
              "1       A long time ago in a galaxy far, far away...   \n",
              "2  There are 3.7 trillion fish in the ocean, they...   \n",
              "3  The world will never be the same, once you've ...   \n",
              "4                                       Look closer.   \n",
              "\n",
              "                                          Movie_Cast  \\\n",
              "0  Tim Roth Antonio Banderas Jennifer Beals Madon...   \n",
              "1  Mark Hamill Harrison Ford Carrie Fisher Peter ...   \n",
              "2  Albert Brooks Ellen DeGeneres Alexander Gould ...   \n",
              "3  Tom Hanks Robin Wright Gary Sinise Mykelti Wil...   \n",
              "4  Kevin Spacey Annette Bening Thora Birch Wes Be...   \n",
              "\n",
              "                                          Movie_Crew   Movie_Director  \n",
              "0  [{'name': 'Allison Anders', 'gender': 1, 'depa...   Allison Anders  \n",
              "1  [{'name': 'George Lucas', 'gender': 2, 'depart...     George Lucas  \n",
              "2  [{'name': 'Andrew Stanton', 'gender': 2, 'depa...   Andrew Stanton  \n",
              "3  [{'name': 'Alan Silvestri', 'gender': 2, 'depa...  Robert Zemeckis  \n",
              "4  [{'name': 'Thomas Newman', 'gender': 2, 'depar...       Sam Mendes  \n",
              "\n",
              "[5 rows x 21 columns]"
            ],
            "text/html": [
              "\n",
              "  <div id=\"df-2305480c-8116-4a4a-b674-87fc5004f80f\" class=\"colab-df-container\">\n",
              "    <div>\n",
              "<style scoped>\n",
              "    .dataframe tbody tr th:only-of-type {\n",
              "        vertical-align: middle;\n",
              "    }\n",
              "\n",
              "    .dataframe tbody tr th {\n",
              "        vertical-align: top;\n",
              "    }\n",
              "\n",
              "    .dataframe thead th {\n",
              "        text-align: right;\n",
              "    }\n",
              "</style>\n",
              "<table border=\"1\" class=\"dataframe\">\n",
              "  <thead>\n",
              "    <tr style=\"text-align: right;\">\n",
              "      <th></th>\n",
              "      <th>Movie_ID</th>\n",
              "      <th>Movie_Title</th>\n",
              "      <th>Movie_Genre</th>\n",
              "      <th>Movie_Language</th>\n",
              "      <th>Movie_Budget</th>\n",
              "      <th>Movie_Popularity</th>\n",
              "      <th>Movie_Release_Date</th>\n",
              "      <th>Movie_Revenue</th>\n",
              "      <th>Movie_Runtime</th>\n",
              "      <th>Movie_Vote</th>\n",
              "      <th>...</th>\n",
              "      <th>Movie_Homepage</th>\n",
              "      <th>Movie_Keywords</th>\n",
              "      <th>Movie_Overview</th>\n",
              "      <th>Movie_Production_House</th>\n",
              "      <th>Movie_Production_Country</th>\n",
              "      <th>Movie_Spoken_Language</th>\n",
              "      <th>Movie_Tagline</th>\n",
              "      <th>Movie_Cast</th>\n",
              "      <th>Movie_Crew</th>\n",
              "      <th>Movie_Director</th>\n",
              "    </tr>\n",
              "  </thead>\n",
              "  <tbody>\n",
              "    <tr>\n",
              "      <th>0</th>\n",
              "      <td>1</td>\n",
              "      <td>Four Rooms</td>\n",
              "      <td>Crime Comedy</td>\n",
              "      <td>en</td>\n",
              "      <td>4000000</td>\n",
              "      <td>22.876230</td>\n",
              "      <td>09-12-1995</td>\n",
              "      <td>4300000</td>\n",
              "      <td>98.0</td>\n",
              "      <td>6.5</td>\n",
              "      <td>...</td>\n",
              "      <td>NaN</td>\n",
              "      <td>hotel new year's eve witch bet hotel room</td>\n",
              "      <td>It's Ted the Bellhop's first night on the job....</td>\n",
              "      <td>[{\"name\": \"Miramax Films\", \"id\": 14}, {\"name\":...</td>\n",
              "      <td>[{\"iso_3166_1\": \"US\", \"name\": \"United States o...</td>\n",
              "      <td>[{\"iso_639_1\": \"en\", \"name\": \"English\"}]</td>\n",
              "      <td>Twelve outrageous guests. Four scandalous requ...</td>\n",
              "      <td>Tim Roth Antonio Banderas Jennifer Beals Madon...</td>\n",
              "      <td>[{'name': 'Allison Anders', 'gender': 1, 'depa...</td>\n",
              "      <td>Allison Anders</td>\n",
              "    </tr>\n",
              "    <tr>\n",
              "      <th>1</th>\n",
              "      <td>2</td>\n",
              "      <td>Star Wars</td>\n",
              "      <td>Adventure Action Science Fiction</td>\n",
              "      <td>en</td>\n",
              "      <td>11000000</td>\n",
              "      <td>126.393695</td>\n",
              "      <td>25-05-1977</td>\n",
              "      <td>775398007</td>\n",
              "      <td>121.0</td>\n",
              "      <td>8.1</td>\n",
              "      <td>...</td>\n",
              "      <td>http://www.starwars.com/films/star-wars-episod...</td>\n",
              "      <td>android galaxy hermit death star lightsaber</td>\n",
              "      <td>Princess Leia is captured and held hostage by ...</td>\n",
              "      <td>[{\"name\": \"Lucasfilm\", \"id\": 1}, {\"name\": \"Twe...</td>\n",
              "      <td>[{\"iso_3166_1\": \"US\", \"name\": \"United States o...</td>\n",
              "      <td>[{\"iso_639_1\": \"en\", \"name\": \"English\"}]</td>\n",
              "      <td>A long time ago in a galaxy far, far away...</td>\n",
              "      <td>Mark Hamill Harrison Ford Carrie Fisher Peter ...</td>\n",
              "      <td>[{'name': 'George Lucas', 'gender': 2, 'depart...</td>\n",
              "      <td>George Lucas</td>\n",
              "    </tr>\n",
              "    <tr>\n",
              "      <th>2</th>\n",
              "      <td>3</td>\n",
              "      <td>Finding Nemo</td>\n",
              "      <td>Animation Family</td>\n",
              "      <td>en</td>\n",
              "      <td>94000000</td>\n",
              "      <td>85.688789</td>\n",
              "      <td>30-05-2003</td>\n",
              "      <td>940335536</td>\n",
              "      <td>100.0</td>\n",
              "      <td>7.6</td>\n",
              "      <td>...</td>\n",
              "      <td>http://movies.disney.com/finding-nemo</td>\n",
              "      <td>father son relationship harbor underwater fish...</td>\n",
              "      <td>Nemo, an adventurous young clownfish, is unexp...</td>\n",
              "      <td>[{\"name\": \"Pixar Animation Studios\", \"id\": 3}]</td>\n",
              "      <td>[{\"iso_3166_1\": \"US\", \"name\": \"United States o...</td>\n",
              "      <td>[{\"iso_639_1\": \"en\", \"name\": \"English\"}]</td>\n",
              "      <td>There are 3.7 trillion fish in the ocean, they...</td>\n",
              "      <td>Albert Brooks Ellen DeGeneres Alexander Gould ...</td>\n",
              "      <td>[{'name': 'Andrew Stanton', 'gender': 2, 'depa...</td>\n",
              "      <td>Andrew Stanton</td>\n",
              "    </tr>\n",
              "    <tr>\n",
              "      <th>3</th>\n",
              "      <td>4</td>\n",
              "      <td>Forrest Gump</td>\n",
              "      <td>Comedy Drama Romance</td>\n",
              "      <td>en</td>\n",
              "      <td>55000000</td>\n",
              "      <td>138.133331</td>\n",
              "      <td>06-07-1994</td>\n",
              "      <td>677945399</td>\n",
              "      <td>142.0</td>\n",
              "      <td>8.2</td>\n",
              "      <td>...</td>\n",
              "      <td>NaN</td>\n",
              "      <td>vietnam veteran hippie mentally disabled runni...</td>\n",
              "      <td>A man with a low IQ has accomplished great thi...</td>\n",
              "      <td>[{\"name\": \"Paramount Pictures\", \"id\": 4}]</td>\n",
              "      <td>[{\"iso_3166_1\": \"US\", \"name\": \"United States o...</td>\n",
              "      <td>[{\"iso_639_1\": \"en\", \"name\": \"English\"}]</td>\n",
              "      <td>The world will never be the same, once you've ...</td>\n",
              "      <td>Tom Hanks Robin Wright Gary Sinise Mykelti Wil...</td>\n",
              "      <td>[{'name': 'Alan Silvestri', 'gender': 2, 'depa...</td>\n",
              "      <td>Robert Zemeckis</td>\n",
              "    </tr>\n",
              "    <tr>\n",
              "      <th>4</th>\n",
              "      <td>5</td>\n",
              "      <td>American Beauty</td>\n",
              "      <td>Drama</td>\n",
              "      <td>en</td>\n",
              "      <td>15000000</td>\n",
              "      <td>80.878605</td>\n",
              "      <td>15-09-1999</td>\n",
              "      <td>356296601</td>\n",
              "      <td>122.0</td>\n",
              "      <td>7.9</td>\n",
              "      <td>...</td>\n",
              "      <td>http://www.dreamworks.com/ab/</td>\n",
              "      <td>male nudity female nudity adultery midlife cri...</td>\n",
              "      <td>Lester Burnham, a depressed suburban father in...</td>\n",
              "      <td>[{\"name\": \"DreamWorks SKG\", \"id\": 27}, {\"name\"...</td>\n",
              "      <td>[{\"iso_3166_1\": \"US\", \"name\": \"United States o...</td>\n",
              "      <td>[{\"iso_639_1\": \"en\", \"name\": \"English\"}]</td>\n",
              "      <td>Look closer.</td>\n",
              "      <td>Kevin Spacey Annette Bening Thora Birch Wes Be...</td>\n",
              "      <td>[{'name': 'Thomas Newman', 'gender': 2, 'depar...</td>\n",
              "      <td>Sam Mendes</td>\n",
              "    </tr>\n",
              "  </tbody>\n",
              "</table>\n",
              "<p>5 rows × 21 columns</p>\n",
              "</div>\n",
              "    <div class=\"colab-df-buttons\">\n",
              "\n",
              "  <div class=\"colab-df-container\">\n",
              "    <button class=\"colab-df-convert\" onclick=\"convertToInteractive('df-2305480c-8116-4a4a-b674-87fc5004f80f')\"\n",
              "            title=\"Convert this dataframe to an interactive table.\"\n",
              "            style=\"display:none;\">\n",
              "\n",
              "  <svg xmlns=\"http://www.w3.org/2000/svg\" height=\"24px\" viewBox=\"0 -960 960 960\">\n",
              "    <path d=\"M120-120v-720h720v720H120Zm60-500h600v-160H180v160Zm220 220h160v-160H400v160Zm0 220h160v-160H400v160ZM180-400h160v-160H180v160Zm440 0h160v-160H620v160ZM180-180h160v-160H180v160Zm440 0h160v-160H620v160Z\"/>\n",
              "  </svg>\n",
              "    </button>\n",
              "\n",
              "  <style>\n",
              "    .colab-df-container {\n",
              "      display:flex;\n",
              "      gap: 12px;\n",
              "    }\n",
              "\n",
              "    .colab-df-convert {\n",
              "      background-color: #E8F0FE;\n",
              "      border: none;\n",
              "      border-radius: 50%;\n",
              "      cursor: pointer;\n",
              "      display: none;\n",
              "      fill: #1967D2;\n",
              "      height: 32px;\n",
              "      padding: 0 0 0 0;\n",
              "      width: 32px;\n",
              "    }\n",
              "\n",
              "    .colab-df-convert:hover {\n",
              "      background-color: #E2EBFA;\n",
              "      box-shadow: 0px 1px 2px rgba(60, 64, 67, 0.3), 0px 1px 3px 1px rgba(60, 64, 67, 0.15);\n",
              "      fill: #174EA6;\n",
              "    }\n",
              "\n",
              "    .colab-df-buttons div {\n",
              "      margin-bottom: 4px;\n",
              "    }\n",
              "\n",
              "    [theme=dark] .colab-df-convert {\n",
              "      background-color: #3B4455;\n",
              "      fill: #D2E3FC;\n",
              "    }\n",
              "\n",
              "    [theme=dark] .colab-df-convert:hover {\n",
              "      background-color: #434B5C;\n",
              "      box-shadow: 0px 1px 3px 1px rgba(0, 0, 0, 0.15);\n",
              "      filter: drop-shadow(0px 1px 2px rgba(0, 0, 0, 0.3));\n",
              "      fill: #FFFFFF;\n",
              "    }\n",
              "  </style>\n",
              "\n",
              "    <script>\n",
              "      const buttonEl =\n",
              "        document.querySelector('#df-2305480c-8116-4a4a-b674-87fc5004f80f button.colab-df-convert');\n",
              "      buttonEl.style.display =\n",
              "        google.colab.kernel.accessAllowed ? 'block' : 'none';\n",
              "\n",
              "      async function convertToInteractive(key) {\n",
              "        const element = document.querySelector('#df-2305480c-8116-4a4a-b674-87fc5004f80f');\n",
              "        const dataTable =\n",
              "          await google.colab.kernel.invokeFunction('convertToInteractive',\n",
              "                                                    [key], {});\n",
              "        if (!dataTable) return;\n",
              "\n",
              "        const docLinkHtml = 'Like what you see? Visit the ' +\n",
              "          '<a target=\"_blank\" href=https://colab.research.google.com/notebooks/data_table.ipynb>data table notebook</a>'\n",
              "          + ' to learn more about interactive tables.';\n",
              "        element.innerHTML = '';\n",
              "        dataTable['output_type'] = 'display_data';\n",
              "        await google.colab.output.renderOutput(dataTable, element);\n",
              "        const docLink = document.createElement('div');\n",
              "        docLink.innerHTML = docLinkHtml;\n",
              "        element.appendChild(docLink);\n",
              "      }\n",
              "    </script>\n",
              "  </div>\n",
              "\n",
              "\n",
              "<div id=\"df-359372c8-e949-4026-ac4e-412708db42cc\">\n",
              "  <button class=\"colab-df-quickchart\" onclick=\"quickchart('df-359372c8-e949-4026-ac4e-412708db42cc')\"\n",
              "            title=\"Suggest charts\"\n",
              "            style=\"display:none;\">\n",
              "\n",
              "<svg xmlns=\"http://www.w3.org/2000/svg\" height=\"24px\"viewBox=\"0 0 24 24\"\n",
              "     width=\"24px\">\n",
              "    <g>\n",
              "        <path d=\"M19 3H5c-1.1 0-2 .9-2 2v14c0 1.1.9 2 2 2h14c1.1 0 2-.9 2-2V5c0-1.1-.9-2-2-2zM9 17H7v-7h2v7zm4 0h-2V7h2v10zm4 0h-2v-4h2v4z\"/>\n",
              "    </g>\n",
              "</svg>\n",
              "  </button>\n",
              "\n",
              "<style>\n",
              "  .colab-df-quickchart {\n",
              "      --bg-color: #E8F0FE;\n",
              "      --fill-color: #1967D2;\n",
              "      --hover-bg-color: #E2EBFA;\n",
              "      --hover-fill-color: #174EA6;\n",
              "      --disabled-fill-color: #AAA;\n",
              "      --disabled-bg-color: #DDD;\n",
              "  }\n",
              "\n",
              "  [theme=dark] .colab-df-quickchart {\n",
              "      --bg-color: #3B4455;\n",
              "      --fill-color: #D2E3FC;\n",
              "      --hover-bg-color: #434B5C;\n",
              "      --hover-fill-color: #FFFFFF;\n",
              "      --disabled-bg-color: #3B4455;\n",
              "      --disabled-fill-color: #666;\n",
              "  }\n",
              "\n",
              "  .colab-df-quickchart {\n",
              "    background-color: var(--bg-color);\n",
              "    border: none;\n",
              "    border-radius: 50%;\n",
              "    cursor: pointer;\n",
              "    display: none;\n",
              "    fill: var(--fill-color);\n",
              "    height: 32px;\n",
              "    padding: 0;\n",
              "    width: 32px;\n",
              "  }\n",
              "\n",
              "  .colab-df-quickchart:hover {\n",
              "    background-color: var(--hover-bg-color);\n",
              "    box-shadow: 0 1px 2px rgba(60, 64, 67, 0.3), 0 1px 3px 1px rgba(60, 64, 67, 0.15);\n",
              "    fill: var(--button-hover-fill-color);\n",
              "  }\n",
              "\n",
              "  .colab-df-quickchart-complete:disabled,\n",
              "  .colab-df-quickchart-complete:disabled:hover {\n",
              "    background-color: var(--disabled-bg-color);\n",
              "    fill: var(--disabled-fill-color);\n",
              "    box-shadow: none;\n",
              "  }\n",
              "\n",
              "  .colab-df-spinner {\n",
              "    border: 2px solid var(--fill-color);\n",
              "    border-color: transparent;\n",
              "    border-bottom-color: var(--fill-color);\n",
              "    animation:\n",
              "      spin 1s steps(1) infinite;\n",
              "  }\n",
              "\n",
              "  @keyframes spin {\n",
              "    0% {\n",
              "      border-color: transparent;\n",
              "      border-bottom-color: var(--fill-color);\n",
              "      border-left-color: var(--fill-color);\n",
              "    }\n",
              "    20% {\n",
              "      border-color: transparent;\n",
              "      border-left-color: var(--fill-color);\n",
              "      border-top-color: var(--fill-color);\n",
              "    }\n",
              "    30% {\n",
              "      border-color: transparent;\n",
              "      border-left-color: var(--fill-color);\n",
              "      border-top-color: var(--fill-color);\n",
              "      border-right-color: var(--fill-color);\n",
              "    }\n",
              "    40% {\n",
              "      border-color: transparent;\n",
              "      border-right-color: var(--fill-color);\n",
              "      border-top-color: var(--fill-color);\n",
              "    }\n",
              "    60% {\n",
              "      border-color: transparent;\n",
              "      border-right-color: var(--fill-color);\n",
              "    }\n",
              "    80% {\n",
              "      border-color: transparent;\n",
              "      border-right-color: var(--fill-color);\n",
              "      border-bottom-color: var(--fill-color);\n",
              "    }\n",
              "    90% {\n",
              "      border-color: transparent;\n",
              "      border-bottom-color: var(--fill-color);\n",
              "    }\n",
              "  }\n",
              "</style>\n",
              "\n",
              "  <script>\n",
              "    async function quickchart(key) {\n",
              "      const quickchartButtonEl =\n",
              "        document.querySelector('#' + key + ' button');\n",
              "      quickchartButtonEl.disabled = true;  // To prevent multiple clicks.\n",
              "      quickchartButtonEl.classList.add('colab-df-spinner');\n",
              "      try {\n",
              "        const charts = await google.colab.kernel.invokeFunction(\n",
              "            'suggestCharts', [key], {});\n",
              "      } catch (error) {\n",
              "        console.error('Error during call to suggestCharts:', error);\n",
              "      }\n",
              "      quickchartButtonEl.classList.remove('colab-df-spinner');\n",
              "      quickchartButtonEl.classList.add('colab-df-quickchart-complete');\n",
              "    }\n",
              "    (() => {\n",
              "      let quickchartButtonEl =\n",
              "        document.querySelector('#df-359372c8-e949-4026-ac4e-412708db42cc button');\n",
              "      quickchartButtonEl.style.display =\n",
              "        google.colab.kernel.accessAllowed ? 'block' : 'none';\n",
              "    })();\n",
              "  </script>\n",
              "</div>\n",
              "\n",
              "    </div>\n",
              "  </div>\n"
            ],
            "application/vnd.google.colaboratory.intrinsic+json": {
              "type": "dataframe",
              "variable_name": "df"
            }
          },
          "metadata": {},
          "execution_count": 5
        }
      ]
    },
    {
      "cell_type": "code",
      "source": [
        "df.info()\n"
      ],
      "metadata": {
        "colab": {
          "base_uri": "https://localhost:8080/"
        },
        "id": "f9lTAMFREpzm",
        "outputId": "bc8893eb-364b-4302-c28a-77e6b93cc403"
      },
      "execution_count": 6,
      "outputs": [
        {
          "output_type": "stream",
          "name": "stdout",
          "text": [
            "<class 'pandas.core.frame.DataFrame'>\n",
            "RangeIndex: 4760 entries, 0 to 4759\n",
            "Data columns (total 21 columns):\n",
            " #   Column                    Non-Null Count  Dtype  \n",
            "---  ------                    --------------  -----  \n",
            " 0   Movie_ID                  4760 non-null   int64  \n",
            " 1   Movie_Title               4760 non-null   object \n",
            " 2   Movie_Genre               4760 non-null   object \n",
            " 3   Movie_Language            4760 non-null   object \n",
            " 4   Movie_Budget              4760 non-null   int64  \n",
            " 5   Movie_Popularity          4760 non-null   float64\n",
            " 6   Movie_Release_Date        4760 non-null   object \n",
            " 7   Movie_Revenue             4760 non-null   int64  \n",
            " 8   Movie_Runtime             4758 non-null   float64\n",
            " 9   Movie_Vote                4760 non-null   float64\n",
            " 10  Movie_Vote_Count          4760 non-null   int64  \n",
            " 11  Movie_Homepage            1699 non-null   object \n",
            " 12  Movie_Keywords            4373 non-null   object \n",
            " 13  Movie_Overview            4757 non-null   object \n",
            " 14  Movie_Production_House    4760 non-null   object \n",
            " 15  Movie_Production_Country  4760 non-null   object \n",
            " 16  Movie_Spoken_Language     4760 non-null   object \n",
            " 17  Movie_Tagline             3942 non-null   object \n",
            " 18  Movie_Cast                4733 non-null   object \n",
            " 19  Movie_Crew                4760 non-null   object \n",
            " 20  Movie_Director            4738 non-null   object \n",
            "dtypes: float64(3), int64(4), object(14)\n",
            "memory usage: 781.1+ KB\n"
          ]
        }
      ]
    },
    {
      "cell_type": "code",
      "source": [
        "df.shape"
      ],
      "metadata": {
        "colab": {
          "base_uri": "https://localhost:8080/"
        },
        "id": "FYg5qMEkEtKu",
        "outputId": "ad5d0472-0b5a-4641-a8cd-8feab1f84d6c"
      },
      "execution_count": 7,
      "outputs": [
        {
          "output_type": "execute_result",
          "data": {
            "text/plain": [
              "(4760, 21)"
            ]
          },
          "metadata": {},
          "execution_count": 7
        }
      ]
    },
    {
      "cell_type": "code",
      "source": [
        "df.columns"
      ],
      "metadata": {
        "colab": {
          "base_uri": "https://localhost:8080/"
        },
        "id": "j3_eLd4sEuRo",
        "outputId": "6ddd166e-4e7b-4afc-b2db-680ae18ecb30"
      },
      "execution_count": 8,
      "outputs": [
        {
          "output_type": "execute_result",
          "data": {
            "text/plain": [
              "Index(['Movie_ID', 'Movie_Title', 'Movie_Genre', 'Movie_Language',\n",
              "       'Movie_Budget', 'Movie_Popularity', 'Movie_Release_Date',\n",
              "       'Movie_Revenue', 'Movie_Runtime', 'Movie_Vote', 'Movie_Vote_Count',\n",
              "       'Movie_Homepage', 'Movie_Keywords', 'Movie_Overview',\n",
              "       'Movie_Production_House', 'Movie_Production_Country',\n",
              "       'Movie_Spoken_Language', 'Movie_Tagline', 'Movie_Cast', 'Movie_Crew',\n",
              "       'Movie_Director'],\n",
              "      dtype='object')"
            ]
          },
          "metadata": {},
          "execution_count": 8
        }
      ]
    },
    {
      "cell_type": "markdown",
      "source": [
        "Featured Selections"
      ],
      "metadata": {
        "id": "VBf_5lcwFFHL"
      }
    },
    {
      "cell_type": "code",
      "source": [
        "df_features = df[['Movie_Genre', 'Movie_Language','Movie_Keywords','Movie_Tagline','Movie_Cast','Movie_Director']]"
      ],
      "metadata": {
        "id": "ZznGp8KyFGH6"
      },
      "execution_count": 9,
      "outputs": []
    },
    {
      "cell_type": "code",
      "source": [
        "df_features.shape"
      ],
      "metadata": {
        "colab": {
          "base_uri": "https://localhost:8080/"
        },
        "id": "Kpn0K-J8FeIV",
        "outputId": "5e8e01c3-fed0-4b30-9149-90961dd71a80"
      },
      "execution_count": 10,
      "outputs": [
        {
          "output_type": "execute_result",
          "data": {
            "text/plain": [
              "(4760, 6)"
            ]
          },
          "metadata": {},
          "execution_count": 10
        }
      ]
    },
    {
      "cell_type": "code",
      "source": [
        "df_features"
      ],
      "metadata": {
        "colab": {
          "base_uri": "https://localhost:8080/",
          "height": 580
        },
        "id": "I2bclSmvFicW",
        "outputId": "4fb1fb2a-c71d-407b-c846-ebc177fdb22c"
      },
      "execution_count": 11,
      "outputs": [
        {
          "output_type": "execute_result",
          "data": {
            "text/plain": [
              "                           Movie_Genre Movie_Language  \\\n",
              "0                         Crime Comedy             en   \n",
              "1     Adventure Action Science Fiction             en   \n",
              "2                     Animation Family             en   \n",
              "3                 Comedy Drama Romance             en   \n",
              "4                                Drama             en   \n",
              "...                                ...            ...   \n",
              "4755                            Horror             en   \n",
              "4756               Comedy Family Drama             en   \n",
              "4757                    Thriller Drama             en   \n",
              "4758                            Family             en   \n",
              "4759                       Documentary             en   \n",
              "\n",
              "                                         Movie_Keywords  \\\n",
              "0             hotel new year's eve witch bet hotel room   \n",
              "1           android galaxy hermit death star lightsaber   \n",
              "2     father son relationship harbor underwater fish...   \n",
              "3     vietnam veteran hippie mentally disabled runni...   \n",
              "4     male nudity female nudity adultery midlife cri...   \n",
              "...                                                 ...   \n",
              "4755                                                NaN   \n",
              "4756                                                NaN   \n",
              "4757                     christian film sex trafficking   \n",
              "4758                                                NaN   \n",
              "4759  music actors legendary perfomer classic hollyw...   \n",
              "\n",
              "                                          Movie_Tagline  \\\n",
              "0     Twelve outrageous guests. Four scandalous requ...   \n",
              "1          A long time ago in a galaxy far, far away...   \n",
              "2     There are 3.7 trillion fish in the ocean, they...   \n",
              "3     The world will never be the same, once you've ...   \n",
              "4                                          Look closer.   \n",
              "...                                                 ...   \n",
              "4755                The hot spot where Satan's waitin'.   \n",
              "4756           It’s better to stand out than to fit in.   \n",
              "4757           She never knew it could happen to her...   \n",
              "4758                                                NaN   \n",
              "4759                                                NaN   \n",
              "\n",
              "                                             Movie_Cast     Movie_Director  \n",
              "0     Tim Roth Antonio Banderas Jennifer Beals Madon...     Allison Anders  \n",
              "1     Mark Hamill Harrison Ford Carrie Fisher Peter ...       George Lucas  \n",
              "2     Albert Brooks Ellen DeGeneres Alexander Gould ...     Andrew Stanton  \n",
              "3     Tom Hanks Robin Wright Gary Sinise Mykelti Wil...    Robert Zemeckis  \n",
              "4     Kevin Spacey Annette Bening Thora Birch Wes Be...         Sam Mendes  \n",
              "...                                                 ...                ...  \n",
              "4755  Lisa Hart Carroll Michael Des Barres Paul Drak...         Pece Dingo  \n",
              "4756  Roni Akurati Brighton Sharbino Jason Lee Anjul...       Frank Lotito  \n",
              "4757  Nicole Smolen Kim Baldwin Ariana Stephens Brys...       Jaco Booyens  \n",
              "4758                                                NaN                NaN  \n",
              "4759                                    Tony Oppedisano  Simon Napier-Bell  \n",
              "\n",
              "[4760 rows x 6 columns]"
            ],
            "text/html": [
              "\n",
              "  <div id=\"df-f995ea10-f274-49c9-9912-3933a87bd18d\" class=\"colab-df-container\">\n",
              "    <div>\n",
              "<style scoped>\n",
              "    .dataframe tbody tr th:only-of-type {\n",
              "        vertical-align: middle;\n",
              "    }\n",
              "\n",
              "    .dataframe tbody tr th {\n",
              "        vertical-align: top;\n",
              "    }\n",
              "\n",
              "    .dataframe thead th {\n",
              "        text-align: right;\n",
              "    }\n",
              "</style>\n",
              "<table border=\"1\" class=\"dataframe\">\n",
              "  <thead>\n",
              "    <tr style=\"text-align: right;\">\n",
              "      <th></th>\n",
              "      <th>Movie_Genre</th>\n",
              "      <th>Movie_Language</th>\n",
              "      <th>Movie_Keywords</th>\n",
              "      <th>Movie_Tagline</th>\n",
              "      <th>Movie_Cast</th>\n",
              "      <th>Movie_Director</th>\n",
              "    </tr>\n",
              "  </thead>\n",
              "  <tbody>\n",
              "    <tr>\n",
              "      <th>0</th>\n",
              "      <td>Crime Comedy</td>\n",
              "      <td>en</td>\n",
              "      <td>hotel new year's eve witch bet hotel room</td>\n",
              "      <td>Twelve outrageous guests. Four scandalous requ...</td>\n",
              "      <td>Tim Roth Antonio Banderas Jennifer Beals Madon...</td>\n",
              "      <td>Allison Anders</td>\n",
              "    </tr>\n",
              "    <tr>\n",
              "      <th>1</th>\n",
              "      <td>Adventure Action Science Fiction</td>\n",
              "      <td>en</td>\n",
              "      <td>android galaxy hermit death star lightsaber</td>\n",
              "      <td>A long time ago in a galaxy far, far away...</td>\n",
              "      <td>Mark Hamill Harrison Ford Carrie Fisher Peter ...</td>\n",
              "      <td>George Lucas</td>\n",
              "    </tr>\n",
              "    <tr>\n",
              "      <th>2</th>\n",
              "      <td>Animation Family</td>\n",
              "      <td>en</td>\n",
              "      <td>father son relationship harbor underwater fish...</td>\n",
              "      <td>There are 3.7 trillion fish in the ocean, they...</td>\n",
              "      <td>Albert Brooks Ellen DeGeneres Alexander Gould ...</td>\n",
              "      <td>Andrew Stanton</td>\n",
              "    </tr>\n",
              "    <tr>\n",
              "      <th>3</th>\n",
              "      <td>Comedy Drama Romance</td>\n",
              "      <td>en</td>\n",
              "      <td>vietnam veteran hippie mentally disabled runni...</td>\n",
              "      <td>The world will never be the same, once you've ...</td>\n",
              "      <td>Tom Hanks Robin Wright Gary Sinise Mykelti Wil...</td>\n",
              "      <td>Robert Zemeckis</td>\n",
              "    </tr>\n",
              "    <tr>\n",
              "      <th>4</th>\n",
              "      <td>Drama</td>\n",
              "      <td>en</td>\n",
              "      <td>male nudity female nudity adultery midlife cri...</td>\n",
              "      <td>Look closer.</td>\n",
              "      <td>Kevin Spacey Annette Bening Thora Birch Wes Be...</td>\n",
              "      <td>Sam Mendes</td>\n",
              "    </tr>\n",
              "    <tr>\n",
              "      <th>...</th>\n",
              "      <td>...</td>\n",
              "      <td>...</td>\n",
              "      <td>...</td>\n",
              "      <td>...</td>\n",
              "      <td>...</td>\n",
              "      <td>...</td>\n",
              "    </tr>\n",
              "    <tr>\n",
              "      <th>4755</th>\n",
              "      <td>Horror</td>\n",
              "      <td>en</td>\n",
              "      <td>NaN</td>\n",
              "      <td>The hot spot where Satan's waitin'.</td>\n",
              "      <td>Lisa Hart Carroll Michael Des Barres Paul Drak...</td>\n",
              "      <td>Pece Dingo</td>\n",
              "    </tr>\n",
              "    <tr>\n",
              "      <th>4756</th>\n",
              "      <td>Comedy Family Drama</td>\n",
              "      <td>en</td>\n",
              "      <td>NaN</td>\n",
              "      <td>It’s better to stand out than to fit in.</td>\n",
              "      <td>Roni Akurati Brighton Sharbino Jason Lee Anjul...</td>\n",
              "      <td>Frank Lotito</td>\n",
              "    </tr>\n",
              "    <tr>\n",
              "      <th>4757</th>\n",
              "      <td>Thriller Drama</td>\n",
              "      <td>en</td>\n",
              "      <td>christian film sex trafficking</td>\n",
              "      <td>She never knew it could happen to her...</td>\n",
              "      <td>Nicole Smolen Kim Baldwin Ariana Stephens Brys...</td>\n",
              "      <td>Jaco Booyens</td>\n",
              "    </tr>\n",
              "    <tr>\n",
              "      <th>4758</th>\n",
              "      <td>Family</td>\n",
              "      <td>en</td>\n",
              "      <td>NaN</td>\n",
              "      <td>NaN</td>\n",
              "      <td>NaN</td>\n",
              "      <td>NaN</td>\n",
              "    </tr>\n",
              "    <tr>\n",
              "      <th>4759</th>\n",
              "      <td>Documentary</td>\n",
              "      <td>en</td>\n",
              "      <td>music actors legendary perfomer classic hollyw...</td>\n",
              "      <td>NaN</td>\n",
              "      <td>Tony Oppedisano</td>\n",
              "      <td>Simon Napier-Bell</td>\n",
              "    </tr>\n",
              "  </tbody>\n",
              "</table>\n",
              "<p>4760 rows × 6 columns</p>\n",
              "</div>\n",
              "    <div class=\"colab-df-buttons\">\n",
              "\n",
              "  <div class=\"colab-df-container\">\n",
              "    <button class=\"colab-df-convert\" onclick=\"convertToInteractive('df-f995ea10-f274-49c9-9912-3933a87bd18d')\"\n",
              "            title=\"Convert this dataframe to an interactive table.\"\n",
              "            style=\"display:none;\">\n",
              "\n",
              "  <svg xmlns=\"http://www.w3.org/2000/svg\" height=\"24px\" viewBox=\"0 -960 960 960\">\n",
              "    <path d=\"M120-120v-720h720v720H120Zm60-500h600v-160H180v160Zm220 220h160v-160H400v160Zm0 220h160v-160H400v160ZM180-400h160v-160H180v160Zm440 0h160v-160H620v160ZM180-180h160v-160H180v160Zm440 0h160v-160H620v160Z\"/>\n",
              "  </svg>\n",
              "    </button>\n",
              "\n",
              "  <style>\n",
              "    .colab-df-container {\n",
              "      display:flex;\n",
              "      gap: 12px;\n",
              "    }\n",
              "\n",
              "    .colab-df-convert {\n",
              "      background-color: #E8F0FE;\n",
              "      border: none;\n",
              "      border-radius: 50%;\n",
              "      cursor: pointer;\n",
              "      display: none;\n",
              "      fill: #1967D2;\n",
              "      height: 32px;\n",
              "      padding: 0 0 0 0;\n",
              "      width: 32px;\n",
              "    }\n",
              "\n",
              "    .colab-df-convert:hover {\n",
              "      background-color: #E2EBFA;\n",
              "      box-shadow: 0px 1px 2px rgba(60, 64, 67, 0.3), 0px 1px 3px 1px rgba(60, 64, 67, 0.15);\n",
              "      fill: #174EA6;\n",
              "    }\n",
              "\n",
              "    .colab-df-buttons div {\n",
              "      margin-bottom: 4px;\n",
              "    }\n",
              "\n",
              "    [theme=dark] .colab-df-convert {\n",
              "      background-color: #3B4455;\n",
              "      fill: #D2E3FC;\n",
              "    }\n",
              "\n",
              "    [theme=dark] .colab-df-convert:hover {\n",
              "      background-color: #434B5C;\n",
              "      box-shadow: 0px 1px 3px 1px rgba(0, 0, 0, 0.15);\n",
              "      filter: drop-shadow(0px 1px 2px rgba(0, 0, 0, 0.3));\n",
              "      fill: #FFFFFF;\n",
              "    }\n",
              "  </style>\n",
              "\n",
              "    <script>\n",
              "      const buttonEl =\n",
              "        document.querySelector('#df-f995ea10-f274-49c9-9912-3933a87bd18d button.colab-df-convert');\n",
              "      buttonEl.style.display =\n",
              "        google.colab.kernel.accessAllowed ? 'block' : 'none';\n",
              "\n",
              "      async function convertToInteractive(key) {\n",
              "        const element = document.querySelector('#df-f995ea10-f274-49c9-9912-3933a87bd18d');\n",
              "        const dataTable =\n",
              "          await google.colab.kernel.invokeFunction('convertToInteractive',\n",
              "                                                    [key], {});\n",
              "        if (!dataTable) return;\n",
              "\n",
              "        const docLinkHtml = 'Like what you see? Visit the ' +\n",
              "          '<a target=\"_blank\" href=https://colab.research.google.com/notebooks/data_table.ipynb>data table notebook</a>'\n",
              "          + ' to learn more about interactive tables.';\n",
              "        element.innerHTML = '';\n",
              "        dataTable['output_type'] = 'display_data';\n",
              "        await google.colab.output.renderOutput(dataTable, element);\n",
              "        const docLink = document.createElement('div');\n",
              "        docLink.innerHTML = docLinkHtml;\n",
              "        element.appendChild(docLink);\n",
              "      }\n",
              "    </script>\n",
              "  </div>\n",
              "\n",
              "\n",
              "<div id=\"df-2e64818f-e66e-4d5d-96b8-1b561b8488a3\">\n",
              "  <button class=\"colab-df-quickchart\" onclick=\"quickchart('df-2e64818f-e66e-4d5d-96b8-1b561b8488a3')\"\n",
              "            title=\"Suggest charts\"\n",
              "            style=\"display:none;\">\n",
              "\n",
              "<svg xmlns=\"http://www.w3.org/2000/svg\" height=\"24px\"viewBox=\"0 0 24 24\"\n",
              "     width=\"24px\">\n",
              "    <g>\n",
              "        <path d=\"M19 3H5c-1.1 0-2 .9-2 2v14c0 1.1.9 2 2 2h14c1.1 0 2-.9 2-2V5c0-1.1-.9-2-2-2zM9 17H7v-7h2v7zm4 0h-2V7h2v10zm4 0h-2v-4h2v4z\"/>\n",
              "    </g>\n",
              "</svg>\n",
              "  </button>\n",
              "\n",
              "<style>\n",
              "  .colab-df-quickchart {\n",
              "      --bg-color: #E8F0FE;\n",
              "      --fill-color: #1967D2;\n",
              "      --hover-bg-color: #E2EBFA;\n",
              "      --hover-fill-color: #174EA6;\n",
              "      --disabled-fill-color: #AAA;\n",
              "      --disabled-bg-color: #DDD;\n",
              "  }\n",
              "\n",
              "  [theme=dark] .colab-df-quickchart {\n",
              "      --bg-color: #3B4455;\n",
              "      --fill-color: #D2E3FC;\n",
              "      --hover-bg-color: #434B5C;\n",
              "      --hover-fill-color: #FFFFFF;\n",
              "      --disabled-bg-color: #3B4455;\n",
              "      --disabled-fill-color: #666;\n",
              "  }\n",
              "\n",
              "  .colab-df-quickchart {\n",
              "    background-color: var(--bg-color);\n",
              "    border: none;\n",
              "    border-radius: 50%;\n",
              "    cursor: pointer;\n",
              "    display: none;\n",
              "    fill: var(--fill-color);\n",
              "    height: 32px;\n",
              "    padding: 0;\n",
              "    width: 32px;\n",
              "  }\n",
              "\n",
              "  .colab-df-quickchart:hover {\n",
              "    background-color: var(--hover-bg-color);\n",
              "    box-shadow: 0 1px 2px rgba(60, 64, 67, 0.3), 0 1px 3px 1px rgba(60, 64, 67, 0.15);\n",
              "    fill: var(--button-hover-fill-color);\n",
              "  }\n",
              "\n",
              "  .colab-df-quickchart-complete:disabled,\n",
              "  .colab-df-quickchart-complete:disabled:hover {\n",
              "    background-color: var(--disabled-bg-color);\n",
              "    fill: var(--disabled-fill-color);\n",
              "    box-shadow: none;\n",
              "  }\n",
              "\n",
              "  .colab-df-spinner {\n",
              "    border: 2px solid var(--fill-color);\n",
              "    border-color: transparent;\n",
              "    border-bottom-color: var(--fill-color);\n",
              "    animation:\n",
              "      spin 1s steps(1) infinite;\n",
              "  }\n",
              "\n",
              "  @keyframes spin {\n",
              "    0% {\n",
              "      border-color: transparent;\n",
              "      border-bottom-color: var(--fill-color);\n",
              "      border-left-color: var(--fill-color);\n",
              "    }\n",
              "    20% {\n",
              "      border-color: transparent;\n",
              "      border-left-color: var(--fill-color);\n",
              "      border-top-color: var(--fill-color);\n",
              "    }\n",
              "    30% {\n",
              "      border-color: transparent;\n",
              "      border-left-color: var(--fill-color);\n",
              "      border-top-color: var(--fill-color);\n",
              "      border-right-color: var(--fill-color);\n",
              "    }\n",
              "    40% {\n",
              "      border-color: transparent;\n",
              "      border-right-color: var(--fill-color);\n",
              "      border-top-color: var(--fill-color);\n",
              "    }\n",
              "    60% {\n",
              "      border-color: transparent;\n",
              "      border-right-color: var(--fill-color);\n",
              "    }\n",
              "    80% {\n",
              "      border-color: transparent;\n",
              "      border-right-color: var(--fill-color);\n",
              "      border-bottom-color: var(--fill-color);\n",
              "    }\n",
              "    90% {\n",
              "      border-color: transparent;\n",
              "      border-bottom-color: var(--fill-color);\n",
              "    }\n",
              "  }\n",
              "</style>\n",
              "\n",
              "  <script>\n",
              "    async function quickchart(key) {\n",
              "      const quickchartButtonEl =\n",
              "        document.querySelector('#' + key + ' button');\n",
              "      quickchartButtonEl.disabled = true;  // To prevent multiple clicks.\n",
              "      quickchartButtonEl.classList.add('colab-df-spinner');\n",
              "      try {\n",
              "        const charts = await google.colab.kernel.invokeFunction(\n",
              "            'suggestCharts', [key], {});\n",
              "      } catch (error) {\n",
              "        console.error('Error during call to suggestCharts:', error);\n",
              "      }\n",
              "      quickchartButtonEl.classList.remove('colab-df-spinner');\n",
              "      quickchartButtonEl.classList.add('colab-df-quickchart-complete');\n",
              "    }\n",
              "    (() => {\n",
              "      let quickchartButtonEl =\n",
              "        document.querySelector('#df-2e64818f-e66e-4d5d-96b8-1b561b8488a3 button');\n",
              "      quickchartButtonEl.style.display =\n",
              "        google.colab.kernel.accessAllowed ? 'block' : 'none';\n",
              "    })();\n",
              "  </script>\n",
              "</div>\n",
              "\n",
              "  <div id=\"id_6f66f4eb-1790-47a7-ac96-bbf0b71d0d91\">\n",
              "    <style>\n",
              "      .colab-df-generate {\n",
              "        background-color: #E8F0FE;\n",
              "        border: none;\n",
              "        border-radius: 50%;\n",
              "        cursor: pointer;\n",
              "        display: none;\n",
              "        fill: #1967D2;\n",
              "        height: 32px;\n",
              "        padding: 0 0 0 0;\n",
              "        width: 32px;\n",
              "      }\n",
              "\n",
              "      .colab-df-generate:hover {\n",
              "        background-color: #E2EBFA;\n",
              "        box-shadow: 0px 1px 2px rgba(60, 64, 67, 0.3), 0px 1px 3px 1px rgba(60, 64, 67, 0.15);\n",
              "        fill: #174EA6;\n",
              "      }\n",
              "\n",
              "      [theme=dark] .colab-df-generate {\n",
              "        background-color: #3B4455;\n",
              "        fill: #D2E3FC;\n",
              "      }\n",
              "\n",
              "      [theme=dark] .colab-df-generate:hover {\n",
              "        background-color: #434B5C;\n",
              "        box-shadow: 0px 1px 3px 1px rgba(0, 0, 0, 0.15);\n",
              "        filter: drop-shadow(0px 1px 2px rgba(0, 0, 0, 0.3));\n",
              "        fill: #FFFFFF;\n",
              "      }\n",
              "    </style>\n",
              "    <button class=\"colab-df-generate\" onclick=\"generateWithVariable('df_features')\"\n",
              "            title=\"Generate code using this dataframe.\"\n",
              "            style=\"display:none;\">\n",
              "\n",
              "  <svg xmlns=\"http://www.w3.org/2000/svg\" height=\"24px\"viewBox=\"0 0 24 24\"\n",
              "       width=\"24px\">\n",
              "    <path d=\"M7,19H8.4L18.45,9,17,7.55,7,17.6ZM5,21V16.75L18.45,3.32a2,2,0,0,1,2.83,0l1.4,1.43a1.91,1.91,0,0,1,.58,1.4,1.91,1.91,0,0,1-.58,1.4L9.25,21ZM18.45,9,17,7.55Zm-12,3A5.31,5.31,0,0,0,4.9,8.1,5.31,5.31,0,0,0,1,6.5,5.31,5.31,0,0,0,4.9,4.9,5.31,5.31,0,0,0,6.5,1,5.31,5.31,0,0,0,8.1,4.9,5.31,5.31,0,0,0,12,6.5,5.46,5.46,0,0,0,6.5,12Z\"/>\n",
              "  </svg>\n",
              "    </button>\n",
              "    <script>\n",
              "      (() => {\n",
              "      const buttonEl =\n",
              "        document.querySelector('#id_6f66f4eb-1790-47a7-ac96-bbf0b71d0d91 button.colab-df-generate');\n",
              "      buttonEl.style.display =\n",
              "        google.colab.kernel.accessAllowed ? 'block' : 'none';\n",
              "\n",
              "      buttonEl.onclick = () => {\n",
              "        google.colab.notebook.generateWithVariable('df_features');\n",
              "      }\n",
              "      })();\n",
              "    </script>\n",
              "  </div>\n",
              "\n",
              "    </div>\n",
              "  </div>\n"
            ],
            "application/vnd.google.colaboratory.intrinsic+json": {
              "type": "dataframe",
              "variable_name": "df_features",
              "summary": "{\n  \"name\": \"df_features\",\n  \"rows\": 4760,\n  \"fields\": [\n    {\n      \"column\": \"Movie_Genre\",\n      \"properties\": {\n        \"dtype\": \"category\",\n        \"num_unique_values\": 1164,\n        \"samples\": [\n          \"Family Animation Adventure\",\n          \"Adventure Science Fiction Action\",\n          \"Action Crime Drama Romance Thriller\"\n        ],\n        \"semantic_type\": \"\",\n        \"description\": \"\"\n      }\n    },\n    {\n      \"column\": \"Movie_Language\",\n      \"properties\": {\n        \"dtype\": \"category\",\n        \"num_unique_values\": 37,\n        \"samples\": [\n          \"he\",\n          \"fr\",\n          \"ja\"\n        ],\n        \"semantic_type\": \"\",\n        \"description\": \"\"\n      }\n    },\n    {\n      \"column\": \"Movie_Keywords\",\n      \"properties\": {\n        \"dtype\": \"string\",\n        \"num_unique_values\": 4202,\n        \"samples\": [\n          \"comedy cheating on partner amusement park summer job carny\",\n          \"dystopia\",\n          \"famous score hero mine vietnam war village\"\n        ],\n        \"semantic_type\": \"\",\n        \"description\": \"\"\n      }\n    },\n    {\n      \"column\": \"Movie_Tagline\",\n      \"properties\": {\n        \"dtype\": \"string\",\n        \"num_unique_values\": 3927,\n        \"samples\": [\n          \"Laughter is contagious\",\n          \"A comedy that doesn't let principles stand in the way of progress.\",\n          \"Evolution Begins\"\n        ],\n        \"semantic_type\": \"\",\n        \"description\": \"\"\n      }\n    },\n    {\n      \"column\": \"Movie_Cast\",\n      \"properties\": {\n        \"dtype\": \"string\",\n        \"num_unique_values\": 4714,\n        \"samples\": [\n          \"Robin Tunney Fairuza Balk Neve Campbell Rachel True Skeet Ulrich\",\n          \"Peter Sellers Christopher Plummer Herbert Lom Catherine Schell Peter Arne\",\n          \"Alan King Angela Bassett Timothy Hutton Mary Steenburgen Clifton James\"\n        ],\n        \"semantic_type\": \"\",\n        \"description\": \"\"\n      }\n    },\n    {\n      \"column\": \"Movie_Director\",\n      \"properties\": {\n        \"dtype\": \"category\",\n        \"num_unique_values\": 2331,\n        \"samples\": [\n          \"Dennis Gansel\",\n          \"\\\\u00c0lex Pastor\",\n          \"Michael D. Sellers\"\n        ],\n        \"semantic_type\": \"\",\n        \"description\": \"\"\n      }\n    }\n  ]\n}"
            }
          },
          "metadata": {},
          "execution_count": 11
        }
      ]
    },
    {
      "cell_type": "code",
      "source": [
        "X=df_features['Movie_Genre']+'  ' +df_features['Movie_Keywords']+'  ' +df_features['Movie_Tagline']+'  ' +df_features['Movie_Cast']+'  ' +df_features['Movie_Director']+'  ' +df_features['Movie_Language']"
      ],
      "metadata": {
        "id": "pTnXg9AlFybS"
      },
      "execution_count": 12,
      "outputs": []
    },
    {
      "cell_type": "code",
      "source": [
        "X"
      ],
      "metadata": {
        "colab": {
          "base_uri": "https://localhost:8080/"
        },
        "id": "dCbKXG-zGR1k",
        "outputId": "c0743da6-c4b5-4cb3-e89e-6582e290feae"
      },
      "execution_count": 13,
      "outputs": [
        {
          "output_type": "execute_result",
          "data": {
            "text/plain": [
              "0       Crime Comedy  hotel new year's eve witch bet h...\n",
              "1       Adventure Action Science Fiction  android gala...\n",
              "2       Animation Family  father son relationship harb...\n",
              "3       Comedy Drama Romance  vietnam veteran hippie m...\n",
              "4       Drama  male nudity female nudity adultery midl...\n",
              "                              ...                        \n",
              "4755                                                  NaN\n",
              "4756                                                  NaN\n",
              "4757    Thriller Drama  christian film sex trafficking...\n",
              "4758                                                  NaN\n",
              "4759                                                  NaN\n",
              "Length: 4760, dtype: object"
            ]
          },
          "metadata": {},
          "execution_count": 13
        }
      ]
    },
    {
      "cell_type": "code",
      "source": [
        "X.shape"
      ],
      "metadata": {
        "colab": {
          "base_uri": "https://localhost:8080/"
        },
        "id": "Hcc-q5vVGTpx",
        "outputId": "add709ee-b5cf-485f-cf0b-4a8e38a8a067"
      },
      "execution_count": 14,
      "outputs": [
        {
          "output_type": "execute_result",
          "data": {
            "text/plain": [
              "(4760,)"
            ]
          },
          "metadata": {},
          "execution_count": 14
        }
      ]
    },
    {
      "cell_type": "code",
      "source": [
        "!pip install tfIdfInheritVectorizer"
      ],
      "metadata": {
        "colab": {
          "base_uri": "https://localhost:8080/"
        },
        "id": "Sr11yI4qG2S2",
        "outputId": "ea45978d-2bb6-40fd-a711-9e9ce7708e1f"
      },
      "execution_count": 15,
      "outputs": [
        {
          "output_type": "stream",
          "name": "stdout",
          "text": [
            "Collecting tfIdfInheritVectorizer\n",
            "  Downloading tfIdfInheritVectorizer-0.1.tar.gz (4.5 kB)\n",
            "  Preparing metadata (setup.py) ... \u001b[?25l\u001b[?25hdone\n",
            "Requirement already satisfied: numpy in /usr/local/lib/python3.10/dist-packages (from tfIdfInheritVectorizer) (1.25.2)\n",
            "Requirement already satisfied: scikit-learn in /usr/local/lib/python3.10/dist-packages (from tfIdfInheritVectorizer) (1.2.2)\n",
            "Requirement already satisfied: scipy>=1.3.2 in /usr/local/lib/python3.10/dist-packages (from scikit-learn->tfIdfInheritVectorizer) (1.11.4)\n",
            "Requirement already satisfied: joblib>=1.1.1 in /usr/local/lib/python3.10/dist-packages (from scikit-learn->tfIdfInheritVectorizer) (1.3.2)\n",
            "Requirement already satisfied: threadpoolctl>=2.0.0 in /usr/local/lib/python3.10/dist-packages (from scikit-learn->tfIdfInheritVectorizer) (3.3.0)\n",
            "Building wheels for collected packages: tfIdfInheritVectorizer\n",
            "  Building wheel for tfIdfInheritVectorizer (setup.py) ... \u001b[?25l\u001b[?25hdone\n",
            "  Created wheel for tfIdfInheritVectorizer: filename=tfIdfInheritVectorizer-0.1-py3-none-any.whl size=5445 sha256=65dc2fbad14c7d03462ac994f609461ac8b4984e540fb49dbb64ae9c17b60dc0\n",
            "  Stored in directory: /root/.cache/pip/wheels/08/c6/7c/ebca9cd502a98191beb4c5fcc6b8596c246e6a62dffd635f16\n",
            "Successfully built tfIdfInheritVectorizer\n",
            "Installing collected packages: tfIdfInheritVectorizer\n",
            "Successfully installed tfIdfInheritVectorizer-0.1\n"
          ]
        }
      ]
    },
    {
      "cell_type": "code",
      "source": [
        "from tfIdfInheritVectorizer.feature_extraction.vectorizer import TFIDFVectorizer"
      ],
      "metadata": {
        "id": "dw-sZ5b3Gb2T"
      },
      "execution_count": 16,
      "outputs": []
    },
    {
      "cell_type": "code",
      "source": [
        "tfidf = TFIDFVectorizer()"
      ],
      "metadata": {
        "id": "DIDObmo2Giny"
      },
      "execution_count": 17,
      "outputs": []
    },
    {
      "cell_type": "code",
      "source": [
        "X = X.dropna()"
      ],
      "metadata": {
        "id": "_sCl8vQcIMRF"
      },
      "execution_count": 18,
      "outputs": []
    },
    {
      "cell_type": "code",
      "source": [
        "X=tfidf.fit_transform(X)"
      ],
      "metadata": {
        "id": "HNiXoO2MHjwB"
      },
      "execution_count": 19,
      "outputs": []
    },
    {
      "cell_type": "code",
      "source": [
        "X.shape"
      ],
      "metadata": {
        "colab": {
          "base_uri": "https://localhost:8080/"
        },
        "id": "eLPJJkjZIPKp",
        "outputId": "3c73f6ad-e4a9-4968-c5b9-0d459926f1f9"
      },
      "execution_count": 20,
      "outputs": [
        {
          "output_type": "execute_result",
          "data": {
            "text/plain": [
              "(3736, 14778)"
            ]
          },
          "metadata": {},
          "execution_count": 20
        }
      ]
    },
    {
      "cell_type": "code",
      "source": [
        "print(X)"
      ],
      "metadata": {
        "colab": {
          "base_uri": "https://localhost:8080/"
        },
        "id": "InJBDORRIhsY",
        "outputId": "8d72a440-4c05-457f-cd1a-14d17a5d9bb6"
      },
      "execution_count": 21,
      "outputs": [
        {
          "output_type": "stream",
          "name": "stdout",
          "text": [
            "  (0, 4197)\t0.02412902014749057\n",
            "  (0, 534)\t0.16525522119358685\n",
            "  (0, 429)\t0.14525334546058663\n",
            "  (0, 13210)\t0.14650357557019136\n",
            "  (0, 8255)\t0.1429390531699616\n",
            "  (0, 8085)\t0.1683429509439672\n",
            "  (0, 1180)\t0.1683429509439672\n",
            "  (0, 6728)\t0.09794255803341845\n",
            "  (0, 1036)\t0.14083545595218466\n",
            "  (0, 634)\t0.13712775275849362\n",
            "  (0, 11194)\t0.14406725859395142\n",
            "  (0, 13158)\t0.10708362122200264\n",
            "  (0, 7730)\t0.08547900547134035\n",
            "  (0, 9522)\t0.06101141472320384\n",
            "  (0, 14369)\t0.1761234085185671\n",
            "  (0, 4830)\t0.0838836402342425\n",
            "  (0, 14335)\t0.10572301560801835\n",
            "  (0, 6791)\t0.13248751899600825\n",
            "  (0, 13034)\t0.09255392586369823\n",
            "  (0, 9588)\t0.0711645754120168\n",
            "  (0, 3329)\t0.1190520023088396\n",
            "  (0, 4734)\t0.11350347318261823\n",
            "  (0, 6068)\t0.19433824114732626\n",
            "  (0, 6409)\t0.14424588691619225\n",
            "  (0, 1275)\t0.1973113711182025\n",
            "  :\t:\n",
            "  (3735, 1633)\t0.28531755898740707\n",
            "  (3735, 6620)\t0.28531755898740707\n",
            "  (3735, 1888)\t0.28531755898740707\n",
            "  (3735, 704)\t0.28531755898740707\n",
            "  (3735, 12140)\t0.28531755898740707\n",
            "  (3735, 4994)\t0.24342844289139165\n",
            "  (3735, 13298)\t0.24342844289139165\n",
            "  (3735, 12469)\t0.23896350247666234\n",
            "  (3735, 1012)\t0.18867108940619484\n",
            "  (3735, 2981)\t0.19590102445464563\n",
            "  (3735, 5719)\t0.22025141463601924\n",
            "  (3735, 11844)\t0.16155570459109977\n",
            "  (3735, 11754)\t0.14869320112694775\n",
            "  (3735, 9342)\t0.19058231722296323\n",
            "  (3735, 4692)\t0.13100000332142378\n",
            "  (3735, 2519)\t0.16596172449062443\n",
            "  (3735, 7252)\t0.23502514591693965\n",
            "  (3735, 5955)\t0.16691714330939852\n",
            "  (3735, 7179)\t0.1776867728631123\n",
            "  (3735, 13112)\t0.07503695828886164\n",
            "  (3735, 13182)\t0.09328655765371158\n",
            "  (3735, 6585)\t0.10952066879225276\n",
            "  (3735, 9296)\t0.14095205220019236\n",
            "  (3735, 3854)\t0.05955884028331617\n",
            "  (3735, 4197)\t0.03489121326472232\n"
          ]
        }
      ]
    },
    {
      "cell_type": "code",
      "source": [
        "from sklearn.metrics.pairwise import cosine_similarity"
      ],
      "metadata": {
        "id": "s1EOEjzkIiwq"
      },
      "execution_count": 22,
      "outputs": []
    },
    {
      "cell_type": "code",
      "source": [
        "Similarity_Score = cosine_similarity(X)"
      ],
      "metadata": {
        "id": "NADJczHjIx8D"
      },
      "execution_count": 23,
      "outputs": []
    },
    {
      "cell_type": "code",
      "source": [
        "Similarity_Score"
      ],
      "metadata": {
        "colab": {
          "base_uri": "https://localhost:8080/"
        },
        "id": "QHEkXjj8I3Am",
        "outputId": "2a13f1c2-3e98-45aa-cda3-6b5b0c2fa6e1"
      },
      "execution_count": 24,
      "outputs": [
        {
          "output_type": "execute_result",
          "data": {
            "text/plain": [
              "array([[1.00000000e+00, 1.36073778e-02, 3.41181438e-02, ...,\n",
              "        1.04281369e-02, 8.25035752e-02, 8.41890788e-04],\n",
              "       [1.36073778e-02, 1.00000000e+00, 8.49658377e-03, ...,\n",
              "        3.51161880e-03, 1.86516989e-02, 1.04280844e-03],\n",
              "       [3.41181438e-02, 8.49658377e-03, 1.00000000e+00, ...,\n",
              "        1.97502129e-02, 5.64374152e-02, 9.98454777e-04],\n",
              "       ...,\n",
              "       [1.04281369e-02, 3.51161880e-03, 1.97502129e-02, ...,\n",
              "        1.00000000e+00, 3.87700375e-03, 8.22059075e-03],\n",
              "       [8.25035752e-02, 1.86516989e-02, 5.64374152e-02, ...,\n",
              "        3.87700375e-03, 1.00000000e+00, 1.15131296e-03],\n",
              "       [8.41890788e-04, 1.04280844e-03, 9.98454777e-04, ...,\n",
              "        8.22059075e-03, 1.15131296e-03, 1.00000000e+00]])"
            ]
          },
          "metadata": {},
          "execution_count": 24
        }
      ]
    },
    {
      "cell_type": "code",
      "source": [
        "Similarity_Score.shape"
      ],
      "metadata": {
        "colab": {
          "base_uri": "https://localhost:8080/"
        },
        "id": "bIeGyXjVI5vD",
        "outputId": "0caa730c-8dee-4a8f-ccaa-e1ec9e1755d6"
      },
      "execution_count": 25,
      "outputs": [
        {
          "output_type": "execute_result",
          "data": {
            "text/plain": [
              "(3736, 3736)"
            ]
          },
          "metadata": {},
          "execution_count": 25
        }
      ]
    },
    {
      "cell_type": "markdown",
      "source": [
        "Get Movie name as input from user and validate for closest spelling"
      ],
      "metadata": {
        "id": "Szxz_Ub8rw8Q"
      }
    },
    {
      "cell_type": "code",
      "source": [
        "Favourite_Movie_Name = input('Enter your favourite movie name : ')\n"
      ],
      "metadata": {
        "colab": {
          "base_uri": "https://localhost:8080/"
        },
        "id": "bD_gVn0cI_W6",
        "outputId": "f9b26f32-3c45-416b-d7b7-20561a0d757d"
      },
      "execution_count": 26,
      "outputs": [
        {
          "name": "stdout",
          "output_type": "stream",
          "text": [
            "Enter your favourite movie name : avtaar\n"
          ]
        }
      ]
    },
    {
      "cell_type": "code",
      "source": [
        "All_Movies_Title_List = df['Movie_Title'].tolist()"
      ],
      "metadata": {
        "id": "zLjKXc6xsv6I"
      },
      "execution_count": 27,
      "outputs": []
    },
    {
      "cell_type": "code",
      "source": [
        "import difflib"
      ],
      "metadata": {
        "id": "c2Hf0W-ls_jQ"
      },
      "execution_count": 28,
      "outputs": []
    },
    {
      "cell_type": "code",
      "source": [
        "Movie_Recommendation = difflib.get_close_matches(Favourite_Movie_Name,All_Movies_Title_List)\n",
        "print(Movie_Recommendation)"
      ],
      "metadata": {
        "colab": {
          "base_uri": "https://localhost:8080/"
        },
        "id": "Ws86d6HztBPb",
        "outputId": "94464f88-9c29-49d6-b7c4-41e0b718d266"
      },
      "execution_count": 32,
      "outputs": [
        {
          "output_type": "stream",
          "name": "stdout",
          "text": [
            "['Avatar', 'Gattaca']\n"
          ]
        }
      ]
    },
    {
      "cell_type": "code",
      "source": [
        "Close_Match = Movie_Recommendation[0]\n",
        "print(Close_Match)"
      ],
      "metadata": {
        "colab": {
          "base_uri": "https://localhost:8080/"
        },
        "id": "wbmDSB9_tWlg",
        "outputId": "fd4eb7b7-880b-4d28-b5e8-036ff54b9e79"
      },
      "execution_count": 33,
      "outputs": [
        {
          "output_type": "stream",
          "name": "stdout",
          "text": [
            "Avatar\n"
          ]
        }
      ]
    },
    {
      "cell_type": "code",
      "source": [
        "Index_of_Close_Match_Movie = df[df.Movie_Title == Close_Match]['Movie_ID'].values[0]\n",
        "print(Index_of_Close_Match_Movie)"
      ],
      "metadata": {
        "colab": {
          "base_uri": "https://localhost:8080/"
        },
        "id": "Q8q3_FHluDu_",
        "outputId": "b5434467-7747-499a-fdca-2388ad08285b"
      },
      "execution_count": 34,
      "outputs": [
        {
          "output_type": "stream",
          "name": "stdout",
          "text": [
            "2692\n"
          ]
        }
      ]
    },
    {
      "cell_type": "code",
      "source": [
        "Recommendation_Score = list(enumerate(Similarity_Score[Index_of_Close_Match_Movie]))\n",
        "print(Recommendation_Score)"
      ],
      "metadata": {
        "colab": {
          "base_uri": "https://localhost:8080/"
        },
        "id": "DlCl5HCQu2wN",
        "outputId": "d4d14d21-3996-4d60-dc4f-94f48bf1203b"
      },
      "execution_count": 36,
      "outputs": [
        {
          "output_type": "stream",
          "name": "stdout",
          "text": [
            "[(0, 0.02884487841768262), (1, 0.0009486737271664181), (2, 0.004249436095870873), (3, 0.02958030897545473), (4, 0.004342011164737862), (5, 0.011634316952463414), (6, 0.010066542471337075), (7, 0.010636254356029825), (8, 0.01782035491896538), (9, 0.005242119757473876), (10, 0.016117921088503614), (11, 0.017430168788898213), (12, 0.01399093222669676), (13, 0.0410389342321058), (14, 0.058496086843161946), (15, 0.0025336171170244385), (16, 0.00995611396012841), (17, 0.030941550180199073), (18, 0.010529270009188747), (19, 0.012937578667011954), (20, 0.004418068830866224), (21, 0.011607447152749948), (22, 0.020142032980303128), (23, 0.024516421016634447), (24, 0.0355705246035463), (25, 0.00400973049452549), (26, 0.0011014747134654621), (27, 0.009029829673369795), (28, 0.042132997698575765), (29, 0.001068008069070712), (30, 0.0039057491176897174), (31, 0.008331045024327037), (32, 0.026985082912372987), (33, 0.004313542468348317), (34, 0.037411148065385), (35, 0.0009697278335863558), (36, 0.01921853575947801), (37, 0.019436263930556794), (38, 0.008925376796422836), (39, 0.021842750600296425), (40, 0.012861865594003553), (41, 0.02850681397770856), (42, 0.008123412899880595), (43, 0.015655104309590794), (44, 0.0009884155530789911), (45, 0.0009382558958571269), (46, 0.017862487503823687), (47, 0.053271319878627356), (48, 0.004910807922373075), (49, 0.011654729263005635), (50, 0.011211059368264265), (51, 0.012627424424428862), (52, 0.008806817389863438), (53, 0.009788890528237473), (54, 0.02439210898098358), (55, 0.020573945681525197), (56, 0.009486244859801873), (57, 0.00513562451846605), (58, 0.022065951546798954), (59, 0.019269597372695887), (60, 0.03627082001493925), (61, 0.04153452906051226), (62, 0.0163916912274703), (63, 0.013131670811300268), (64, 0.011693794623684344), (65, 0.023899543390926273), (66, 0.030105422126758024), (67, 0.0011582456274875118), (68, 0.011338237262961308), (69, 0.012827580360041033), (70, 0.029395927557161503), (71, 0.012673222535089115), (72, 0.020364930743506322), (73, 0.007006703896971033), (74, 0.0008016139710569145), (75, 0.009836854115728523), (76, 0.030178223756610303), (77, 0.004541126741823654), (78, 0.0010494110798451824), (79, 0.022343099123771956), (80, 0.01178876981801281), (81, 0.01301080426882271), (82, 0.025312110544871536), (83, 0.05457140628293261), (84, 0.027478454957026912), (85, 0.00411325245044253), (86, 0.010517440933834448), (87, 0.0010341747925744255), (88, 0.007888959830348768), (89, 0.003662107704794403), (90, 0.008935629996825867), (91, 0.00453542401791289), (92, 0.0010891064307448953), (93, 0.021707408795121716), (94, 0.0070674815759976094), (95, 0.004045992137376707), (96, 0.0009169574738812255), (97, 0.0011512988648720447), (98, 0.009864425915126903), (99, 0.014500178241100614), (100, 0.011972798251917147), (101, 0.014775794871095517), (102, 0.0834398333570034), (103, 0.022399979544344036), (104, 0.014039475407570902), (105, 0.05658369481344665), (106, 0.026341383086366625), (107, 0.016134434167027513), (108, 0.01087846832158908), (109, 0.0076519713809523205), (110, 0.021004617458247894), (111, 0.015032019876471299), (112, 0.023778785238626456), (113, 0.01045674292294529), (114, 0.0010429052199088175), (115, 0.03894766513241242), (116, 0.018235494223297042), (117, 0.0245745764769468), (118, 0.03059935117012734), (119, 0.0352507196912558), (120, 0.03017541195777806), (121, 0.008950483432599538), (122, 0.003913778093340344), (123, 0.011972708205672044), (124, 0.0011767313136606568), (125, 0.07406054525977689), (126, 0.023890238363090906), (127, 0.056522619760847104), (128, 0.009861427112503355), (129, 0.00889947329518127), (130, 0.003820593958671077), (131, 0.019829575997756435), (132, 0.0125112403263785), (133, 0.005414611091021267), (134, 0.009027456212887674), (135, 0.038381073995273275), (136, 0.03989223076549849), (137, 0.001072924806912564), (138, 0.012909896341095364), (139, 0.009401322781157039), (140, 0.004492466628425901), (141, 0.0024757017234325884), (142, 0.0199505739675283), (143, 0.017001526825813323), (144, 0.004785063246189685), (145, 0.010395917721553079), (146, 0.003888515625279718), (147, 0.022085089518754826), (148, 0.019889166003518463), (149, 0.003727004914598315), (150, 0.029173727848951184), (151, 0.03124376694073617), (152, 0.032450745894258635), (153, 0.014030321977947225), (154, 0.0008574783703428191), (155, 0.010385734517632165), (156, 0.009337490527449272), (157, 0.007108843702789809), (158, 0.01989268723171664), (159, 0.030662436755953763), (160, 0.026706511767816438), (161, 0.05848897583446113), (162, 0.0046970484190751016), (163, 0.02837573358878949), (164, 0.01139719516995319), (165, 0.029424661209800175), (166, 0.013290990383549335), (167, 0.03686711778453316), (168, 0.00478616100985272), (169, 0.0011328251109061058), (170, 0.025181817149864515), (171, 0.02287361589175932), (172, 0.009963778253632136), (173, 0.007066699371367388), (174, 0.011171402539120868), (175, 0.003222280363059285), (176, 0.0009301617810388289), (177, 0.00495766860311771), (178, 0.0026029867347851328), (179, 0.02213095486944723), (180, 0.03263592619718958), (181, 0.035769197672825805), (182, 0.02562836557728023), (183, 0.028583902331634842), (184, 0.029686516649051337), (185, 0.011371538145669064), (186, 0.009950946869867711), (187, 0.0036649531194797385), (188, 0.0051573322704510345), (189, 0.032365630663863304), (190, 0.003921799920272521), (191, 0.0669507687328074), (192, 0.013213004206171835), (193, 0.004378520340927974), (194, 0.0011875430384305277), (195, 0.027920718206738557), (196, 0.014884820088897664), (197, 0.04001776597399926), (198, 0.028875012464839176), (199, 0.003865099304824479), (200, 0.029642157365192053), (201, 0.019176696858989147), (202, 0.008270658235999411), (203, 0.025205471740429718), (204, 0.02425700088169796), (205, 0.042792505671993386), (206, 0.009340017258184834), (207, 0.01799075171492417), (208, 0.02578111534752987), (209, 0.012721667538979919), (210, 0.007599443733288259), (211, 0.06613527839252056), (212, 0.012418877480653161), (213, 0.01525240759509722), (214, 0.026379803965458748), (215, 0.007648240506202361), (216, 0.040964674124734556), (217, 0.038972235128812024), (218, 0.0010491493796489506), (219, 0.011327026460572594), (220, 0.0046904446651623265), (221, 0.0038976684849990513), (222, 0.02712724834123038), (223, 0.008201623799550379), (224, 0.0216306899981906), (225, 0.011566393759413235), (226, 0.0010535236275152225), (227, 0.023043058645466102), (228, 0.017557569091882948), (229, 0.0010407082010538582), (230, 0.012754503665158942), (231, 0.0040857145688756626), (232, 0.05138397435560832), (233, 0.05614406972298375), (234, 0.005543057262081045), (235, 0.023252633512078985), (236, 0.017825321791632036), (237, 0.011655187834823952), (238, 0.0022825196365303664), (239, 0.04112317561999121), (240, 0.0010675535163068679), (241, 0.01633337033996993), (242, 0.004730121849907956), (243, 0.004806004762122392), (244, 0.06102254007788695), (245, 0.06465194642569258), (246, 0.033127933769141686), (247, 0.0010647669886731175), (248, 0.03589098718490364), (249, 0.002581442407995301), (250, 0.003676958634238903), (251, 0.036970664837617885), (252, 0.012203730509743112), (253, 0.013735454187905345), (254, 0.020173646180677372), (255, 0.007561704632672805), (256, 0.004739406869164709), (257, 0.030793890432657012), (258, 0.003881424928070488), (259, 0.04184034909270107), (260, 0.012971284310950154), (261, 0.017660051954301047), (262, 0.030740429890640575), (263, 0.01891932680314249), (264, 0.03244682205082549), (265, 0.004743263064743536), (266, 0.0037228099615171937), (267, 0.0035795474771287477), (268, 0.021095316179357577), (269, 0.01972622245831425), (270, 0.03504065933507877), (271, 0.0008686915204653764), (272, 0.012019082992618647), (273, 0.014320575107649187), (274, 0.0048991271429370455), (275, 0.0165863247872806), (276, 0.027488852425857774), (277, 0.012195262056026904), (278, 0.025872243193085613), (279, 0.030133456266168198), (280, 0.004962968568179538), (281, 0.007463442984271947), (282, 0.012409229658249182), (283, 0.021137931158348486), (284, 0.0011519356529212542), (285, 0.000974461705133547), (286, 0.057745315535485876), (287, 0.022761468643414738), (288, 0.010283525247371028), (289, 0.026431410594658904), (290, 0.02324805512078678), (291, 0.004663156954493428), (292, 0.012042436727526461), (293, 0.00810718474314602), (294, 0.020186777705078124), (295, 0.008642144394432989), (296, 0.0009731810692353335), (297, 0.03980636568626163), (298, 0.023880372462561587), (299, 0.023118844790314345), (300, 0.0011063323692632994), (301, 0.014811491268764885), (302, 0.046927244086545056), (303, 0.022680908014207628), (304, 0.014318550212679531), (305, 0.02136859115747752), (306, 0.03282649435943067), (307, 0.0286508536364155), (308, 0.025184633240167766), (309, 0.03236379907191724), (310, 0.008823324075414809), (311, 0.010985162960237018), (312, 0.007667974908808071), (313, 0.04778772742728379), (314, 0.004574110452062767), (315, 0.03499789123274643), (316, 0.018566996282703464), (317, 0.01861587442885367), (318, 0.019683301758559375), (319, 0.008400218199246962), (320, 0.01681042466364758), (321, 0.016110651087075278), (322, 0.035829936829146154), (323, 0.01341601035850732), (324, 0.008595137163621331), (325, 0.018589369928568106), (326, 0.020288763070908114), (327, 0.023268907515670612), (328, 0.004033282656384788), (329, 0.035200215449318034), (330, 0.006151582816835006), (331, 0.004510766266829973), (332, 0.023358871541637835), (333, 0.03238967458421798), (334, 0.010308514499913907), (335, 0.02873352179053503), (336, 0.044428085472309364), (337, 0.02384367554836951), (338, 0.0037740759639596617), (339, 0.008229366231698934), (340, 0.00941823838703738), (341, 0.005507048199833959), (342, 0.03501353034465892), (343, 0.0035823113595402772), (344, 0.005544447148320428), (345, 0.010233601267164608), (346, 0.004794169734985407), (347, 0.010585074042164154), (348, 0.006806990576849839), (349, 0.004115724709828866), (350, 0.026444243961055377), (351, 0.02551709263383511), (352, 0.02516185490753472), (353, 0.017357363014118766), (354, 0.0010380766084506195), (355, 0.0009235937128829704), (356, 0.024117425161647055), (357, 0.019611543753465854), (358, 0.0009781282508062631), (359, 0.005668442350857962), (360, 0.02380378957620401), (361, 0.0009754660970823778), (362, 0.004437470115152853), (363, 0.009097320566131321), (364, 0.07146438171302372), (365, 0.008108329715634325), (366, 0.015326757222599824), (367, 0.014210369199521426), (368, 0.017349961271539295), (369, 0.0010209869384196805), (370, 0.03475394692848816), (371, 0.004374984321921885), (372, 0.020631351425494042), (373, 0.004435655603021974), (374, 0.0028768376095856555), (375, 0.0009669509993285295), (376, 0.012055843516779517), (377, 0.003840016883011603), (378, 0.0040783957218267905), (379, 0.0049825379123707), (380, 0.0217823929262113), (381, 0.004852425538243092), (382, 0.11264473069529278), (383, 0.041845895515673324), (384, 0.03353827582525135), (385, 0.008150924151981948), (386, 0.02095486224801715), (387, 0.004525754037955797), (388, 0.027950502621618006), (389, 0.05192536320761106), (390, 0.008834632428222022), (391, 0.0052463003266290924), (392, 0.014458293084849545), (393, 0.030419340341169693), (394, 0.03006796271155216), (395, 0.005352894779901516), (396, 0.013278310327299744), (397, 0.019280007897735325), (398, 0.001049981826413778), (399, 0.005631013704635966), (400, 0.050541727700937275), (401, 0.027326800314971318), (402, 0.008473095416380111), (403, 0.016850661832204107), (404, 0.0031512801679335267), (405, 0.004433150348774341), (406, 0.0035447177742564786), (407, 0.04041359251576611), (408, 0.023819543779751394), (409, 0.0008610982792139913), (410, 0.013888872792665836), (411, 0.0008682134849787025), (412, 0.03592036909860266), (413, 0.021061182623186764), (414, 0.015437614957298066), (415, 0.0066611647453925), (416, 0.004801818676647548), (417, 0.004595313546229258), (418, 0.01576811619899147), (419, 0.010607034177455645), (420, 0.01215690527821135), (421, 0.01729073372601776), (422, 0.009858287276730247), (423, 0.004531966924128235), (424, 0.01697405169363806), (425, 0.022202332402279798), (426, 0.0022654643595776255), (427, 0.008208081983533221), (428, 0.0359675309566347), (429, 0.028002774205548066), (430, 0.0037843323778215675), (431, 0.004624969638759765), (432, 0.004868797216619561), (433, 0.008811077851274194), (434, 0.024817096396793394), (435, 0.025049963817100136), (436, 0.022558184217088162), (437, 0.011496945748505539), (438, 0.016386049749096042), (439, 0.021780514337339296), (440, 0.026534730921009067), (441, 0.011552326895324205), (442, 0.014066961842620926), (443, 0.0388145605911245), (444, 0.012617517799071977), (445, 0.02196115893717519), (446, 0.019191843071502568), (447, 0.007995885773549913), (448, 0.002676538413543769), (449, 0.004505495447496685), (450, 0.024842702752451387), (451, 0.006598578490290007), (452, 0.012458074299790609), (453, 0.01184985869071477), (454, 0.011004602638768776), (455, 0.03128004145170097), (456, 0.02059536660039096), (457, 0.040695285941865084), (458, 0.005953042065766693), (459, 0.049942503255270485), (460, 0.00790327240504824), (461, 0.008399741203899143), (462, 0.004458803420540735), (463, 0.008678063878935872), (464, 0.007781057196413384), (465, 0.004343034726990581), (466, 0.004868956334205422), (467, 0.018955191120644393), (468, 0.010150007191315482), (469, 0.011257022491678526), (470, 0.013584440633043877), (471, 0.0042512920258007975), (472, 0.036657066322064814), (473, 0.02376840952231201), (474, 0.015724946628556925), (475, 0.0011478704657754137), (476, 0.0011490296251336811), (477, 0.021149290786321093), (478, 0.0010969383475071383), (479, 0.03944709678753343), (480, 0.009613225915961674), (481, 0.04302628498300064), (482, 0.029674805920698336), (483, 0.0040215901166251585), (484, 0.04174519182396426), (485, 0.017343382000231233), (486, 0.03784636572619202), (487, 0.013030327181566253), (488, 0.012718115037974747), (489, 0.01583822158675273), (490, 0.016861158281219132), (491, 0.01905726354406876), (492, 0.0046221353291654435), (493, 0.027938583332286694), (494, 0.03288228056139373), (495, 0.005290637477488048), (496, 0.008946678338262713), (497, 0.08513974895322567), (498, 0.0010257203935840253), (499, 0.008167004570890462), (500, 0.02387528369699566), (501, 0.04225727907493618), (502, 0.004313393240233027), (503, 0.03616097890718314), (504, 0.03953791514257358), (505, 0.004831692587014987), (506, 0.017134641333169876), (507, 0.012299772043815008), (508, 0.003546776342167129), (509, 0.0011639491413572593), (510, 0.038773334775586685), (511, 0.0010503801450596519), (512, 0.036963828641309655), (513, 0.02063248234025033), (514, 0.024955542216805918), (515, 0.008336700912486356), (516, 0.01613694073761361), (517, 0.003818255798796323), (518, 0.0), (519, 0.004962179348451697), (520, 0.02593907923564912), (521, 0.0284487270479874), (522, 0.017456592243974504), (523, 0.0009900119640635506), (524, 0.03779765637791389), (525, 0.001033319090500947), (526, 0.022132949457744026), (527, 0.10521732775436952), (528, 0.0031887120315561355), (529, 0.0010795103200173582), (530, 0.0009801404042967408), (531, 0.004076572080990562), (532, 0.022196525548274285), (533, 0.011052243750691347), (534, 0.015108099092428008), (535, 0.004320764065174288), (536, 0.0037519940017843954), (537, 0.021959871152232382), (538, 0.057643224919785505), (539, 0.004289263806061936), (540, 0.042763215696697665), (541, 0.005200846499763762), (542, 0.012117222229947561), (543, 0.02419609401576092), (544, 0.029300916694548457), (545, 0.007395375278644623), (546, 0.0011677780949979795), (547, 0.0010763648121639875), (548, 0.03590979584035624), (549, 0.0202973101047721), (550, 0.0038584396107919864), (551, 0.005213816523239599), (552, 0.02848665061235664), (553, 0.000911340463134594), (554, 0.000864998020280255), (555, 0.013973678368629356), (556, 0.003800273868859787), (557, 0.05729178738047603), (558, 0.01157782554380123), (559, 0.021348363462296207), (560, 0.01005738759006069), (561, 0.08993613572665497), (562, 0.004900496674769936), (563, 0.004876239591800503), (564, 0.020010598167416602), (565, 0.02022207836765793), (566, 0.009184815534540165), (567, 0.02888237265979228), (568, 0.009059341903022707), (569, 0.003502471463566299), (570, 0.026288458233628846), (571, 0.001059368588199098), (572, 0.017049881730897866), (573, 0.007330967060020459), (574, 0.020524036588494908), (575, 0.011869108840833222), (576, 0.002773622046339705), (577, 0.0009057493914793227), (578, 0.003519737316206932), (579, 0.0041530594489944984), (580, 0.009021811651294915), (581, 0.005053138843045504), (582, 0.015242818211684293), (583, 0.003497381569615463), (584, 0.0010398678978315843), (585, 0.0010373972049864406), (586, 0.03464991283869673), (587, 0.004166678272427629), (588, 0.012018948935358063), (589, 0.017379406164032617), (590, 0.004183133368839378), (591, 0.013754986968748191), (592, 0.0224261550027089), (593, 0.010077053830584985), (594, 0.014357595529804057), (595, 0.01278710578182061), (596, 0.008519886585921083), (597, 0.002642798414257589), (598, 0.025012571204677286), (599, 0.011422684083929225), (600, 0.0009766186048009492), (601, 0.010534429198697539), (602, 0.0042111006965328945), (603, 0.03886235681823245), (604, 0.03617216244344365), (605, 0.01749260991279088), (606, 0.009111785127931796), (607, 0.0337947584989947), (608, 0.016439243471092265), (609, 0.05759537631885048), (610, 0.05386840844653322), (611, 0.004612725400705853), (612, 0.012080547463931916), (613, 0.0011807380206257229), (614, 0.013880390052235111), (615, 0.023340745498760116), (616, 0.005578412183612352), (617, 0.003933103831063912), (618, 0.047015667793808745), (619, 0.0050376779384266514), (620, 0.019398359019668555), (621, 0.02398009986514431), (622, 0.004494947162147095), (623, 0.0010494691289515104), (624, 0.05336564971921716), (625, 0.028283092108056133), (626, 0.0054327982585062416), (627, 0.014425993891512627), (628, 0.05645500995258082), (629, 0.01737023575713663), (630, 0.005628528930222796), (631, 0.0011838533456872806), (632, 0.018249547555206275), (633, 0.033042324817251466), (634, 0.1412797268392604), (635, 0.001159021230729509), (636, 0.01297047537944759), (637, 0.030397750906148126), (638, 0.01541030198258044), (639, 0.04813508299108232), (640, 0.02681668711979503), (641, 0.018360362444248435), (642, 0.0009756608618218919), (643, 0.011739144875630598), (644, 0.04210458106002821), (645, 0.009391510189051369), (646, 0.007987093263825813), (647, 0.013102802110111014), (648, 0.008974386280729392), (649, 0.011741988443543272), (650, 0.013478774648380907), (651, 0.015973647968076675), (652, 0.05730701762515875), (653, 0.006711239525676049), (654, 0.0051101977248229034), (655, 0.022852815637704353), (656, 0.025565469773818513), (657, 0.005800798729203218), (658, 0.013655129970762944), (659, 0.09741598827767435), (660, 0.001068801616037799), (661, 0.01196858503142163), (662, 0.004345967041550885), (663, 0.008322785489609498), (664, 0.001039041207117333), (665, 0.024075187138069734), (666, 0.007179274852236651), (667, 0.03559716047366464), (668, 0.0010498248681131395), (669, 0.004198583043798768), (670, 0.029053640926404768), (671, 0.03581631450527725), (672, 0.0044702515280126195), (673, 0.004617591784796878), (674, 0.005066097607196762), (675, 0.015238548370786292), (676, 0.04298354648480935), (677, 0.03016494676192265), (678, 0.02498114507332267), (679, 0.015991202240488722), (680, 0.05669344605845017), (681, 0.01970070066894996), (682, 0.022330787745876206), (683, 0.03545999462655622), (684, 0.018822926774568552), (685, 0.033132790167231994), (686, 0.012016457635064556), (687, 0.03465785485725815), (688, 0.0046242670142515605), (689, 0.0010293012297443466), (690, 0.02271042850476805), (691, 0.038089041158029496), (692, 0.04804688836351636), (693, 0.004221712171416536), (694, 0.006020285655844356), (695, 0.016321958971001117), (696, 0.012847929791797913), (697, 0.007777472708760084), (698, 0.004361541277567411), (699, 0.056013875042089635), (700, 0.01875848089536293), (701, 0.014807631172604294), (702, 0.013625081453484466), (703, 0.019486844082591798), (704, 0.01464270101206165), (705, 0.005217751524087308), (706, 0.008931410941501607), (707, 0.01477150586656767), (708, 0.04546877218554835), (709, 0.007964185857694485), (710, 0.012340408342142868), (711, 0.005351601275341301), (712, 0.00476173910082023), (713, 0.015403881691078305), (714, 0.02006665389413653), (715, 0.017146856442323194), (716, 0.011716039390658666), (717, 0.019942577857977706), (718, 0.010190671217321765), (719, 0.028130958081632164), (720, 0.04132471696155819), (721, 0.01427168271715563), (722, 0.02734238478155235), (723, 0.016337582954927994), (724, 0.018524808470490407), (725, 0.0326013667718143), (726, 0.039942707572763796), (727, 0.004780905049987097), (728, 0.013291135597651167), (729, 0.03919440984489812), (730, 0.005181603262820555), (731, 0.03650452635201947), (732, 0.014198331807566791), (733, 0.009293863196708748), (734, 0.02914890692297638), (735, 0.011353433961532346), (736, 0.004041421062597171), (737, 0.043315991524337724), (738, 0.007915751550112187), (739, 0.06783451583254001), (740, 0.045028627451485), (741, 0.02202180939382944), (742, 0.015130357401113384), (743, 0.012099404250809185), (744, 0.016063853349993586), (745, 0.015655309301529457), (746, 0.054439806476097696), (747, 0.0390693274625144), (748, 0.009453883090826449), (749, 0.007434860892925923), (750, 0.021176818086900064), (751, 0.02665207575580352), (752, 0.03547834906647729), (753, 0.003362368148296728), (754, 0.010476645875081916), (755, 0.01950112714554103), (756, 0.007636489767932121), (757, 0.02809823288476284), (758, 0.014271117483408206), (759, 0.012597084008248237), (760, 0.04161820058991142), (761, 0.0010303140295561332), (762, 0.008072248709392256), (763, 0.019032969375292454), (764, 0.01434875094489304), (765, 0.011728726508035296), (766, 0.002911237226675946), (767, 0.008071061811339268), (768, 0.0073555154529551465), (769, 0.0077759390721655105), (770, 0.007411358626452896), (771, 0.004397973553774064), (772, 0.003834821391831896), (773, 0.015166348173388532), (774, 0.005586053491667322), (775, 0.016147449319108595), (776, 0.014465767404643202), (777, 0.006083329114503247), (778, 0.014766275755254157), (779, 0.030210371904073198), (780, 0.033638406095531155), (781, 0.08861558301165613), (782, 0.04685023675956169), (783, 0.012524752966229697), (784, 0.004969104442071261), (785, 0.015030893928511316), (786, 0.007061285133617376), (787, 0.041797966074745695), (788, 0.05563757222506488), (789, 0.014876063806221721), (790, 0.0012034548554425975), (791, 0.0037146641475869643), (792, 0.01231460863264936), (793, 0.01325746230743685), (794, 0.026298320532936223), (795, 0.0026083348364509917), (796, 0.04827379886537649), (797, 0.0037658998869362042), (798, 0.014888352720661817), (799, 0.04904334097590226), (800, 0.02636363653784174), (801, 0.028142641571203702), (802, 0.01157411967627636), (803, 0.005105340945147618), (804, 0.014482521579026589), (805, 0.019858111789479244), (806, 0.025149205062670273), (807, 0.029410900402620076), (808, 0.016121094653736977), (809, 0.06730103855664438), (810, 0.0008509633839124335), (811, 0.04252947381374434), (812, 0.01578543655383576), (813, 0.01091726295447325), (814, 0.01316395992040907), (815, 0.0033827777182036767), (816, 0.04564485977774806), (817, 0.016986613457646134), (818, 0.017070401136530192), (819, 0.007463807926061791), (820, 0.004505907875685582), (821, 0.01374661030043981), (822, 0.019892717961960474), (823, 0.043401729852881155), (824, 0.010927519069806251), (825, 0.008408202415488014), (826, 0.015497237021596205), (827, 0.08097757094254493), (828, 0.01268863111415142), (829, 0.030237258133707298), (830, 0.02574848690972179), (831, 0.019884274197160993), (832, 0.010195339962584819), (833, 0.020846759191795967), (834, 0.0219322398630973), (835, 0.020010905879809714), (836, 0.005723935356240899), (837, 0.014594374592680082), (838, 0.036495840513232486), (839, 0.016603561453529272), (840, 0.0010741353311831765), (841, 0.0037916276219148006), (842, 0.040608073214829475), (843, 0.01100238763441553), (844, 0.005233537914131195), (845, 0.004779005395582313), (846, 0.014413955231444328), (847, 0.012872672194833264), (848, 0.005013756714936831), (849, 0.011516286719175785), (850, 0.053950695274792584), (851, 0.01567227946782019), (852, 0.019034251650061836), (853, 0.031634006175677215), (854, 0.001036989240339857), (855, 0.005162817835863404), (856, 0.018944019554216082), (857, 0.02005491617411872), (858, 0.03316411449926494), (859, 0.02686060622753342), (860, 0.03720186395743882), (861, 0.014691209548342238), (862, 0.023776635358982404), (863, 0.03185798707046038), (864, 0.014709183214428705), (865, 0.015465012718884483), (866, 0.0033484752378105027), (867, 0.02475367485152288), (868, 0.00896041702663598), (869, 0.04854608114742602), (870, 0.02006963544388613), (871, 0.03191780466480839), (872, 0.02759359851118351), (873, 0.006790147807412487), (874, 0.05778392114851264), (875, 0.025553229975554148), (876, 0.0009483483157123578), (877, 0.005838106056358488), (878, 0.013795669627381275), (879, 0.0500518199350225), (880, 0.03252193123123852), (881, 0.01088098800692856), (882, 0.0011047675498868338), (883, 0.035124676542700024), (884, 0.017551752277337254), (885, 0.025288185758241304), (886, 0.028345275664762914), (887, 0.004968806886776446), (888, 0.03533299158355425), (889, 0.004547455146217827), (890, 0.028976454247119164), (891, 0.024646203008946523), (892, 0.026832718215891057), (893, 0.024022105644515738), (894, 0.003804794659937838), (895, 0.022570480645783538), (896, 0.04017503747186538), (897, 0.043505251333904184), (898, 0.0011131338453982667), (899, 0.010211414354015243), (900, 0.018867727482536522), (901, 0.0069091661974067615), (902, 0.012857635440308088), (903, 0.025105887608150627), (904, 0.021643654389824976), (905, 0.011761684978465917), (906, 0.022720056233401637), (907, 0.017206540958582307), (908, 0.012102497503940818), (909, 0.016200187377474223), (910, 0.004067103349229006), (911, 0.005471540667802971), (912, 0.004447032168253483), (913, 0.0011237311575976303), (914, 0.007983815678590777), (915, 0.0506212176142913), (916, 0.016331132477577986), (917, 0.008362015460644625), (918, 0.007197059953233161), (919, 0.06000054687888961), (920, 0.025404392685556627), (921, 0.0010835694380807001), (922, 0.0037060174375480137), (923, 0.013250092085483486), (924, 0.01944989820181197), (925, 0.008488204652794087), (926, 0.029083030839929563), (927, 0.01639970148572624), (928, 0.007534022285734609), (929, 0.005611701348615567), (930, 0.007765911466779728), (931, 0.005255066711337517), (932, 0.009028327998487873), (933, 0.011827560552150382), (934, 0.0009513726365954272), (935, 0.01874078969541053), (936, 0.010281450439346883), (937, 0.014642194769548865), (938, 0.01707786377616802), (939, 0.02005087834656457), (940, 0.005170573285259542), (941, 0.00789535356019103), (942, 0.018343702060265227), (943, 0.01069740640879583), (944, 0.05276125249119457), (945, 0.012091766035949225), (946, 0.010811086099985046), (947, 0.01399885630644336), (948, 0.00390694611073168), (949, 0.04611233340425187), (950, 0.017826331405606393), (951, 0.015137534066518122), (952, 0.011052374744155137), (953, 0.007794632725711349), (954, 0.029966290163948604), (955, 0.007925429217257486), (956, 0.026249518734068993), (957, 0.016753681657843265), (958, 0.03366058345384598), (959, 0.01934516821812765), (960, 0.0010820449955021858), (961, 0.004218739606048652), (962, 0.018056796706615908), (963, 0.015309178270301628), (964, 0.010512973986394166), (965, 0.013971655107430682), (966, 0.00466455014661818), (967, 0.027491640048459075), (968, 0.014376926814616662), (969, 0.0011349267830884097), (970, 0.02609752923673153), (971, 0.007932852730711877), (972, 0.03307987909726112), (973, 0.017677543036077385), (974, 0.016852224773279953), (975, 0.0010159596620456994), (976, 0.008141057237909368), (977, 0.008880798311871618), (978, 0.01079815947263457), (979, 0.018028268592683833), (980, 0.021007932792012306), (981, 0.011334070120134621), (982, 0.035974188994345985), (983, 0.02624935867209067), (984, 0.04248054990761906), (985, 0.03063637745150644), (986, 0.0214098923066599), (987, 0.028773015999743155), (988, 0.0), (989, 0.021083098703831953), (990, 0.03837335740124742), (991, 0.005059036149952495), (992, 0.007916930456749969), (993, 0.01899297161181026), (994, 0.03193182091356869), (995, 0.005479279161203466), (996, 0.029849049965941885), (997, 0.010280157634088214), (998, 0.0008826764236752567), (999, 0.004504127555968609), (1000, 0.018385729332748204), (1001, 0.0139906550717201), (1002, 0.010583777520057507), (1003, 0.016211219036995222), (1004, 0.0024933551517707622), (1005, 0.01232953395409224), (1006, 0.048995684030492925), (1007, 0.021681352687339617), (1008, 0.004117710873605004), (1009, 0.005379038681667111), (1010, 0.00516124158663777), (1011, 0.0214443858398162), (1012, 0.01944199621099021), (1013, 0.003868816116888241), (1014, 0.005066321036523818), (1015, 0.029516632528322234), (1016, 0.004050534271759228), (1017, 0.03189557861013266), (1018, 0.03687336884010058), (1019, 0.012270911325370542), (1020, 0.027511420541941126), (1021, 0.004009014896505276), (1022, 0.016199626658077226), (1023, 0.0077393862127145205), (1024, 0.026138957441926045), (1025, 0.04353812615564826), (1026, 0.004244967267833269), (1027, 0.019074801801112488), (1028, 0.003943065577417084), (1029, 0.023753010830059446), (1030, 0.036508570845338734), (1031, 0.01183766884997806), (1032, 0.001039421409506412), (1033, 0.007602211315947929), (1034, 0.022518321047196123), (1035, 0.016231971692711646), (1036, 0.00414723999860694), (1037, 0.007648620551030171), (1038, 0.005004020370969205), (1039, 0.008491663143495797), (1040, 0.0009867550398172118), (1041, 0.016375526459733423), (1042, 0.013899944361331091), (1043, 0.019905811394011357), (1044, 0.03225933486333952), (1045, 0.016784501289784738), (1046, 0.011659028634658704), (1047, 0.005148963813138351), (1048, 0.0012182479184471406), (1049, 0.0106933892646859), (1050, 0.011296366254502324), (1051, 0.10137371740125092), (1052, 0.005337645140356579), (1053, 0.016533757659041002), (1054, 0.0046302147528845304), (1055, 0.003504558874143587), (1056, 0.0327453405231986), (1057, 0.009195329109850558), (1058, 0.0040971926119298865), (1059, 0.03399875230410157), (1060, 0.023171339674443795), (1061, 0.01597834915728684), (1062, 0.01236557948501303), (1063, 0.024386757985373667), (1064, 0.005161543637261132), (1065, 0.0050942832837782065), (1066, 0.0011427512535114493), (1067, 0.01948084849582521), (1068, 0.00937487394451978), (1069, 0.03931696391144853), (1070, 0.0034880028617591567), (1071, 0.007837921927212832), (1072, 0.014040530087589927), (1073, 0.004225549319679192), (1074, 0.011297707998976843), (1075, 0.004227309191965636), (1076, 0.01902479953966956), (1077, 0.007594648219492831), (1078, 0.016251404340150072), (1079, 0.021721676214635777), (1080, 0.0009851082325717908), (1081, 0.002784893426372316), (1082, 0.0220619660886828), (1083, 0.05139459658383982), (1084, 0.020894719318761794), (1085, 0.004337166810232219), (1086, 0.0011124476631184561), (1087, 0.011407557058198263), (1088, 0.019558404299503247), (1089, 0.019553749467022027), (1090, 0.005219346463558325), (1091, 0.013689620497806195), (1092, 0.01220049303077876), (1093, 0.00496876313493924), (1094, 0.023257008323126008), (1095, 0.0049537738301246425), (1096, 0.0599572244487002), (1097, 0.01080078921215949), (1098, 0.05533055092433146), (1099, 0.0034895944418804614), (1100, 0.026554962742587247), (1101, 0.008166633317790778), (1102, 0.00529120661258887), (1103, 0.02890798317233013), (1104, 0.008214386062488591), (1105, 0.02394317494836706), (1106, 0.002519682745691718), (1107, 0.012171691261751244), (1108, 0.019896478892611678), (1109, 0.004295566783024866), (1110, 0.004352506601060224), (1111, 0.031074179454042873), (1112, 0.01783163016161061), (1113, 0.024389222623249343), (1114, 0.0130633983110107), (1115, 0.012586525185640945), (1116, 0.01678158238799682), (1117, 0.03429424926965005), (1118, 0.016784030227743177), (1119, 0.004186231208784702), (1120, 0.015687238861677447), (1121, 0.025649504589399165), (1122, 0.012278210835241613), (1123, 0.007774518108203523), (1124, 0.004983788987642358), (1125, 0.03978183809738881), (1126, 0.012170275444976316), (1127, 0.0010213831108970312), (1128, 0.004753616507195508), (1129, 0.008074074889819285), (1130, 0.008997623583427023), (1131, 0.017245728626045884), (1132, 0.0048494912109276166), (1133, 0.03695099755302347), (1134, 0.010151779967558644), (1135, 0.01543889093416402), (1136, 0.018326639238832886), (1137, 0.029382257999914323), (1138, 0.004572967391152832), (1139, 0.008868639715087254), (1140, 0.029691335466309622), (1141, 0.010769586863713865), (1142, 0.018560852482729397), (1143, 0.018825906779964274), (1144, 0.010761759204443722), (1145, 0.029345359860202095), (1146, 0.012000015324689388), (1147, 0.0071701961593858814), (1148, 0.019354308589737017), (1149, 0.001040570634073622), (1150, 0.025942249630418322), (1151, 0.017624028864779435), (1152, 0.026252937956769504), (1153, 0.032664000951825645), (1154, 0.001268495450347735), (1155, 0.019071291674011365), (1156, 0.005543797376879115), (1157, 0.01468575481534336), (1158, 0.0010459981109094017), (1159, 0.010082129836964713), (1160, 0.012015819409965201), (1161, 0.015092786349129732), (1162, 0.0039989612793256265), (1163, 0.001063234762443233), (1164, 0.014982100595987837), (1165, 0.00977738697230179), (1166, 0.0010390151099467465), (1167, 0.01427883223087449), (1168, 0.004693929484291242), (1169, 0.023182314586758467), (1170, 0.0), (1171, 0.00890423851614297), (1172, 0.027696688441494473), (1173, 0.016265978714933862), (1174, 0.0011110039242029307), (1175, 0.0009734299935168739), (1176, 0.032015303547985645), (1177, 0.0009303164970129664), (1178, 0.02327231020090475), (1179, 0.02283157965359969), (1180, 0.014789901588919045), (1181, 0.0010129504808861244), (1182, 0.015622167976242583), (1183, 0.00410343169992062), (1184, 0.003669594740570666), (1185, 0.011856570243847024), (1186, 0.020180274550020583), (1187, 0.017742739127973632), (1188, 0.004270844924987211), (1189, 0.0010518778961741712), (1190, 0.007092553825852412), (1191, 0.012820805702730139), (1192, 0.008016060093212743), (1193, 0.005238535802729379), (1194, 0.01755641599789901), (1195, 0.014290440599814533), (1196, 0.019017566793935934), (1197, 0.003347903211950445), (1198, 0.023415404727271535), (1199, 0.015750134756719793), (1200, 0.0687060803488133), (1201, 0.04995628589938654), (1202, 0.02409359921793159), (1203, 0.014097448942638577), (1204, 0.016790910269141233), (1205, 0.005557894188944645), (1206, 0.029114006454558562), (1207, 0.014901783460833816), (1208, 0.004886712096858749), (1209, 0.001028962166280348), (1210, 0.0069588597393655275), (1211, 0.0708097838010294), (1212, 0.0321084159540452), (1213, 0.035859120798917135), (1214, 0.003014598734454328), (1215, 0.037794118844740696), (1216, 0.009060082679007295), (1217, 0.00427943042663766), (1218, 0.05472560358100282), (1219, 0.00446804279472446), (1220, 0.00409832826118637), (1221, 0.011151190840182094), (1222, 0.0011078504610166505), (1223, 0.03002855988244041), (1224, 0.012186382899651177), (1225, 0.004557320024724286), (1226, 0.01033450691001399), (1227, 0.005299218593936733), (1228, 0.00422292803561926), (1229, 0.028514671595671594), (1230, 0.009320094066831701), (1231, 0.023994568586338753), (1232, 0.024258169908301912), (1233, 0.0043781911402387165), (1234, 0.006873651165223111), (1235, 0.0683369987687066), (1236, 0.0008853760233508657), (1237, 0.005866079144513928), (1238, 0.01685821084393915), (1239, 0.01874812336548049), (1240, 0.01200182355563056), (1241, 0.004769440780020699), (1242, 0.004344904441034623), (1243, 0.009023748658058606), (1244, 0.04565250452262687), (1245, 0.006834783556916224), (1246, 0.011702658559569276), (1247, 0.03643170152901479), (1248, 0.004260866282747915), (1249, 0.0035063489175621203), (1250, 0.010821706594846275), (1251, 0.0010447174843169543), (1252, 0.03662889387426865), (1253, 0.026431477092944723), (1254, 0.005044004971648428), (1255, 0.008939197776552657), (1256, 0.0666942414565288), (1257, 0.028087211134366775), (1258, 0.03939391485606048), (1259, 0.03658499400342747), (1260, 0.006762830144624952), (1261, 0.008508292926552625), (1262, 0.01748109486370038), (1263, 0.006917488212658871), (1264, 0.021655711365460132), (1265, 0.00858130958413175), (1266, 0.03560595662028628), (1267, 0.015461284538013428), (1268, 0.017649397340545908), (1269, 0.01182894551080612), (1270, 0.011168502014645755), (1271, 0.048680221674274125), (1272, 0.0139387815711699), (1273, 0.005652869803436001), (1274, 0.030468755673567806), (1275, 0.013972560482752097), (1276, 0.011072862509364161), (1277, 0.010874080455086654), (1278, 0.016863697780728132), (1279, 0.01060566002237142), (1280, 0.005006776337165826), (1281, 0.043031869867743), (1282, 0.009559687482600245), (1283, 0.0011759487087979205), (1284, 0.027635219786301835), (1285, 0.04103334129520325), (1286, 0.016719145598098218), (1287, 0.004009224055391704), (1288, 0.01631180441341786), (1289, 0.031425933529634596), (1290, 0.0009427445976318484), (1291, 0.004348782530628458), (1292, 0.01951033222295219), (1293, 0.03306260457905247), (1294, 0.027270563231793783), (1295, 0.007582549372269846), (1296, 0.01723758934328656), (1297, 0.0010343349848280893), (1298, 0.008208604536226223), (1299, 0.022580640210964037), (1300, 0.017440906024827285), (1301, 0.015104933836181677), (1302, 0.04776844135198677), (1303, 0.04347025722487894), (1304, 0.01894940653914537), (1305, 0.01106183649860538), (1306, 0.011115639791898023), (1307, 0.048611675747824594), (1308, 0.017234492758294227), (1309, 0.0010681116582590708), (1310, 0.0234508216015196), (1311, 0.06103261039287794), (1312, 0.01541849202348302), (1313, 0.009903596171673756), (1314, 0.06061603632445549), (1315, 0.0052485669340451594), (1316, 0.012375081866041403), (1317, 0.0493977637292999), (1318, 0.04578992128820093), (1319, 0.028519219323106776), (1320, 0.005188997152679377), (1321, 0.03883094011088015), (1322, 0.03289337663916491), (1323, 0.005242434718341748), (1324, 0.011073208556233761), (1325, 0.004268332260900137), (1326, 0.00418540809840475), (1327, 0.012857592471927031), (1328, 0.01102356691093041), (1329, 0.023198793247742346), (1330, 0.012584215512789772), (1331, 0.04583150337833397), (1332, 0.008709499701731488), (1333, 0.02245947471413671), (1334, 0.003556784541578628), (1335, 0.00828615662873208), (1336, 0.0011156266561969956), (1337, 0.021307708719513208), (1338, 0.03122106895804598), (1339, 0.001056967802476492), (1340, 0.014516431822468184), (1341, 0.018250129798418842), (1342, 0.0008967082576496049), (1343, 0.01622532516506186), (1344, 0.02788948855828559), (1345, 0.023513528986175248), (1346, 0.003791029946940648), (1347, 0.029664589973324863), (1348, 0.023022579879124757), (1349, 0.06128070140917194), (1350, 0.010816274641127853), (1351, 0.00696494898383518), (1352, 0.00786045377644732), (1353, 0.07263743854168124), (1354, 0.026176798434870755), (1355, 0.03678683384855511), (1356, 0.030704088079284493), (1357, 0.00504742448032369), (1358, 0.018161161543758682), (1359, 0.01856632812836966), (1360, 0.022781405960999288), (1361, 0.020709504413320985), (1362, 0.003957146195984276), (1363, 0.01666069397940869), (1364, 0.026947399523703227), (1365, 0.003981725792897989), (1366, 0.02049809798149647), (1367, 0.012309962886537885), (1368, 0.004382348617976021), (1369, 0.010873790298672954), (1370, 0.017171281693206995), (1371, 0.047334026028014856), (1372, 0.011897672516735937), (1373, 0.025186026312565588), (1374, 0.0047566916321720495), (1375, 0.0534042372219497), (1376, 0.017743978157369555), (1377, 0.08097820492634632), (1378, 0.021502733470152344), (1379, 0.012050003853276559), (1380, 0.013813381958806124), (1381, 0.03795566934780954), (1382, 0.03908772118205162), (1383, 0.014002366589244076), (1384, 0.01836273783136175), (1385, 0.0010372224095187093), (1386, 0.011847910118192912), (1387, 0.0561407747488926), (1388, 0.005640042098291569), (1389, 0.008701234514166798), (1390, 0.021157736849216804), (1391, 0.04265781472197479), (1392, 0.005365878744162129), (1393, 0.0010664963464472983), (1394, 0.024825594889793006), (1395, 0.011775643111012837), (1396, 0.008269546722211484), (1397, 0.012722838296082322), (1398, 0.06521297420178498), (1399, 0.01774671202741609), (1400, 0.009465510102342443), (1401, 0.007629009443040138), (1402, 0.008969284981251505), (1403, 0.016745708187292745), (1404, 0.02197817906822032), (1405, 0.009056833459787306), (1406, 0.014756102529986074), (1407, 0.01912279271612126), (1408, 0.00732450963037517), (1409, 0.0009647129938274569), (1410, 0.009828636528252832), (1411, 0.0011136060352148602), (1412, 0.004749197065202997), (1413, 0.015364162723216938), (1414, 0.017578569233246744), (1415, 0.011122044467854275), (1416, 0.030222609732768777), (1417, 0.020939834915177428), (1418, 0.009840137705322547), (1419, 0.02643577731627379), (1420, 0.0012206198297419536), (1421, 0.007807084577291028), (1422, 0.005129608023967177), (1423, 0.02092817402427781), (1424, 0.004795820162918216), (1425, 0.004724639386896134), (1426, 0.01620489565632741), (1427, 0.025776489226501307), (1428, 0.01178077035731638), (1429, 0.004086684283411909), (1430, 0.011516650138222465), (1431, 0.01117739281325399), (1432, 0.030528390082865148), (1433, 0.018524340221812298), (1434, 0.007473309839272891), (1435, 0.0009887094649590389), (1436, 0.042841813305119984), (1437, 0.0328476178267592), (1438, 0.004294055042763742), (1439, 0.012061701166870775), (1440, 0.0009854138753049378), (1441, 0.009700536196965554), (1442, 0.009118294823754546), (1443, 0.018665176895347923), (1444, 0.00807463058164906), (1445, 0.010682242113058436), (1446, 0.004529241519449323), (1447, 0.010832188442944677), (1448, 0.028618552523077614), (1449, 0.01578996073840117), (1450, 0.0010476455354930525), (1451, 0.008111321679582551), (1452, 0.02261772809955021), (1453, 0.0008478990164871156), (1454, 0.017169765011569582), (1455, 0.009384255521017494), (1456, 0.012076647964926406), (1457, 0.004530994745605566), (1458, 0.01793965725902832), (1459, 0.007704533578775397), (1460, 0.016953657807262185), (1461, 0.011628224903760543), (1462, 0.01629129826848813), (1463, 0.01635984647739341), (1464, 0.016736395888214607), (1465, 0.0011040896718330388), (1466, 0.07140987061894952), (1467, 0.0009236493967200197), (1468, 0.023268972103075262), (1469, 0.025727725019570283), (1470, 0.007272235289468899), (1471, 0.005274903915103215), (1472, 0.026571286042019818), (1473, 0.00789719302264642), (1474, 0.00504824644457319), (1475, 0.0011396238186906493), (1476, 0.004436538380901181), (1477, 0.005141868863193889), (1478, 0.0011115611416086105), (1479, 0.0010506767525335443), (1480, 0.06351828344217067), (1481, 0.022407279181330817), (1482, 0.001028865061484446), (1483, 0.017893675153897746), (1484, 0.005332195581715581), (1485, 0.01816583704086153), (1486, 0.005034713193035849), (1487, 0.03379001608449158), (1488, 0.00924970777381851), (1489, 0.026868808883821784), (1490, 0.029591344291685386), (1491, 0.013363250089981503), (1492, 0.015756442572867464), (1493, 0.011580992012319557), (1494, 0.045234548547682385), (1495, 0.00754889033245899), (1496, 0.004061784537642916), (1497, 0.0010407131866744428), (1498, 0.0), (1499, 0.009089729426093207), (1500, 0.002687092466696968), (1501, 0.008066862726491791), (1502, 0.0025398095331705044), (1503, 0.048077528758163), (1504, 0.008373687337069304), (1505, 0.04292448172662177), (1506, 0.004740934843914309), (1507, 0.0010108219767446353), (1508, 0.026277583367267005), (1509, 0.0010386561844041905), (1510, 0.005078200270627912), (1511, 0.017506899447977148), (1512, 0.0049698237490497475), (1513, 0.016544280602850715), (1514, 0.009577425263839628), (1515, 0.003838301163464425), (1516, 0.011034160421700452), (1517, 0.008415359737540826), (1518, 0.01171926672132624), (1519, 0.007744300557710579), (1520, 0.010151723103995348), (1521, 0.007392218505832012), (1522, 0.026047137685600658), (1523, 0.008020774959538984), (1524, 0.051209378087326715), (1525, 0.0009532584606849672), (1526, 0.003426384309962182), (1527, 0.015825521114831917), (1528, 0.024986898712331267), (1529, 0.0077804931778198624), (1530, 0.009900422694304477), (1531, 0.012498743345553731), (1532, 0.010930798331834768), (1533, 0.007552192454580012), (1534, 0.027329050170489932), (1535, 0.02334526703086811), (1536, 0.01877700765742716), (1537, 0.0038102536036212498), (1538, 0.040376600985676844), (1539, 0.016154313199494084), (1540, 0.03840233676138259), (1541, 0.0037758638694810422), (1542, 0.011720140389787644), (1543, 0.021919471635838288), (1544, 0.00399407341067563), (1545, 0.023953224613745303), (1546, 0.02993833367829463), (1547, 0.013747748408947736), (1548, 0.011305091821949406), (1549, 0.014530022065043998), (1550, 0.03380966256224559), (1551, 0.01026037365693103), (1552, 0.008475866442522451), (1553, 0.02314202029071412), (1554, 0.013408023634625265), (1555, 0.023278665119286307), (1556, 0.010093932847889776), (1557, 0.011672088895099447), (1558, 0.01407355708545343), (1559, 0.004424428510757595), (1560, 0.04171846165572467), (1561, 0.007702942289523847), (1562, 0.005143527761049519), (1563, 0.1162849203850966), (1564, 0.000916835724184876), (1565, 0.012017077485787859), (1566, 0.031140683570979252), (1567, 0.009221993208602178), (1568, 0.004284479362504265), (1569, 0.005020971635222991), (1570, 0.0011329271450158628), (1571, 0.011690544544792698), (1572, 0.048173607576617455), (1573, 0.015526236070796333), (1574, 0.029106615840864016), (1575, 0.0421081248182727), (1576, 0.013963342791762475), (1577, 0.018359746789443257), (1578, 0.004248818718973849), (1579, 0.02355271268473027), (1580, 0.05847437672812177), (1581, 0.0010525083447853816), (1582, 0.06196750281676427), (1583, 0.015209604357699177), (1584, 0.01096608767645584), (1585, 0.010018693075524073), (1586, 0.023171483528182785), (1587, 0.009074276551293843), (1588, 0.029552152509434458), (1589, 0.01699268881876317), (1590, 0.004546334169130424), (1591, 0.009942100207080126), (1592, 0.10348878529665236), (1593, 0.030547699641996624), (1594, 0.0051802066598796645), (1595, 0.019277127073178486), (1596, 0.004331165333673406), (1597, 0.05163416363182073), (1598, 0.008389448295454604), (1599, 0.010477732560435434), (1600, 0.004240575250236021), (1601, 0.004998699218345707), (1602, 0.015464275364355245), (1603, 0.0314639548050171), (1604, 0.021312365267293555), (1605, 0.006416338009021862), (1606, 0.02472911374900214), (1607, 0.014023854916203286), (1608, 0.028662543750721158), (1609, 0.0044596685430760875), (1610, 0.00891333594836256), (1611, 0.0041356041264080925), (1612, 0.0), (1613, 0.004558030335863647), (1614, 0.008394804684061867), (1615, 0.0046447976619642915), (1616, 0.012309764846615168), (1617, 0.010266593674979884), (1618, 0.03835574398524021), (1619, 0.003829673202616975), (1620, 0.007983718978071989), (1621, 0.019559012776322965), (1622, 0.00957762775867048), (1623, 0.04610190392443906), (1624, 0.008282833667312514), (1625, 0.0277565900368903), (1626, 0.019392690290553398), (1627, 0.04450991684246661), (1628, 0.07471371081782177), (1629, 0.008390447945502847), (1630, 0.011660558775094025), (1631, 0.025356552103026217), (1632, 0.007681028505995776), (1633, 0.023748491552808608), (1634, 0.0011025929328947555), (1635, 0.022127339672954483), (1636, 0.05050454215778277), (1637, 0.014802927788201595), (1638, 0.01159148720081023), (1639, 0.017677462465991955), (1640, 0.010828519688071874), (1641, 0.021312600887659197), (1642, 0.011761149471286834), (1643, 0.00805483499670867), (1644, 0.004708804191340352), (1645, 0.022273570733368955), (1646, 0.039046370311262416), (1647, 0.045160461788008144), (1648, 0.0009753860137970431), (1649, 0.005334652578480624), (1650, 0.013796329715877572), (1651, 0.008058513940615545), (1652, 0.0009620950137895407), (1653, 0.011316857801222931), (1654, 0.01054583790708385), (1655, 0.08201693465506947), (1656, 0.04348114970385901), (1657, 0.0), (1658, 0.003490438572748572), (1659, 0.030517475007174815), (1660, 0.017358164662773314), (1661, 0.02425678373955313), (1662, 0.013353910855847112), (1663, 0.013146482705814455), (1664, 0.03015368249067943), (1665, 0.007202494776260677), (1666, 0.010469240398475976), (1667, 0.008900703321663218), (1668, 0.004097898271784015), (1669, 0.05676792718821571), (1670, 0.004015828070293558), (1671, 0.003786475660633226), (1672, 0.010810195500350974), (1673, 0.017950112027677028), (1674, 0.007927263503618224), (1675, 0.06036313849302805), (1676, 0.010407897997756415), (1677, 0.019794128934262963), (1678, 0.02456129495012123), (1679, 0.03522833542337345), (1680, 0.03516923705362214), (1681, 0.008459850635027832), (1682, 0.02787187322917832), (1683, 0.006913778509411068), (1684, 0.041484804372034195), (1685, 0.00698692085281534), (1686, 0.027302371542135905), (1687, 0.018631659347788206), (1688, 0.03969739763663422), (1689, 0.0049367023091583485), (1690, 0.0009107830502575255), (1691, 0.05081403902578668), (1692, 0.029744859530912503), (1693, 0.010828079990603489), (1694, 0.0048856021699890985), (1695, 0.00549096346628474), (1696, 0.09696178607901715), (1697, 0.036936310489731033), (1698, 0.005112367217769212), (1699, 0.008676027443119086), (1700, 0.011563960255799902), (1701, 0.014194908421279248), (1702, 0.0195498381228094), (1703, 0.011528100865614994), (1704, 0.003916252437248375), (1705, 0.004685820963140672), (1706, 0.012359146456463257), (1707, 0.016889446711646244), (1708, 0.005207785323198198), (1709, 0.043587654364583756), (1710, 0.008159450302001558), (1711, 0.00674355808329119), (1712, 0.01849558219945883), (1713, 0.0037611732040686765), (1714, 0.012118957567444818), (1715, 0.09330858575131783), (1716, 0.008338772500297473), (1717, 0.010095520283534052), (1718, 0.016532968298930563), (1719, 0.02533537724990968), (1720, 0.004197560758017263), (1721, 0.007839132236242103), (1722, 0.07242861136480444), (1723, 0.04707786378886738), (1724, 0.010944065093628174), (1725, 0.011439725947867649), (1726, 0.021568867687839808), (1727, 0.005024640550839669), (1728, 0.03523863811938242), (1729, 0.016577851603933033), (1730, 0.004039431351598894), (1731, 0.009841418862188525), (1732, 0.0028036269472442046), (1733, 0.018730499252359804), (1734, 0.032733893081464974), (1735, 0.019283510937608845), (1736, 0.020689016655785975), (1737, 0.004536674794542353), (1738, 0.011533655671124183), (1739, 0.024068064860172503), (1740, 0.015400699357244902), (1741, 0.008492510579227504), (1742, 0.019451088791229126), (1743, 0.004622519908979111), (1744, 0.011577572558144983), (1745, 0.09356528558935104), (1746, 0.0010816173576520395), (1747, 0.025177688296751974), (1748, 0.021199450483242226), (1749, 0.004974435849029458), (1750, 0.012890682674175587), (1751, 0.019964771489958857), (1752, 0.004160193168096866), (1753, 0.04253723636002102), (1754, 0.004731573243400863), (1755, 0.01902098242577415), (1756, 0.0393056039720468), (1757, 0.026656364190158488), (1758, 0.004348917535800572), (1759, 0.021041060217784156), (1760, 0.019190230978664576), (1761, 0.02429902785384326), (1762, 0.02949567316147355), (1763, 0.025224431747486335), (1764, 0.017113366462307083), (1765, 0.01414851852449856), (1766, 0.024410176291971987), (1767, 0.021456560736725944), (1768, 0.001041416703655411), (1769, 0.019108793025366128), (1770, 0.0077072600633085984), (1771, 0.008711582147363275), (1772, 0.0042340665771913), (1773, 0.0010257206388296647), (1774, 0.023242356647853034), (1775, 0.024129755121591757), (1776, 0.011093961350995569), (1777, 0.0010409872844574786), (1778, 0.004140850063259513), (1779, 0.00995236073217113), (1780, 0.01808443804133384), (1781, 0.007054196876991791), (1782, 0.004139681623891385), (1783, 0.036568480888458835), (1784, 0.011471584898380894), (1785, 0.04110869764164781), (1786, 0.013846420054444208), (1787, 0.023985614840485888), (1788, 0.03118488945057211), (1789, 0.005306243643321828), (1790, 0.0010270365474883013), (1791, 0.013801854448792714), (1792, 0.012558967449606974), (1793, 0.012013854883410842), (1794, 0.022150666462112955), (1795, 0.016548688539214998), (1796, 0.026921255312470624), (1797, 0.009125790741271235), (1798, 0.001173489269549677), (1799, 0.015779216104050395), (1800, 0.06128535613118634), (1801, 0.005190294932708298), (1802, 0.0010297731007746465), (1803, 0.02003162495265921), (1804, 0.018343138268497396), (1805, 0.022616029237883865), (1806, 0.0010767682751341816), (1807, 0.013241987482905742), (1808, 0.043786246941908816), (1809, 0.018622637754043447), (1810, 0.0011141159220938199), (1811, 0.0011785856002100629), (1812, 0.00996872556874089), (1813, 0.011216726757791388), (1814, 0.007876169930580743), (1815, 0.007201793494122073), (1816, 0.02018770456057697), (1817, 0.015290266772580597), (1818, 0.004327260172465959), (1819, 0.014533774972030499), (1820, 0.023236984518238066), (1821, 0.023620501407941988), (1822, 0.018715009241211188), (1823, 0.032038947006900693), (1824, 0.020155824628857046), (1825, 0.01866618731206443), (1826, 0.0172424004035763), (1827, 0.10552568571279917), (1828, 0.0010159449131397526), (1829, 0.027370586411689504), (1830, 0.008905285921043032), (1831, 0.03072066386466791), (1832, 0.0010744743533651377), (1833, 0.03865201373694167), (1834, 0.035564301828328725), (1835, 0.06984526007924897), (1836, 0.01536320555669029), (1837, 0.010439134159643801), (1838, 0.030525549442009196), (1839, 0.010212296699419079), (1840, 0.017750172704456883), (1841, 0.0106478479524467), (1842, 0.015044812471662502), (1843, 0.010198014491800089), (1844, 0.02502299267610359), (1845, 0.020870304098476636), (1846, 0.005197222385180685), (1847, 0.008351641459001928), (1848, 0.009042663508193535), (1849, 0.0031423315315207557), (1850, 0.004934176637245243), (1851, 0.02353314533534221), (1852, 0.005372725138548338), (1853, 0.018339398650242478), (1854, 0.015371168512448593), (1855, 0.003970651915925169), (1856, 0.009287089975706904), (1857, 0.027380715207116966), (1858, 0.02090557954105068), (1859, 0.0008553164226487162), (1860, 0.007781572795807474), (1861, 0.0010784900314594697), (1862, 0.03321640837363854), (1863, 0.05721535259186675), (1864, 0.0045389152589294865), (1865, 0.008587576019222212), (1866, 0.022385136945416044), (1867, 0.05883033460554547), (1868, 0.023599422089849595), (1869, 0.0009855423540510108), (1870, 0.017541497492635484), (1871, 0.012036806267224327), (1872, 0.005036455426544625), (1873, 0.022073826207178186), (1874, 0.024942981430860385), (1875, 0.015077095485989702), (1876, 0.017126675631714713), (1877, 0.0426961751271836), (1878, 0.00475567079696419), (1879, 0.008280721096792397), (1880, 0.009048442547889297), (1881, 0.019529382446980877), (1882, 0.015013281240991177), (1883, 0.0010261480788979753), (1884, 0.017579475480275955), (1885, 0.004348810038860985), (1886, 0.00801356538300991), (1887, 0.012035351120320732), (1888, 0.015152880890860466), (1889, 0.003508399318593533), (1890, 0.00866451108455575), (1891, 0.010699031017626925), (1892, 0.0011843871615648707), (1893, 0.012466378201843665), (1894, 0.03521293957885894), (1895, 0.004076247894455875), (1896, 0.019141031608594785), (1897, 0.011899300824603156), (1898, 0.037794946519645205), (1899, 0.004198213275822933), (1900, 0.02773335951049253), (1901, 0.01004789423753229), (1902, 0.00993700632867374), (1903, 0.04236629535113927), (1904, 0.025236062434331845), (1905, 0.005356265123270556), (1906, 0.004305382800368034), (1907, 0.0011437706358501847), (1908, 0.0011062848987750643), (1909, 0.06849882590841391), (1910, 0.0043482736284580666), (1911, 0.05853831212382899), (1912, 0.004177988310589215), (1913, 0.021030161607536117), (1914, 0.019151341056467958), (1915, 0.011017336053948201), (1916, 0.01555671250714528), (1917, 0.020447555505406077), (1918, 0.022392086320691187), (1919, 0.03476828701509997), (1920, 0.006451296427028533), (1921, 0.008298708714919218), (1922, 0.02058295070866595), (1923, 0.034709260602926145), (1924, 0.030057211963324913), (1925, 0.004438310141170548), (1926, 0.011830857566750112), (1927, 0.02469799765337829), (1928, 0.01142475063413312), (1929, 0.014832262139135076), (1930, 0.014794606392281043), (1931, 0.01866205491743481), (1932, 0.024701123770937288), (1933, 0.00823694016924082), (1934, 0.03099061775005755), (1935, 0.0011774290430937126), (1936, 0.003970098736079137), (1937, 0.015429581321766025), (1938, 0.014848882440832614), (1939, 0.025274702541333093), (1940, 0.03814857558568219), (1941, 0.05534768839046347), (1942, 0.004252361513085884), (1943, 0.005242842350247112), (1944, 0.004557248094950821), (1945, 0.04518550173518919), (1946, 0.0056789231171148445), (1947, 0.00877638794731379), (1948, 0.010804837721656833), (1949, 0.008754509310585468), (1950, 0.060245544416516784), (1951, 0.015553140193810577), (1952, 0.00391484215237842), (1953, 0.014247572459493056), (1954, 0.0011482667162118518), (1955, 0.03189601062032389), (1956, 0.00471974848375748), (1957, 0.01924226768646082), (1958, 0.06005135975330316), (1959, 0.018016327366781538), (1960, 0.026646525627895348), (1961, 0.017537828863795013), (1962, 0.028448277402683762), (1963, 0.037434703765583804), (1964, 0.004830223306775534), (1965, 0.012731746925167629), (1966, 0.0), (1967, 0.005028283558733252), (1968, 0.018198871928975853), (1969, 0.020256298178521193), (1970, 0.01991867588426024), (1971, 0.029596426471347033), (1972, 0.02496230573875575), (1973, 0.03559375657798134), (1974, 0.004431798367473154), (1975, 0.03597523819840092), (1976, 0.0011525475217312503), (1977, 0.007607100485981709), (1978, 0.02673887014255694), (1979, 0.017342094153340173), (1980, 0.031211544908045348), (1981, 0.011236870857976162), (1982, 0.001131411750359768), (1983, 0.001081905157938798), (1984, 0.01082308859917356), (1985, 0.052046207965630906), (1986, 0.007637812419848146), (1987, 0.012210210461425149), (1988, 0.0046488557093243375), (1989, 0.005649056076759396), (1990, 0.02871976390391867), (1991, 0.0011966458079556742), (1992, 0.004632674709984811), (1993, 0.0009955847451833372), (1994, 0.04658794711124865), (1995, 0.025889951659408474), (1996, 0.004442371538520532), (1997, 0.003712213438625568), (1998, 0.00813000209678929), (1999, 0.026074184971013308), (2000, 0.023282372907663475), (2001, 0.012413023547464439), (2002, 0.031288939881918734), (2003, 0.011746550020268424), (2004, 0.040917834007261254), (2005, 0.04890001214284777), (2006, 0.05059115199198428), (2007, 0.007564768396871517), (2008, 0.0755708611887628), (2009, 0.0010127582778905711), (2010, 0.01214084075522638), (2011, 0.013216973612774987), (2012, 0.008178811333757027), (2013, 0.03544773824393268), (2014, 0.011180069512888437), (2015, 0.0036895676437230045), (2016, 0.004490287736874607), (2017, 0.011975778655817917), (2018, 0.018909304229980037), (2019, 0.058365632657731495), (2020, 0.033193749846328814), (2021, 0.0036740142811839), (2022, 0.0007609022070517648), (2023, 0.06458062466045225), (2024, 0.03863632782768898), (2025, 0.011323808211102553), (2026, 0.00456260419887344), (2027, 0.018280519178977286), (2028, 0.004152912356884845), (2029, 0.019850234319915228), (2030, 0.001033955081138497), (2031, 0.005428033900973728), (2032, 0.03280976225155113), (2033, 0.020359537475470802), (2034, 0.015296986685661606), (2035, 0.03442162248212388), (2036, 0.026985997567009888), (2037, 0.02223824445213988), (2038, 0.008465182070024564), (2039, 0.0809411454079047), (2040, 0.013183732232135969), (2041, 0.01250717759238824), (2042, 0.023893342307616826), (2043, 0.009515777311735998), (2044, 0.004426421607421474), (2045, 0.0009392169247765978), (2046, 0.013071987857678012), (2047, 0.013786266474320776), (2048, 0.005751808368742574), (2049, 0.00792248229477414), (2050, 0.01391261476732531), (2051, 0.012102227513745541), (2052, 0.0011952131644781666), (2053, 0.007675515130937775), (2054, 0.006970577016682463), (2055, 0.011893819121418892), (2056, 0.004607306788145462), (2057, 0.03850881492377854), (2058, 0.024484944284360398), (2059, 0.023310567893876765), (2060, 0.0050270074335098955), (2061, 0.04586969404760562), (2062, 0.014079051147821726), (2063, 0.008087214370953886), (2064, 0.016785075620661574), (2065, 0.03412042894249699), (2066, 0.029791489868911007), (2067, 0.010038849665988805), (2068, 0.008203406696793637), (2069, 0.004458524498305888), (2070, 0.06791978424077891), (2071, 0.007496930017740128), (2072, 0.004830507646905027), (2073, 0.004886380359874048), (2074, 0.016513192304296872), (2075, 0.0764346959293685), (2076, 0.037153847613894904), (2077, 0.009895698454818165), (2078, 0.02954378710666725), (2079, 0.008329092389668918), (2080, 0.011229748802076913), (2081, 0.011611407938920402), (2082, 0.032427332181666074), (2083, 0.014434014272114513), (2084, 0.012773794253804819), (2085, 0.01162636602737197), (2086, 0.026515403570440667), (2087, 0.012736918847453758), (2088, 0.04466580371172175), (2089, 0.010468553537084884), (2090, 0.005164270110201629), (2091, 0.025163848272857774), (2092, 0.06385753540942316), (2093, 0.013228247720305817), (2094, 0.001091241506397763), (2095, 0.016072354847913372), (2096, 0.022656193580246637), (2097, 0.004928429404851871), (2098, 0.0011199450458713523), (2099, 0.024608838822321864), (2100, 0.017757568738105352), (2101, 0.00811408087334804), (2102, 0.020292630745462753), (2103, 0.0037850914240942783), (2104, 0.007525147156937622), (2105, 0.010607065123228246), (2106, 0.007356950086325819), (2107, 0.004137017183833683), (2108, 0.023605710560191243), (2109, 0.005580620556722025), (2110, 0.01732160971458758), (2111, 0.029967642616873198), (2112, 0.008942833051583401), (2113, 0.004010691386803027), (2114, 0.004422502258774673), (2115, 0.029736678863191788), (2116, 0.001019852740767507), (2117, 0.0043166908721397395), (2118, 0.005384184951431459), (2119, 0.003273125778698359), (2120, 0.012543281942537069), (2121, 0.05088461458036581), (2122, 0.025936460043366954), (2123, 0.013622919452613892), (2124, 0.05248577641216142), (2125, 0.0035601920308965984), (2126, 0.03185734684820863), (2127, 0.0080495262333174), (2128, 0.023996850560116086), (2129, 0.012477842089273659), (2130, 0.023797869989930467), (2131, 0.022883032059010235), (2132, 0.0036689731175151867), (2133, 0.013642598834665485), (2134, 0.03745223285057992), (2135, 0.02788660922286953), (2136, 0.019207783285141247), (2137, 0.01360256434470853), (2138, 0.001047777956979494), (2139, 0.015036082417877225), (2140, 0.02485913821158928), (2141, 0.019798136988932208), (2142, 0.0011113702643444807), (2143, 0.004986401025774014), (2144, 0.007887372458374092), (2145, 0.01540941244080737), (2146, 0.02053471538301074), (2147, 0.045665494199202454), (2148, 0.011853980505864382), (2149, 0.02233615639982939), (2150, 0.0034984610214141786), (2151, 0.009191077975803583), (2152, 0.013715589544625031), (2153, 0.013602264893667356), (2154, 0.000980040502885795), (2155, 0.034653004568379976), (2156, 0.012634566307997228), (2157, 0.017906559142802727), (2158, 0.004945600916714683), (2159, 0.02088552599363782), (2160, 0.00963025305746579), (2161, 0.011155503522560253), (2162, 0.0188747824522028), (2163, 0.000982686342098149), (2164, 0.01868591176511325), (2165, 0.011550199016800293), (2166, 0.011100984374924638), (2167, 0.046856027782989584), (2168, 0.02638856554830343), (2169, 0.001143135693980039), (2170, 0.010203901153956087), (2171, 0.013730432670357815), (2172, 0.03127277539234445), (2173, 0.004999838759601288), (2174, 0.010887526653342694), (2175, 0.029923929410389877), (2176, 0.014594698303224147), (2177, 0.08243461063581554), (2178, 0.014367260063757253), (2179, 0.024441143851555762), (2180, 0.012056457940330252), (2181, 0.010339045250846876), (2182, 0.022442169332635434), (2183, 0.06465410001453491), (2184, 0.011489121447271666), (2185, 0.03117789162036615), (2186, 0.007253094473965738), (2187, 0.010081167582085642), (2188, 0.02353736002353905), (2189, 0.011335079582061794), (2190, 0.008142208879784), (2191, 0.04953138408420886), (2192, 0.008004903695950017), (2193, 0.003872846420107802), (2194, 0.00820755706051064), (2195, 0.04405233233320901), (2196, 0.009448389009043738), (2197, 0.004971623215923234), (2198, 0.04561355035897781), (2199, 0.019856632837353408), (2200, 0.007516744851148659), (2201, 0.0), (2202, 0.004079787395979736), (2203, 0.018698692885942933), (2204, 0.04440773491319501), (2205, 0.024099078567791105), (2206, 0.02300421860882875), (2207, 0.030525105271875), (2208, 0.007919833211715892), (2209, 0.005303652856312698), (2210, 0.007413687121641657), (2211, 0.010115577178022124), (2212, 0.012411672376823718), (2213, 0.0026130581237172133), (2214, 0.0013775320015518087), (2215, 0.004426009287948146), (2216, 0.0077091699801199445), (2217, 0.01844264066453233), (2218, 0.015226562597659784), (2219, 0.006521991746634228), (2220, 0.03456562907836798), (2221, 0.02469681130505282), (2222, 0.005277050295633259), (2223, 0.005551586430928941), (2224, 0.004090835472846573), (2225, 0.007116782482879696), (2226, 0.002505013631898431), (2227, 0.01801199654247628), (2228, 0.003926995637999718), (2229, 0.03214192105543451), (2230, 0.004483924673349538), (2231, 0.012371198083869175), (2232, 0.006476660446841195), (2233, 0.04559678531334953), (2234, 0.001069328124198288), (2235, 0.013401104663660136), (2236, 0.01523743564361682), (2237, 0.030417560596561397), (2238, 0.008110605492565582), (2239, 0.008241124522146514), (2240, 0.004129945815419227), (2241, 0.022535366022433768), (2242, 0.06120367952850012), (2243, 0.011530134137054986), (2244, 0.01744345610296138), (2245, 0.015062836476946688), (2246, 0.033875738130878144), (2247, 0.000863774247727886), (2248, 0.0010378802233415932), (2249, 0.00545100938606374), (2250, 0.0009918224372163784), (2251, 0.01043821475298314), (2252, 0.1328256416499825), (2253, 0.025989661862509904), (2254, 0.004533962866202999), (2255, 0.020681562321876974), (2256, 0.020094842411910237), (2257, 0.021781356404094343), (2258, 0.007912937828923371), (2259, 0.004665197744992235), (2260, 0.00889627846513413), (2261, 0.0037978184343714517), (2262, 0.011226276451404137), (2263, 0.004469855394709892), (2264, 0.0009628131816971742), (2265, 0.003917616047907208), (2266, 0.015432021486244351), (2267, 0.0025130602160116865), (2268, 0.052703515962724545), (2269, 0.00543873563034423), (2270, 0.0052137462058881945), (2271, 0.004163347872215686), (2272, 0.01598587765812384), (2273, 0.011190140301420192), (2274, 0.016019740321552844), (2275, 0.024243138381203864), (2276, 0.006888681684333835), (2277, 0.015034055659527012), (2278, 0.015237291283244296), (2279, 0.00822264954841579), (2280, 0.020688673720825064), (2281, 0.010337531382558206), (2282, 0.014634153156537724), (2283, 0.019348861345218165), (2284, 0.04226491326247529), (2285, 0.017093497345561603), (2286, 0.004517142381306634), (2287, 0.018212265120573775), (2288, 0.005480751790722639), (2289, 0.01712574725595419), (2290, 0.06382442419706917), (2291, 0.00834208808372302), (2292, 0.026291913622516032), (2293, 0.018893379644004886), (2294, 0.07793332773153318), (2295, 0.004893004352740928), (2296, 0.015457464062205911), (2297, 0.001018156164303306), (2298, 0.06276895928649878), (2299, 0.004725130387085837), (2300, 0.004024204015944429), (2301, 0.016517116518723056), (2302, 0.005099234212474516), (2303, 0.01947552959894266), (2304, 0.003913910138276634), (2305, 0.02918677072811534), (2306, 0.004524048957569105), (2307, 0.03598324077042889), (2308, 0.017447312016811198), (2309, 0.015355877530526934), (2310, 0.02289009478609923), (2311, 0.008150332756426787), (2312, 0.019280769074232814), (2313, 0.04184137779394438), (2314, 0.009967216271951955), (2315, 0.019823582802958345), (2316, 0.003907379215431728), (2317, 0.014983492353460802), (2318, 0.01156123998296822), (2319, 0.012346940505475842), (2320, 0.0011862652098774363), (2321, 0.013434062241235027), (2322, 0.0009119415630723203), (2323, 0.01480713513883178), (2324, 0.015923758017813826), (2325, 0.014157871570979894), (2326, 0.004764708492420366), (2327, 0.012146716470986514), (2328, 0.009452273109953021), (2329, 0.01162977548711311), (2330, 0.004140011116607331), (2331, 0.01736293783317962), (2332, 0.0024526511494637883), (2333, 0.02223999696745556), (2334, 0.026028124604541264), (2335, 0.0011297978758339226), (2336, 0.02491766936831421), (2337, 0.004972943223682459), (2338, 0.001182514622706589), (2339, 0.015495744382360933), (2340, 0.02878401927091232), (2341, 0.0043945482418691235), (2342, 0.0039720886216926396), (2343, 0.0009285435270878269), (2344, 0.005200640250738701), (2345, 0.022773583629065494), (2346, 0.032078011681293386), (2347, 0.02103501787222592), (2348, 0.0105814670088398), (2349, 0.008650078580981472), (2350, 0.016018443553627665), (2351, 0.014268382477986912), (2352, 0.01776351537822146), (2353, 0.029704233002580637), (2354, 0.04644721252911901), (2355, 0.013068985663371653), (2356, 0.028868668061945695), (2357, 0.013900617018010306), (2358, 0.008844531758620508), (2359, 0.024414266505948315), (2360, 0.00618499617500934), (2361, 0.026100053556701266), (2362, 0.08061359342244546), (2363, 0.011247386322253477), (2364, 0.023768959202228497), (2365, 0.01634414497956866), (2366, 0.018843081065514022), (2367, 0.0012346160657301147), (2368, 0.0039239703941981495), (2369, 0.003647734078587871), (2370, 0.020154120800862357), (2371, 0.0067850524131417515), (2372, 0.08481543891067993), (2373, 0.02678294058182104), (2374, 0.0008979062211805373), (2375, 0.04092348552699861), (2376, 0.011347219460564797), (2377, 0.015000369576663158), (2378, 0.0032073589808889443), (2379, 0.02566038527349146), (2380, 0.004124762800495422), (2381, 0.0035111732640364865), (2382, 0.001046863790341366), (2383, 0.03600456099313239), (2384, 0.02067418506392052), (2385, 0.02993189680478326), (2386, 0.001103259210238675), (2387, 0.057583771360108935), (2388, 0.00898986775804658), (2389, 0.004148163771014955), (2390, 0.008213706981363651), (2391, 0.005654398389978007), (2392, 0.004757479712428366), (2393, 0.005043493433158906), (2394, 0.016544144820928447), (2395, 0.038127748177656615), (2396, 0.00802312090630041), (2397, 0.02542336225503942), (2398, 0.008880740319560085), (2399, 0.04990074227798748), (2400, 0.056075890105038016), (2401, 0.05018074653578907), (2402, 0.014877556054588022), (2403, 0.0038935675479964144), (2404, 0.004228518711935725), (2405, 0.02610398428242874), (2406, 0.043550155237931334), (2407, 0.0049867911585278115), (2408, 0.0269686420315789), (2409, 0.021656706118121073), (2410, 0.019086509618819598), (2411, 0.02418558081629855), (2412, 0.01752461331456521), (2413, 0.00887143099545951), (2414, 0.032709942820067936), (2415, 0.025327470192191358), (2416, 0.023180407014925533), (2417, 0.11889951480435285), (2418, 0.001120141199680185), (2419, 0.01026504973513186), (2420, 0.01186707866144318), (2421, 0.07074216730221591), (2422, 0.008389402631026631), (2423, 0.0010340232939792843), (2424, 0.004899074110248484), (2425, 0.012514777503094555), (2426, 0.0009789115718435465), (2427, 0.001015393181564292), (2428, 0.008473263221061724), (2429, 0.01248251694905471), (2430, 0.004433659569472684), (2431, 0.015045675300877371), (2432, 0.011893429320695436), (2433, 0.009260447354674685), (2434, 0.034772732744018), (2435, 0.043602590509177454), (2436, 0.09887596040716479), (2437, 0.01078335181819318), (2438, 0.03000475205315985), (2439, 0.0010585819545085027), (2440, 0.009966709235273687), (2441, 0.004109017432720168), (2442, 0.013474486087246896), (2443, 0.005108114741782334), (2444, 0.06806051064627001), (2445, 0.02054363330503125), (2446, 0.0011416115510164556), (2447, 0.0110951552393163), (2448, 0.011499463796139128), (2449, 0.0012032086128462853), (2450, 0.0010057639344537444), (2451, 0.011050050672256412), (2452, 0.050713541176654116), (2453, 0.02332078700597604), (2454, 0.0013004402965525734), (2455, 0.0009289294454429102), (2456, 0.033128920483263505), (2457, 0.025988257648132413), (2458, 0.02976132336270859), (2459, 0.028292910352056118), (2460, 0.00867598364283974), (2461, 0.04145934439121805), (2462, 0.011387584645909549), (2463, 0.03402984467150557), (2464, 0.015122973899152167), (2465, 0.007528009693727883), (2466, 0.07005513549768543), (2467, 0.004633015865780124), (2468, 0.020063853922489328), (2469, 0.004344119916654447), (2470, 0.010286403300715044), (2471, 0.008812724208744892), (2472, 0.004021584748870746), (2473, 0.015745958799885534), (2474, 0.015537336148018641), (2475, 0.007824248623485734), (2476, 0.004065545443369494), (2477, 0.013901850069094885), (2478, 0.015967088649584866), (2479, 0.0372919741954165), (2480, 0.007375697433692499), (2481, 0.009601370187882962), (2482, 0.01750757581613884), (2483, 0.006506772877142644), (2484, 0.01722823854064657), (2485, 0.03643741927931953), (2486, 0.026785081160561313), (2487, 0.006860329604971463), (2488, 0.03149051171435986), (2489, 0.012794588209616372), (2490, 0.041369250405170796), (2491, 0.03168465235831218), (2492, 0.014640592519332604), (2493, 0.0010889723516923455), (2494, 0.004434232533838385), (2495, 0.0009981106335200242), (2496, 0.018207072760692864), (2497, 0.009916844056234424), (2498, 0.004350922275285839), (2499, 0.01846550755893292), (2500, 0.018471656410677096), (2501, 0.000982937763755313), (2502, 0.03129376523119258), (2503, 0.001075218220420547), (2504, 0.020162924518608488), (2505, 0.013393457840598528), (2506, 0.024388576196381184), (2507, 0.011039672561999826), (2508, 0.005436435354504996), (2509, 0.017864997337428364), (2510, 0.003313186707591815), (2511, 0.007589014100913233), (2512, 0.015468731886152387), (2513, 0.029315733604477985), (2514, 0.014465306520511059), (2515, 0.01500917695612454), (2516, 0.013050329331550998), (2517, 0.041578897257567124), (2518, 0.02895643230570384), (2519, 0.022299888171618903), (2520, 0.0009680337094959225), (2521, 0.046303496737019556), (2522, 0.026733734770951215), (2523, 0.021150912534122965), (2524, 0.004997624131019368), (2525, 0.02582222343511959), (2526, 0.013033473226278833), (2527, 0.0042285305091471275), (2528, 0.026614201548090497), (2529, 0.00106226207746307), (2530, 0.00888223594118059), (2531, 0.0010700947935500936), (2532, 0.041262979153884036), (2533, 0.012090779705569168), (2534, 0.04481724803039342), (2535, 0.01049235259925239), (2536, 0.0009991027862776508), (2537, 0.010289780741401534), (2538, 0.026645162429714396), (2539, 0.025340934379855122), (2540, 0.010760935876051262), (2541, 0.007738609814288371), (2542, 0.0156086817230497), (2543, 0.01859690085648918), (2544, 0.025651096344962314), (2545, 0.00522344329450074), (2546, 0.014042815414279725), (2547, 0.0008801996226887956), (2548, 0.05023063442422178), (2549, 0.0009623773792108309), (2550, 0.004709427081727452), (2551, 0.028538287877653497), (2552, 0.006398589274247491), (2553, 0.0010405511573551242), (2554, 0.04172083855030971), (2555, 0.029256755129755507), (2556, 0.01772596977318852), (2557, 0.01531222569116585), (2558, 0.031866492086297375), (2559, 0.019452320364287564), (2560, 0.0040118450508719004), (2561, 0.0034081560331128747), (2562, 0.03163367654044877), (2563, 0.012622511028142049), (2564, 0.01069831671235405), (2565, 0.005375130590371291), (2566, 0.014981487139475062), (2567, 0.011163995507895878), (2568, 0.014789946749895335), (2569, 0.03512634629769654), (2570, 0.012671306099810901), (2571, 0.01972527938944982), (2572, 0.020541566719449844), (2573, 0.0011422990382665983), (2574, 0.011608348373996033), (2575, 0.04536517235821838), (2576, 0.008889292111307682), (2577, 0.014402836809641953), (2578, 0.036892912906126965), (2579, 0.008741950134163854), (2580, 0.04555291846756878), (2581, 0.005097038002841994), (2582, 0.019870153076838846), (2583, 0.004936160065321583), (2584, 0.0010036508545357514), (2585, 0.07393759127922744), (2586, 0.05831546152936574), (2587, 0.0011790019160491196), (2588, 0.027789527343903168), (2589, 0.0072276966450949415), (2590, 0.009830738442208053), (2591, 0.0), (2592, 0.003819753936281363), (2593, 0.011665844646179025), (2594, 0.027282437907879258), (2595, 0.001094033281535523), (2596, 0.007957617645508345), (2597, 0.0010081503847300874), (2598, 0.01659138414162741), (2599, 0.014771955092365112), (2600, 0.000963934857121162), (2601, 0.005238505025253273), (2602, 0.0011261979121541244), (2603, 0.031041122650543457), (2604, 0.001110868628889721), (2605, 0.0009962366686470565), (2606, 0.008701759051605284), (2607, 0.020396067958508925), (2608, 0.013936641378476307), (2609, 0.012368097849305822), (2610, 0.0009930975336932776), (2611, 0.017045576886486932), (2612, 0.024640263637442657), (2613, 0.015895139954163133), (2614, 0.012474010036824662), (2615, 0.013885387972303327), (2616, 0.039660319486952075), (2617, 0.012120175780201907), (2618, 0.0050635468896753095), (2619, 0.00808146214965173), (2620, 0.008996837338135352), (2621, 0.012025662639856338), (2622, 0.04316450092803512), (2623, 0.005088346063964277), (2624, 0.008163936574015493), (2625, 0.038880290345120125), (2626, 0.005117870351440659), (2627, 0.001149646323389097), (2628, 0.013249134121656648), (2629, 0.01052176713106711), (2630, 0.01353451188369652), (2631, 0.005098452480692043), (2632, 0.010316894745046889), (2633, 0.012219306879067363), (2634, 0.0080072607066432), (2635, 0.011475199284293192), (2636, 0.0010897019758521742), (2637, 0.009025415161991396), (2638, 0.04944400498131697), (2639, 0.01943038848412696), (2640, 0.016356709024365198), (2641, 0.020711638538593046), (2642, 0.02214780901794428), (2643, 0.008450245436793706), (2644, 0.056885798040076624), (2645, 0.020460552342921632), (2646, 0.005741882277801869), (2647, 0.001089912860324641), (2648, 0.0097337618750221), (2649, 0.0046593796622151126), (2650, 0.014173912375562925), (2651, 0.004066114953882053), (2652, 0.004622289255636266), (2653, 0.004494587821561912), (2654, 0.015359171387370682), (2655, 0.016905402431439884), (2656, 0.019810324865436452), (2657, 0.007882990973876477), (2658, 0.008711876256244637), (2659, 0.04067745215633318), (2660, 0.015000358074213186), (2661, 0.04653844956420073), (2662, 0.009028867667897181), (2663, 0.012892143242226907), (2664, 0.04124254967083446), (2665, 0.0233322142924244), (2666, 0.004118510971433525), (2667, 0.0008880356139390812), (2668, 0.013138654845714432), (2669, 0.01928436345666802), (2670, 0.03301214951314726), (2671, 0.02722306915823591), (2672, 0.015172108155414556), (2673, 0.01474361412616526), (2674, 0.009910678290280684), (2675, 0.0263861164853127), (2676, 0.0070954867307704336), (2677, 0.0042748636408890435), (2678, 0.0685585469195811), (2679, 0.012470102134949363), (2680, 0.027613030969091956), (2681, 0.02613791904496491), (2682, 0.010987271314870045), (2683, 0.008247551547512631), (2684, 0.005258078762317678), (2685, 0.04407070835969148), (2686, 0.031099382758660365), (2687, 0.03285204960849119), (2688, 0.02744518301180407), (2689, 0.0122248547298492), (2690, 0.0038626813212927855), (2691, 0.01763958114727875), (2692, 1.0000000000000002), (2693, 0.007784751420089162), (2694, 0.004685375984803546), (2695, 0.0011906647401713868), (2696, 0.003453615900898851), (2697, 0.020779770087823418), (2698, 0.01733321750695263), (2699, 0.019129995223025803), (2700, 0.05518557287892001), (2701, 0.024134836498815888), (2702, 0.048613673389093226), (2703, 0.012592501569741399), (2704, 0.008867184330207075), (2705, 0.024652738541315094), (2706, 0.008807264657797418), (2707, 0.012389967796974105), (2708, 0.01786291923492942), (2709, 0.0009090737978400931), (2710, 0.00460096211763834), (2711, 0.0011775872628806126), (2712, 0.03907930395967768), (2713, 0.047980053980122665), (2714, 0.002300267216719781), (2715, 0.004823225349877441), (2716, 0.005122523210394771), (2717, 0.01820997324844951), (2718, 0.04568865646117519), (2719, 0.00826022370159414), (2720, 0.02542942798797168), (2721, 0.014525660193582111), (2722, 0.016860552267864343), (2723, 0.010802578863124926), (2724, 0.06586120684066663), (2725, 0.017616285119349394), (2726, 0.01358180737258862), (2727, 0.03475371672110154), (2728, 0.13116110276890544), (2729, 0.001113766326049325), (2730, 0.021420933921379007), (2731, 0.017782728885136437), (2732, 0.026226704158305778), (2733, 0.010760204001036692), (2734, 0.0033728023010381734), (2735, 0.011778294734373479), (2736, 0.02170511392337942), (2737, 0.02623281844412408), (2738, 0.016993841609732052), (2739, 0.008319876304442192), (2740, 0.008336849440647325), (2741, 0.015200169570667294), (2742, 0.011705549412484985), (2743, 0.023842178299343493), (2744, 0.007845486249788501), (2745, 0.013580949412256033), (2746, 0.015548701450014735), (2747, 0.003443679423107418), (2748, 0.0049893744372527), (2749, 0.0009211873322654983), (2750, 0.0011061933182626759), (2751, 0.011221306522892039), (2752, 0.026089257942639336), (2753, 0.0009872907323323248), (2754, 0.03334343865244509), (2755, 0.004160734886071977), (2756, 0.02214043932953228), (2757, 0.008817400843597192), (2758, 0.022909527754635686), (2759, 0.0108421738946879), (2760, 0.03339461997720573), (2761, 0.014976659244917161), (2762, 0.004916050247109325), (2763, 0.008439807966479411), (2764, 0.01819036176697858), (2765, 0.009443660523861468), (2766, 0.009949477301597318), (2767, 0.019078154880276428), (2768, 0.00467636605595802), (2769, 0.02241273253522667), (2770, 0.010621869764611713), (2771, 0.0048466441679121735), (2772, 0.0010612666625416855), (2773, 0.004796301879304699), (2774, 0.0037840689651674237), (2775, 0.011373342123625858), (2776, 0.00900596074922205), (2777, 0.006835620192493334), (2778, 0.01161364422454432), (2779, 0.006790256213336341), (2780, 0.017908557843033922), (2781, 0.004048203476567149), (2782, 0.009931903985398784), (2783, 0.004072953128444568), (2784, 0.017110529490418976), (2785, 0.04152631410803177), (2786, 0.028199112555718994), (2787, 0.018982788447843554), (2788, 0.00862482535330765), (2789, 0.03232179953819731), (2790, 0.06287238489905764), (2791, 0.03421070807842641), (2792, 0.02245328634479728), (2793, 0.010278261953504479), (2794, 0.0), (2795, 0.057713291668829894), (2796, 0.02961800169474638), (2797, 0.009578133152111961), (2798, 0.012655754699953477), (2799, 0.02777740728423208), (2800, 0.0011233931753515617), (2801, 0.048272810338658115), (2802, 0.030883154638411316), (2803, 0.001071965447981924), (2804, 0.028364924355722337), (2805, 0.011679283953656808), (2806, 0.020326978539839825), (2807, 0.017249156360349904), (2808, 0.01489237524233204), (2809, 0.027683269872148822), (2810, 0.00775575960720778), (2811, 0.007760277326416397), (2812, 0.0133031664793209), (2813, 0.0051872277881454066), (2814, 0.0078091107032729565), (2815, 0.010843095617841152), (2816, 0.02142703306932099), (2817, 0.025989201500260014), (2818, 0.04999503985016663), (2819, 0.015014799442244136), (2820, 0.008692690403573346), (2821, 0.0007009916950403933), (2822, 0.0155197141116043), (2823, 0.0010437359363603457), (2824, 0.003902771119667522), (2825, 0.00795799773438478), (2826, 0.004160317532975574), (2827, 0.004311820776226445), (2828, 0.030773765790675707), (2829, 0.0012187585178415011), (2830, 0.0053236474942033145), (2831, 0.00490554240929205), (2832, 0.013923820877725947), (2833, 0.004238428424585328), (2834, 0.005076503308215494), (2835, 0.07241930264336535), (2836, 0.006023755772654675), (2837, 0.016177514551618716), (2838, 0.03740654118275531), (2839, 0.0011337411372156821), (2840, 0.0038777552259218985), (2841, 0.010248476153844307), (2842, 0.0446119423630158), (2843, 0.05855105703905476), (2844, 0.012509624216347562), (2845, 0.03127086990569006), (2846, 0.00449717260234069), (2847, 0.030180357624349476), (2848, 0.009386158633486946), (2849, 0.02555264249005442), (2850, 0.0051149447933368656), (2851, 0.017322903657221465), (2852, 0.004712722564506601), (2853, 0.0010007235928489481), (2854, 0.0010653233346840946), (2855, 0.010135992166550329), (2856, 0.005569139220492151), (2857, 0.023937782847281763), (2858, 0.0032855674251781254), (2859, 0.003778074039006529), (2860, 0.001038342912283703), (2861, 0.04591624509017595), (2862, 0.004137439545264382), (2863, 0.0008699704381866461), (2864, 0.0010615472427124835), (2865, 0.020345023476381497), (2866, 0.01042665055697067), (2867, 0.004441675716254756), (2868, 0.0010816125985725665), (2869, 0.003964876261982789), (2870, 0.01239484208876936), (2871, 0.019464189910596473), (2872, 0.04905762587335377), (2873, 0.022106149474362673), (2874, 0.02459348656755236), (2875, 0.005012594136222106), (2876, 0.0009427359634175137), (2877, 0.01613939120421238), (2878, 0.012631880157843861), (2879, 0.003947120428124885), (2880, 0.004067240356017745), (2881, 0.012734970322999807), (2882, 0.007755792305963953), (2883, 0.04200271403792812), (2884, 0.0011737341865503087), (2885, 0.031056251417390345), (2886, 0.026792085941314568), (2887, 0.018313988535053685), (2888, 0.01017967063102205), (2889, 0.005330266934287654), (2890, 0.011763438737263297), (2891, 0.00842254369828985), (2892, 0.025738790458888803), (2893, 0.01671980970393492), (2894, 0.03463345209168868), (2895, 0.005479828162725622), (2896, 0.0010713301604346568), (2897, 0.0010807891709077708), (2898, 0.021009911646533718), (2899, 0.007479894284405712), (2900, 0.018231899383313287), (2901, 0.0009761576914271104), (2902, 0.013118949711390946), (2903, 0.011658362977618573), (2904, 0.0012147846206418884), (2905, 0.0009998688375443781), (2906, 0.03164055203645742), (2907, 0.015247769028379467), (2908, 0.035920985961216546), (2909, 0.03925131179811146), (2910, 0.005276489109729479), (2911, 0.03686366393118045), (2912, 0.004635066878319916), (2913, 0.01111782125009711), (2914, 0.0033596619418638785), (2915, 0.016461123307689857), (2916, 0.008677211687527175), (2917, 0.02358393787501642), (2918, 0.001025057229427747), (2919, 0.0037041165135409983), (2920, 0.023465001055036377), (2921, 0.02117278714112665), (2922, 0.04474061696700897), (2923, 0.02960565647067312), (2924, 0.0333749402822458), (2925, 0.008544093698413031), (2926, 0.032245039191099445), (2927, 0.023873717135076293), (2928, 0.011916495046900694), (2929, 0.025694653858671142), (2930, 0.004737701702546884), (2931, 0.004731294797845561), (2932, 0.003570557796885165), (2933, 0.0049477290337755645), (2934, 0.016267061799652524), (2935, 0.005518878979838679), (2936, 0.010197287187828467), (2937, 0.012038228612259878), (2938, 0.025307816959980634), (2939, 0.004804134704338272), (2940, 0.0010266738803711773), (2941, 0.012870236296455565), (2942, 0.008688827385160592), (2943, 0.014277665365852506), (2944, 0.018361087337698805), (2945, 0.011021352763641312), (2946, 0.005192190975261463), (2947, 0.004600529152432436), (2948, 0.004772877087437258), (2949, 0.03875971908530343), (2950, 0.02584862522125523), (2951, 0.09122415643936976), (2952, 0.02666445300822542), (2953, 0.000949825376341866), (2954, 0.037356072183446214), (2955, 0.012272885033739201), (2956, 0.0011629618416510053), (2957, 0.0010119662265277735), (2958, 0.008154882915020955), (2959, 0.0019880030686176818), (2960, 0.0009950355415386655), (2961, 0.019451289826148514), (2962, 0.00468099199251605), (2963, 0.008024401095747273), (2964, 0.010061523565234553), (2965, 0.03315493782829923), (2966, 0.000928483247517411), (2967, 0.008255354002333674), (2968, 0.004244636794495069), (2969, 0.004062262065789449), (2970, 0.06943941982018807), (2971, 0.0054229762096981125), (2972, 0.007712403550335612), (2973, 0.0011100495137043465), (2974, 0.011904861970815014), (2975, 0.03765687433880908), (2976, 0.008160120333290138), (2977, 0.0070280442858447175), (2978, 0.037361665262937584), (2979, 0.004578346927863961), (2980, 0.011521366281325631), (2981, 0.021537654529615452), (2982, 0.031171591234831944), (2983, 0.023720417808338938), (2984, 0.0022638315059993466), (2985, 0.024927922800642127), (2986, 0.00405835420661809), (2987, 0.023432931907088464), (2988, 0.008965458629572567), (2989, 0.00418191956891864), (2990, 0.024544265107101414), (2991, 0.032860941686362666), (2992, 0.0474857217857235), (2993, 0.017136894735214188), (2994, 0.013818056029037634), (2995, 0.001152467975192829), (2996, 0.0039702894611482), (2997, 0.004941068552319222), (2998, 0.0010142308106658616), (2999, 0.01193399583562198), (3000, 0.004287531731620375), (3001, 0.02489826253720347), (3002, 0.006903477632503322), (3003, 0.008416902820999366), (3004, 0.004181362960408527), (3005, 0.00618284632704031), (3006, 0.008029999885213879), (3007, 0.007503763049193469), (3008, 0.013070824816183511), (3009, 0.024198338843956557), (3010, 0.03515347098465634), (3011, 0.005103212575613424), (3012, 0.03931750271934689), (3013, 0.07997724300706478), (3014, 0.005514936094828796), (3015, 0.015350153916199758), (3016, 0.00907088942816309), (3017, 0.003923088727773221), (3018, 0.004454140306493349), (3019, 0.007328020459136535), (3020, 0.004463307345613119), (3021, 0.010205429597064074), (3022, 0.011555757893902351), (3023, 0.0011685080042991847), (3024, 0.009630345493491168), (3025, 0.00419350338140788), (3026, 0.0010036389838756017), (3027, 0.008213621603910414), (3028, 0.022198608733650947), (3029, 0.012116841594469227), (3030, 0.0048451103193349054), (3031, 0.0011278163586069272), (3032, 0.08018541958979353), (3033, 0.0162062711800065), (3034, 0.016723711443283162), (3035, 0.010753767959083137), (3036, 0.011684372750043734), (3037, 0.004780475031868757), (3038, 0.0091532259568794), (3039, 0.0009956021518576197), (3040, 0.005248424516794843), (3041, 0.0038173844769685585), (3042, 0.015772161383928618), (3043, 0.01857323845736847), (3044, 0.027779263091394175), (3045, 0.019461062441467815), (3046, 0.02155784673785257), (3047, 0.0038974060922284262), (3048, 0.03732915782289029), (3049, 0.019404932171263486), (3050, 0.004589349632620255), (3051, 0.033442281277085525), (3052, 0.019727241562599772), (3053, 0.01988572957048737), (3054, 0.0037804345552855468), (3055, 0.009136814598567305), (3056, 0.004864977423236157), (3057, 0.015679777162861418), (3058, 0.011400436972258437), (3059, 0.02782423583263116), (3060, 0.013233372859082236), (3061, 0.011008732708574543), (3062, 0.01639063804808238), (3063, 0.03535939065780079), (3064, 0.03286627569005653), (3065, 0.015221644248077778), (3066, 0.028247555060607703), (3067, 0.02454922866822509), (3068, 0.015320599024385699), (3069, 0.019784527179769185), (3070, 0.0011024166167500895), (3071, 0.004322995570171373), (3072, 0.004466191979964415), (3073, 0.00785246375263319), (3074, 0.009146066250954151), (3075, 0.009243232022413181), (3076, 0.008577004358490896), (3077, 0.004232212179661828), (3078, 0.024826727148806006), (3079, 0.02476815205817409), (3080, 0.016515235458499648), (3081, 0.0011332052060679728), (3082, 0.00100000919865593), (3083, 0.02938055176992693), (3084, 0.0009373697506588466), (3085, 0.004773198708341862), (3086, 0.0011608724342487046), (3087, 0.008712910596949045), (3088, 0.04027654579480886), (3089, 0.03466010425170553), (3090, 0.005671951145153166), (3091, 0.02296988157316735), (3092, 0.0010363967419070282), (3093, 0.001008762325711676), (3094, 0.00996221966446539), (3095, 0.012064290098282093), (3096, 0.008340062273107556), (3097, 0.015878691703506448), (3098, 0.0077979799401295576), (3099, 0.006927209170865009), (3100, 0.011701607377157107), (3101, 0.007611243151848702), (3102, 0.041931729278266605), (3103, 0.02100272808169047), (3104, 0.0010789064889514517), (3105, 0.0011441054730824299), (3106, 0.0054953421874541), (3107, 0.00879692164756394), (3108, 0.01470038510707917), (3109, 0.025808111389477754), (3110, 0.02096336126434116), (3111, 0.016028716220572604), (3112, 0.012489896956335287), (3113, 0.027919966906567943), (3114, 0.020900534646348997), (3115, 0.03148171767760979), (3116, 0.005430200862331911), (3117, 0.0010703890711489766), (3118, 0.02285501280639786), (3119, 0.02247923713534397), (3120, 0.0201368926380089), (3121, 0.009564780112341558), (3122, 0.014605105141039746), (3123, 0.004535163399212444), (3124, 0.0009783692352857804), (3125, 0.015789559935570473), (3126, 0.0011220114021370262), (3127, 0.001095844836365686), (3128, 0.008861750815338382), (3129, 0.0011315688438215492), (3130, 0.029789219123947937), (3131, 0.0009953835072580067), (3132, 0.007430016601220918), (3133, 0.023504374557157662), (3134, 0.010433661355470112), (3135, 0.026813441672736426), (3136, 0.010195408797083787), (3137, 0.01793112367944821), (3138, 0.0009594347560100718), (3139, 0.03008727567057217), (3140, 0.004339113410934615), (3141, 0.003709445746667127), (3142, 0.011043690909329966), (3143, 0.1441371977827388), (3144, 0.021914252275453308), (3145, 0.012680450783727523), (3146, 0.03273077332058159), (3147, 0.01935530690096869), (3148, 0.05256090579881331), (3149, 0.0011037435037792164), (3150, 0.0010207826884505021), (3151, 0.01335192174932573), (3152, 0.04827327567629723), (3153, 0.010755189161729696), (3154, 0.018126432642268278), (3155, 0.01627271038661876), (3156, 0.011680414932165026), (3157, 0.00950361838309378), (3158, 0.04257640392907437), (3159, 0.03284044642603816), (3160, 0.004546634959074546), (3161, 0.023374883589513746), (3162, 0.007980202326391708), (3163, 0.01639229732848379), (3164, 0.02585259857860053), (3165, 0.0119832136912476), (3166, 0.020629719411242007), (3167, 0.009684457281752374), (3168, 0.005194386812740447), (3169, 0.004969076174918534), (3170, 0.03532867582342043), (3171, 0.005282617671856639), (3172, 0.004097825567656458), (3173, 0.009180685002494766), (3174, 0.009407310167800154), (3175, 0.029500117926307096), (3176, 0.003583839412458971), (3177, 0.01286398662402682), (3178, 0.010249467523180981), (3179, 0.014671354439781127), (3180, 0.012130870712309519), (3181, 0.004242141593840404), (3182, 0.00760789392423715), (3183, 0.02688059417301307), (3184, 0.008275706442777708), (3185, 0.06788982216099017), (3186, 0.013056313418993735), (3187, 0.02327822854300162), (3188, 0.01129331471573996), (3189, 0.0010184920753481808), (3190, 0.013145000911855971), (3191, 0.09233103871248355), (3192, 0.009414971458918224), (3193, 0.009234234951366608), (3194, 0.0011406988153108428), (3195, 0.006450445920186807), (3196, 0.12246984783187967), (3197, 0.04368065549313277), (3198, 0.00399843984667231), (3199, 0.005158378680438404), (3200, 0.0012072990753327038), (3201, 0.0009345453199409445), (3202, 0.03496402576604743), (3203, 0.07333291147013034), (3204, 0.0037466519266935085), (3205, 0.03196197001085129), (3206, 0.004943241416261064), (3207, 0.0036997178916492934), (3208, 0.012211834396849502), (3209, 0.0009127499317972779), (3210, 0.008253981566899939), (3211, 0.009086104497461023), (3212, 0.004585133146584447), (3213, 0.009013249608842283), (3214, 0.004882193083364952), (3215, 0.004796720634064917), (3216, 0.011624177905398528), (3217, 0.0011169918978033296), (3218, 0.013493967494275758), (3219, 0.008452272354396925), (3220, 0.003999171237223059), (3221, 0.0012155777165699312), (3222, 0.036382180400064426), (3223, 0.010528418851821455), (3224, 0.0011316545473041228), (3225, 0.001147718620371029), (3226, 0.003908892261767976), (3227, 0.0011254536116651248), (3228, 0.009614843903636797), (3229, 0.001066132637329203), (3230, 0.032412138833304655), (3231, 0.008220042015212696), (3232, 0.013234946125892618), (3233, 0.0008564578727767673), (3234, 0.0009967667571086085), (3235, 0.007984311084986387), (3236, 0.004758188795087959), (3237, 0.0010940424022493386), (3238, 0.005935438171400338), (3239, 0.0011301411102665165), (3240, 0.015094048400259588), (3241, 0.012365209614657188), (3242, 0.019669656298024633), (3243, 0.018828368747870885), (3244, 0.004192883097611476), (3245, 0.013134409212938679), (3246, 0.03381220287395395), (3247, 0.012228777352202), (3248, 0.010791954839479805), (3249, 0.005725588622924817), (3250, 0.03192550932332955), (3251, 0.018775348771505055), (3252, 0.008709813113526484), (3253, 0.042413302407050595), (3254, 0.004090548031954213), (3255, 0.026625183473732734), (3256, 0.004069653204004577), (3257, 0.007696384789191402), (3258, 0.03084673488089337), (3259, 0.012597936484799345), (3260, 0.004870082126674666), (3261, 0.05437377711338346), (3262, 0.012249985663579172), (3263, 0.001179528738444212), (3264, 0.016933571927249598), (3265, 0.09800941067777162), (3266, 0.0046906878714132), (3267, 0.02507966558064757), (3268, 0.0010375678122878237), (3269, 0.0010643657047454248), (3270, 0.0009538023829257578), (3271, 0.017154566306971104), (3272, 0.004540617882039469), (3273, 0.00813416192921275), (3274, 0.008870698015675662), (3275, 0.016712669346845364), (3276, 0.003755180438207272), (3277, 0.02488655755883059), (3278, 0.02820985213274594), (3279, 0.011100130331030512), (3280, 0.04086562383304505), (3281, 0.00616188651723513), (3282, 0.014586739724425233), (3283, 0.039624359340364845), (3284, 0.06923625165050998), (3285, 0.0009697901549999392), (3286, 0.00604702931361157), (3287, 0.029473997903169562), (3288, 0.011976433695713546), (3289, 0.016549964386691277), (3290, 0.004710200032721934), (3291, 0.06772242889286864), (3292, 0.007181861571445512), (3293, 0.005325516258968783), (3294, 0.012915233133360373), (3295, 0.010367744086748672), (3296, 0.023840339795001542), (3297, 0.00415694985684412), (3298, 0.0043124855548814615), (3299, 0.0039423737757167225), (3300, 0.013549404649473198), (3301, 0.03521950132535924), (3302, 0.009611250683801737), (3303, 0.02889881620912729), (3304, 0.0011342394717919714), (3305, 0.005108107477506258), (3306, 0.00953427897913729), (3307, 0.003531791910993195), (3308, 0.0009170572924818637), (3309, 0.04560949215261584), (3310, 0.004235643576171818), (3311, 0.052091294571464504), (3312, 0.031230146795989518), (3313, 0.04815702014210941), (3314, 0.0010691768949898932), (3315, 0.01328362607238832), (3316, 0.005604601050251511), (3317, 0.028318142606232853), (3318, 0.009823717494617717), (3319, 0.014850319042682357), (3320, 0.04598473945545285), (3321, 0.008668611323645), (3322, 0.0267376631167819), (3323, 0.007477665825427239), (3324, 0.004531938274067201), (3325, 0.01719045676747323), (3326, 0.013769407501945415), (3327, 0.019003770057596174), (3328, 0.005522766042428568), (3329, 0.04746202954553753), (3330, 0.004364560035794593), (3331, 0.0076525755366648445), (3332, 0.005183098244509462), (3333, 0.005908779082459315), (3334, 0.008537998131240445), (3335, 0.00450071621663693), (3336, 0.00867321983386216), (3337, 0.027720299785598042), (3338, 0.04020224194146124), (3339, 0.031866223985265965), (3340, 0.02616853242914174), (3341, 0.008796437807900029), (3342, 0.021868554149936548), (3343, 0.0053160123392449665), (3344, 0.007197016720173081), (3345, 0.005709069628912012), (3346, 0.0010808460431635063), (3347, 0.0010591519239527144), (3348, 0.008965074424261261), (3349, 0.01060800619782275), (3350, 0.005159591375930582), (3351, 0.014968545699128172), (3352, 0.0009679936709896807), (3353, 0.003762581173458731), (3354, 0.03027861480073909), (3355, 0.05294830905459991), (3356, 0.010082480197281746), (3357, 0.008067011595716364), (3358, 0.0009619394998591185), (3359, 0.008656417008867335), (3360, 0.009574820304917896), (3361, 0.010141218330748263), (3362, 0.013367335503633268), (3363, 0.0633755536483215), (3364, 0.020437152601963136), (3365, 0.007391153416528061), (3366, 0.004337925506205627), (3367, 0.0011188103609860553), (3368, 0.010353855151844702), (3369, 0.01759042076952983), (3370, 0.010884369942884022), (3371, 0.013299056865070592), (3372, 0.0011853380526372517), (3373, 0.026280206136942083), (3374, 0.013309105288550614), (3375, 0.0010523018077323901), (3376, 0.015142403228710006), (3377, 0.00451736161309455), (3378, 0.022146485020413668), (3379, 0.0009604900648420661), (3380, 0.004967333361277042), (3381, 0.00849810408703219), (3382, 0.022977641706166427), (3383, 0.03432172696960867), (3384, 0.0215192303974242), (3385, 0.020120317749447114), (3386, 0.0075208988536911905), (3387, 0.01357326492861317), (3388, 0.015207583641958915), (3389, 0.08945459616044549), (3390, 0.0010345158652946605), (3391, 0.0008983676135687819), (3392, 0.020715366260333924), (3393, 0.018776095346430825), (3394, 0.01616951671907092), (3395, 0.0036498822901387673), (3396, 0.001038225576650819), (3397, 0.016984249568002666), (3398, 0.002638117663706953), (3399, 0.009407358790816545), (3400, 0.0048790519267489065), (3401, 0.0009734059389398523), (3402, 0.0072739579462909295), (3403, 0.022701724170032547), (3404, 0.004898593677068096), (3405, 0.036513490165336775), (3406, 0.017534873808864582), (3407, 0.0367938319307391), (3408, 0.01686493126538683), (3409, 0.02269057249539843), (3410, 0.0010150963935629908), (3411, 0.006504530417027364), (3412, 0.01105094499459312), (3413, 0.005270338829380055), (3414, 0.017673381480883755), (3415, 0.005411625628495084), (3416, 0.00899121446599555), (3417, 0.0007886282721844523), (3418, 0.06189066116728541), (3419, 0.001038574214325772), (3420, 0.009293451821940954), (3421, 0.03299992565609221), (3422, 0.013622985949443313), (3423, 0.004059536056536368), (3424, 0.008562028874102536), (3425, 0.0009827775505424825), (3426, 0.015513554046973216), (3427, 0.014884995429800778), (3428, 0.004237957445178058), (3429, 0.007963737540114672), (3430, 0.02208364002380455), (3431, 0.010704229205605022), (3432, 0.0010462800371747148), (3433, 0.004751698843206342), (3434, 0.004883512096431437), (3435, 0.029066679710629206), (3436, 0.03331176130221372), (3437, 0.09004775175666481), (3438, 0.0476016638855604), (3439, 0.012391744639742283), (3440, 0.055959795765607126), (3441, 0.006124196550285937), (3442, 0.0011303928074810304), (3443, 0.007925966337706921), (3444, 0.004986711098161588), (3445, 0.011123934459120206), (3446, 0.0010851848557593864), (3447, 0.011644734323876972), (3448, 0.00404979422493171), (3449, 0.005029907313866975), (3450, 0.01130902456470601), (3451, 0.006100576213730375), (3452, 0.012398851931597106), (3453, 0.0011808916852945083), (3454, 0.010894067077975224), (3455, 0.024013462215755104), (3456, 0.009487569310737801), (3457, 0.0048374602127332815), (3458, 0.012370025352772842), (3459, 0.027168545356159493), (3460, 0.021699727040649132), (3461, 0.0073970824950595525), (3462, 0.005264189613184655), (3463, 0.005535225637685518), (3464, 0.004633545488335909), (3465, 0.011730771016900388), (3466, 0.008286916102833913), (3467, 0.012830218515778508), (3468, 0.007874658095000825), (3469, 0.0012142935893925426), (3470, 0.028765933732812325), (3471, 0.004297045765404893), (3472, 0.005686951926536263), (3473, 0.010532051148088426), (3474, 0.025397523520256895), (3475, 0.005434364028478491), (3476, 0.04220200758248659), (3477, 0.020892234908048313), (3478, 0.08805012725373475), (3479, 0.02564161788843232), (3480, 0.002661259564462361), (3481, 0.016045365097168106), (3482, 0.00392959978196486), (3483, 0.00577763266839799), (3484, 0.009519399046968656), (3485, 0.007385375080410565), (3486, 0.024415967921800598), (3487, 0.009944009557474674), (3488, 0.0010291268302887876), (3489, 0.01429534082208777), (3490, 0.013149363093373528), (3491, 0.021913361775820626), (3492, 0.004389285631289482), (3493, 0.0037978355809942356), (3494, 0.0010611284332717366), (3495, 0.00430915131452244), (3496, 0.003991474416705814), (3497, 0.00839898912103822), (3498, 0.017188910764790042), (3499, 0.0009242696051059192), (3500, 0.015152976930143032), (3501, 0.01133273818899202), (3502, 0.008989520459325101), (3503, 0.012892413317483496), (3504, 0.005308895918625458), (3505, 0.015927519949825795), (3506, 0.00885106929102039), (3507, 0.026419086536187967), (3508, 0.0010708043472770251), (3509, 0.013600523386047341), (3510, 0.001080248328499145), (3511, 0.001112551229469781), (3512, 0.008369535350880142), (3513, 0.009484022889315056), (3514, 0.01080261326252127), (3515, 0.023203773181685948), (3516, 0.001059541624688187), (3517, 0.0011094171625013346), (3518, 0.006839962494320995), (3519, 0.007845908508339779), (3520, 0.02388428673617478), (3521, 0.0011949168883559117), (3522, 0.03167399526056511), (3523, 0.01180341576746644), (3524, 0.019625767631193187), (3525, 0.0138621091034778), (3526, 0.004793797768849223), (3527, 0.02547701556872254), (3528, 0.004645983845436132), (3529, 0.014461171994146236), (3530, 0.0052746904679187336), (3531, 0.02149041421682814), (3532, 0.06172607963189639), (3533, 0.005245818077483344), (3534, 0.033091787705263234), (3535, 0.0011114393089461895), (3536, 0.03448445907277242), (3537, 0.003732518978362485), (3538, 0.008422773170326659), (3539, 0.0051874954866707595), (3540, 0.0043166562985843485), (3541, 0.011745935615111894), (3542, 0.0076083398113199925), (3543, 0.029878475590857295), (3544, 0.010880038004164972), (3545, 0.005160790457363848), (3546, 0.0037426184554589354), (3547, 0.004168116593280718), (3548, 0.021659109519842665), (3549, 0.05090344516512361), (3550, 0.018625141725017235), (3551, 0.01253726868559163), (3552, 0.018453805578497712), (3553, 0.020231390056018372), (3554, 0.0315760050585115), (3555, 0.00450875847103881), (3556, 0.012470974851125305), (3557, 0.03953218718070144), (3558, 0.011621795415416058), (3559, 0.005872986700047191), (3560, 0.005627907703972255), (3561, 0.005587222676420882), (3562, 0.010266237238367358), (3563, 0.0010876405106462186), (3564, 0.004964662085059908), (3565, 0.050487025542841395), (3566, 0.026446087193762693), (3567, 0.005601448042408495), (3568, 0.020559583243142852), (3569, 0.023261625493424552), (3570, 0.001110014334403912), (3571, 0.012137929846430352), (3572, 0.021961952601896526), (3573, 0.004259021978087091), (3574, 0.02320692508917704), (3575, 0.01693704501107891), (3576, 0.004352196044030502), (3577, 0.034795525130936186), (3578, 0.009327396074200186), (3579, 0.001134103578896258), (3580, 0.010236428624008365), (3581, 0.004753333847580576), (3582, 0.042317571122516565), (3583, 0.1223420786929441), (3584, 0.03232029365557274), (3585, 0.061576423363096565), (3586, 0.0009236098469086818), (3587, 0.00854326592001293), (3588, 0.009486145089776368), (3589, 0.0011439062175127208), (3590, 0.004634887011034414), (3591, 0.004437047038007224), (3592, 0.005697204407495512), (3593, 0.02003025883728128), (3594, 0.013188426994630312), (3595, 0.02045437122210049), (3596, 0.003787517183454599), (3597, 0.024188516662966095), (3598, 0.007661603173263713), (3599, 0.004387160452565229), (3600, 0.005975504711862313), (3601, 0.0010531475098649109), (3602, 0.018149055537362898), (3603, 0.030269075783605007), (3604, 0.0008726692074171519), (3605, 0.012402088685183946), (3606, 0.020737114647246393), (3607, 0.0031222734961630734), (3608, 0.047277666469101746), (3609, 0.013932045179342043), (3610, 0.0009665503978580453), (3611, 0.018096136412578543), (3612, 0.0009249117462988492), (3613, 0.020458494417882327), (3614, 0.0010290591007046611), (3615, 0.004641441266788376), (3616, 0.010652668527971953), (3617, 0.0012186312115943336), (3618, 0.012420535167898648), (3619, 0.0010194196640176897), (3620, 0.004440328952091356), (3621, 0.00463102441263975), (3622, 0.005463000829378333), (3623, 0.023359760711636913), (3624, 0.04965951508595545), (3625, 0.005151879367418707), (3626, 0.007088142244695988), (3627, 0.005271072040019092), (3628, 0.01156574896414515), (3629, 0.02040910437391491), (3630, 0.015120957773424672), (3631, 0.0), (3632, 0.020321802902014928), (3633, 0.003970161513974075), (3634, 0.00825394633392862), (3635, 0.00806968007701828), (3636, 0.012474064804697874), (3637, 0.0423320287705453), (3638, 0.018222047846860365), (3639, 0.0045942234810841505), (3640, 0.013319504919131638), (3641, 0.0010725208246805042), (3642, 0.032366422696146785), (3643, 0.022269500260190596), (3644, 0.004856091004990299), (3645, 0.000993731200563113), (3646, 0.08411633701740154), (3647, 0.001023261070842845), (3648, 0.014028757463180391), (3649, 0.01881577908987218), (3650, 0.008773399702740072), (3651, 0.027162589721021185), (3652, 0.01006060456207942), (3653, 0.023187333998850576), (3654, 0.04792138226043989), (3655, 0.018137096101096022), (3656, 0.014992160770114072), (3657, 0.01364941824610695), (3658, 0.030855327227486944), (3659, 0.07027828277844035), (3660, 0.037482376671181906), (3661, 0.005241559522068511), (3662, 0.005021049953350723), (3663, 0.01226011886496884), (3664, 0.029056354779892882), (3665, 0.013978283312992088), (3666, 0.003956767387125384), (3667, 0.0010305957343863697), (3668, 0.011329194178440874), (3669, 0.00515865487507427), (3670, 0.0010528859408636816), (3671, 0.029352834592338707), (3672, 0.002468369628499429), (3673, 0.0068589712194771285), (3674, 0.01644137977001337), (3675, 0.02489869190189235), (3676, 0.0011906070684337194), (3677, 0.03801056732264657), (3678, 0.007477779806854367), (3679, 0.006957081362836323), (3680, 0.006788266388439922), (3681, 0.08340631110708935), (3682, 0.009057353281869514), (3683, 0.004158204743215825), (3684, 0.0040521388347084675), (3685, 0.022594762624354586), (3686, 0.03503777610392144), (3687, 0.02818030379592495), (3688, 0.009257802127212559), (3689, 0.029049901135386105), (3690, 0.001285923595491531), (3691, 0.005266958205743245), (3692, 0.06759402212531802), (3693, 0.00364542523468573), (3694, 0.04791956548222405), (3695, 0.0010807807668361095), (3696, 0.008634061959708124), (3697, 0.0010537958778890273), (3698, 0.004668305202148794), (3699, 0.021699757737432594), (3700, 0.0039699234988593915), (3701, 0.004025971870107927), (3702, 0.01621328832317727), (3703, 0.004955920699894205), (3704, 0.004173157246284524), (3705, 0.009588289025129886), (3706, 0.016973526142318188), (3707, 0.004425995533000782), (3708, 0.015071661689204392), (3709, 0.0010622236565375105), (3710, 0.04224374064118556), (3711, 0.030108926273986827), (3712, 0.007976578230163692), (3713, 0.007889342237434082), (3714, 0.01190032710565366), (3715, 0.004504999183672678), (3716, 0.004673051996214869), (3717, 0.005102379489197478), (3718, 0.012182565597508454), (3719, 0.0011298838609473357), (3720, 0.008524618079139777), (3721, 0.008803705354991274), (3722, 0.004150168777817854), (3723, 0.005369319904175011), (3724, 0.029822878871114573), (3725, 0.008735269000703585), (3726, 0.015541442671896426), (3727, 0.005631562735864501), (3728, 0.01868368610220216), (3729, 0.00902172083405739), (3730, 0.004032620356993955), (3731, 0.0008294575833758187), (3732, 0.012825610625839423), (3733, 0.010212364416610204), (3734, 0.001047383502474674), (3735, 0.012251359796884879)]\n"
          ]
        }
      ]
    },
    {
      "cell_type": "code",
      "source": [
        "len(Recommendation_Score)"
      ],
      "metadata": {
        "colab": {
          "base_uri": "https://localhost:8080/"
        },
        "id": "oY-DrF00wJqx",
        "outputId": "6ca15a14-46cc-4c87-d970-1dc8aa6cf63b"
      },
      "execution_count": 37,
      "outputs": [
        {
          "output_type": "execute_result",
          "data": {
            "text/plain": [
              "3736"
            ]
          },
          "metadata": {},
          "execution_count": 37
        }
      ]
    },
    {
      "cell_type": "markdown",
      "source": [
        "Get All Movies Sort Based on Recommendation Score WRT Favourite Movie"
      ],
      "metadata": {
        "id": "P1sUQCdJwVJT"
      }
    },
    {
      "cell_type": "code",
      "source": [
        "Sorted_Similar_Movies = sorted(Recommendation_Score , key = lambda x:x[1], reverse=True)\n",
        "print(Sorted_Similar_Movies)"
      ],
      "metadata": {
        "colab": {
          "base_uri": "https://localhost:8080/"
        },
        "id": "4WdZc8ekwSQ5",
        "outputId": "78355500-91ca-4aed-d3da-75388657c855"
      },
      "execution_count": 38,
      "outputs": [
        {
          "output_type": "stream",
          "name": "stdout",
          "text": [
            "[(2692, 1.0000000000000002), (3143, 0.1441371977827388), (634, 0.1412797268392604), (2252, 0.1328256416499825), (2728, 0.13116110276890544), (3196, 0.12246984783187967), (3583, 0.1223420786929441), (2417, 0.11889951480435285), (1563, 0.1162849203850966), (382, 0.11264473069529278), (1827, 0.10552568571279917), (527, 0.10521732775436952), (1592, 0.10348878529665236), (1051, 0.10137371740125092), (2436, 0.09887596040716479), (3265, 0.09800941067777162), (659, 0.09741598827767435), (1696, 0.09696178607901715), (1745, 0.09356528558935104), (1715, 0.09330858575131783), (3191, 0.09233103871248355), (2951, 0.09122415643936976), (3437, 0.09004775175666481), (561, 0.08993613572665497), (3389, 0.08945459616044549), (781, 0.08861558301165613), (3478, 0.08805012725373475), (497, 0.08513974895322567), (2372, 0.08481543891067993), (3646, 0.08411633701740154), (102, 0.0834398333570034), (3681, 0.08340631110708935), (2177, 0.08243461063581554), (1655, 0.08201693465506947), (1377, 0.08097820492634632), (827, 0.08097757094254493), (2039, 0.0809411454079047), (2362, 0.08061359342244546), (3032, 0.08018541958979353), (3013, 0.07997724300706478), (2294, 0.07793332773153318), (2075, 0.0764346959293685), (2008, 0.0755708611887628), (1628, 0.07471371081782177), (125, 0.07406054525977689), (2585, 0.07393759127922744), (3203, 0.07333291147013034), (1353, 0.07263743854168124), (1722, 0.07242861136480444), (2835, 0.07241930264336535), (364, 0.07146438171302372), (1466, 0.07140987061894952), (1211, 0.0708097838010294), (2421, 0.07074216730221591), (3659, 0.07027828277844035), (2466, 0.07005513549768543), (1835, 0.06984526007924897), (2970, 0.06943941982018807), (3284, 0.06923625165050998), (1200, 0.0687060803488133), (2678, 0.0685585469195811), (1909, 0.06849882590841391), (1235, 0.0683369987687066), (2444, 0.06806051064627001), (2070, 0.06791978424077891), (3185, 0.06788982216099017), (739, 0.06783451583254001), (3291, 0.06772242889286864), (3692, 0.06759402212531802), (809, 0.06730103855664438), (191, 0.0669507687328074), (1256, 0.0666942414565288), (211, 0.06613527839252056), (2724, 0.06586120684066663), (1398, 0.06521297420178498), (2183, 0.06465410001453491), (245, 0.06465194642569258), (2023, 0.06458062466045225), (2092, 0.06385753540942316), (2290, 0.06382442419706917), (1480, 0.06351828344217067), (3363, 0.0633755536483215), (2790, 0.06287238489905764), (2298, 0.06276895928649878), (1582, 0.06196750281676427), (3418, 0.06189066116728541), (3532, 0.06172607963189639), (3585, 0.061576423363096565), (1800, 0.06128535613118634), (1349, 0.06128070140917194), (2242, 0.06120367952850012), (1311, 0.06103261039287794), (244, 0.06102254007788695), (1314, 0.06061603632445549), (1675, 0.06036313849302805), (1950, 0.060245544416516784), (1958, 0.06005135975330316), (919, 0.06000054687888961), (1096, 0.0599572244487002), (1867, 0.05883033460554547), (2843, 0.05855105703905476), (1911, 0.05853831212382899), (14, 0.058496086843161946), (161, 0.05848897583446113), (1580, 0.05847437672812177), (2019, 0.058365632657731495), (2586, 0.05831546152936574), (874, 0.05778392114851264), (286, 0.057745315535485876), (2795, 0.057713291668829894), (538, 0.057643224919785505), (609, 0.05759537631885048), (2387, 0.057583771360108935), (652, 0.05730701762515875), (557, 0.05729178738047603), (1863, 0.05721535259186675), (2644, 0.056885798040076624), (1669, 0.05676792718821571), (680, 0.05669344605845017), (105, 0.05658369481344665), (127, 0.056522619760847104), (628, 0.05645500995258082), (233, 0.05614406972298375), (1387, 0.0561407747488926), (2400, 0.056075890105038016), (699, 0.056013875042089635), (3440, 0.055959795765607126), (788, 0.05563757222506488), (1941, 0.05534768839046347), (1098, 0.05533055092433146), (2700, 0.05518557287892001), (1218, 0.05472560358100282), (83, 0.05457140628293261), (746, 0.054439806476097696), (3261, 0.05437377711338346), (850, 0.053950695274792584), (610, 0.05386840844653322), (1375, 0.0534042372219497), (624, 0.05336564971921716), (47, 0.053271319878627356), (3355, 0.05294830905459991), (944, 0.05276125249119457), (2268, 0.052703515962724545), (3148, 0.05256090579881331), (2124, 0.05248577641216142), (3311, 0.052091294571464504), (1985, 0.052046207965630906), (389, 0.05192536320761106), (1597, 0.05163416363182073), (1083, 0.05139459658383982), (232, 0.05138397435560832), (1524, 0.051209378087326715), (3549, 0.05090344516512361), (2121, 0.05088461458036581), (1691, 0.05081403902578668), (2452, 0.050713541176654116), (915, 0.0506212176142913), (2006, 0.05059115199198428), (400, 0.050541727700937275), (1636, 0.05050454215778277), (3565, 0.050487025542841395), (2548, 0.05023063442422178), (2401, 0.05018074653578907), (879, 0.0500518199350225), (2818, 0.04999503985016663), (1201, 0.04995628589938654), (459, 0.049942503255270485), (2399, 0.04990074227798748), (3624, 0.04965951508595545), (2191, 0.04953138408420886), (2638, 0.04944400498131697), (1317, 0.0493977637292999), (2872, 0.04905762587335377), (799, 0.04904334097590226), (1006, 0.048995684030492925), (2005, 0.04890001214284777), (1271, 0.048680221674274125), (2702, 0.048613673389093226), (1307, 0.048611675747824594), (869, 0.04854608114742602), (796, 0.04827379886537649), (3152, 0.04827327567629723), (2801, 0.048272810338658115), (1572, 0.048173607576617455), (3313, 0.04815702014210941), (639, 0.04813508299108232), (1503, 0.048077528758163), (692, 0.04804688836351636), (2713, 0.047980053980122665), (3654, 0.04792138226043989), (3694, 0.04791956548222405), (313, 0.04778772742728379), (1302, 0.04776844135198677), (3438, 0.0476016638855604), (2992, 0.0474857217857235), (3329, 0.04746202954553753), (1371, 0.047334026028014856), (3608, 0.047277666469101746), (1723, 0.04707786378886738), (618, 0.047015667793808745), (302, 0.046927244086545056), (2167, 0.046856027782989584), (782, 0.04685023675956169), (1994, 0.04658794711124865), (2661, 0.04653844956420073), (2354, 0.04644721252911901), (2521, 0.046303496737019556), (949, 0.04611233340425187), (1623, 0.04610190392443906), (3320, 0.04598473945545285), (2861, 0.04591624509017595), (2061, 0.04586969404760562), (1331, 0.04583150337833397), (1318, 0.04578992128820093), (2718, 0.04568865646117519), (2147, 0.045665494199202454), (1244, 0.04565250452262687), (816, 0.04564485977774806), (2198, 0.04561355035897781), (3309, 0.04560949215261584), (2233, 0.04559678531334953), (2580, 0.04555291846756878), (708, 0.04546877218554835), (2575, 0.04536517235821838), (1494, 0.045234548547682385), (1945, 0.04518550173518919), (1647, 0.045160461788008144), (740, 0.045028627451485), (2534, 0.04481724803039342), (2922, 0.04474061696700897), (2088, 0.04466580371172175), (2842, 0.0446119423630158), (1627, 0.04450991684246661), (336, 0.044428085472309364), (2204, 0.04440773491319501), (2685, 0.04407070835969148), (2195, 0.04405233233320901), (1808, 0.043786246941908816), (3197, 0.04368065549313277), (2435, 0.043602590509177454), (1709, 0.043587654364583756), (2406, 0.043550155237931334), (1025, 0.04353812615564826), (897, 0.043505251333904184), (1656, 0.04348114970385901), (1303, 0.04347025722487894), (823, 0.043401729852881155), (737, 0.043315991524337724), (2622, 0.04316450092803512), (1281, 0.043031869867743), (481, 0.04302628498300064), (676, 0.04298354648480935), (1505, 0.04292448172662177), (1436, 0.042841813305119984), (205, 0.042792505671993386), (540, 0.042763215696697665), (1877, 0.0426961751271836), (1391, 0.04265781472197479), (3158, 0.04257640392907437), (1753, 0.04253723636002102), (811, 0.04252947381374434), (984, 0.04248054990761906), (3253, 0.042413302407050595), (1903, 0.04236629535113927), (3637, 0.0423320287705453), (3582, 0.042317571122516565), (2284, 0.04226491326247529), (501, 0.04225727907493618), (3710, 0.04224374064118556), (3476, 0.04220200758248659), (28, 0.042132997698575765), (1575, 0.0421081248182727), (644, 0.04210458106002821), (2883, 0.04200271403792812), (3102, 0.041931729278266605), (383, 0.041845895515673324), (2313, 0.04184137779394438), (259, 0.04184034909270107), (787, 0.041797966074745695), (484, 0.04174519182396426), (2554, 0.04172083855030971), (1560, 0.04171846165572467), (760, 0.04161820058991142), (2517, 0.041578897257567124), (61, 0.04153452906051226), (2785, 0.04152631410803177), (1684, 0.041484804372034195), (2461, 0.04145934439121805), (2490, 0.041369250405170796), (720, 0.04132471696155819), (2532, 0.041262979153884036), (2664, 0.04124254967083446), (239, 0.04112317561999121), (1785, 0.04110869764164781), (13, 0.0410389342321058), (1285, 0.04103334129520325), (216, 0.040964674124734556), (2375, 0.04092348552699861), (2004, 0.040917834007261254), (3280, 0.04086562383304505), (457, 0.040695285941865084), (2659, 0.04067745215633318), (842, 0.040608073214829475), (407, 0.04041359251576611), (1538, 0.040376600985676844), (3088, 0.04027654579480886), (3338, 0.04020224194146124), (896, 0.04017503747186538), (197, 0.04001776597399926), (726, 0.039942707572763796), (136, 0.03989223076549849), (297, 0.03980636568626163), (1125, 0.03978183809738881), (1688, 0.03969739763663422), (2616, 0.039660319486952075), (3283, 0.039624359340364845), (504, 0.03953791514257358), (3557, 0.03953218718070144), (479, 0.03944709678753343), (1258, 0.03939391485606048), (3012, 0.03931750271934689), (1069, 0.03931696391144853), (1756, 0.0393056039720468), (2909, 0.03925131179811146), (729, 0.03919440984489812), (1382, 0.03908772118205162), (2712, 0.03907930395967768), (747, 0.0390693274625144), (1646, 0.039046370311262416), (217, 0.038972235128812024), (115, 0.03894766513241242), (2625, 0.038880290345120125), (603, 0.03886235681823245), (1321, 0.03883094011088015), (443, 0.0388145605911245), (510, 0.038773334775586685), (2949, 0.03875971908530343), (1833, 0.03865201373694167), (2024, 0.03863632782768898), (2057, 0.03850881492377854), (1540, 0.03840233676138259), (135, 0.038381073995273275), (990, 0.03837335740124742), (1618, 0.03835574398524021), (1940, 0.03814857558568219), (2395, 0.038127748177656615), (691, 0.038089041158029496), (3677, 0.03801056732264657), (1381, 0.03795566934780954), (486, 0.03784636572619202), (524, 0.03779765637791389), (1898, 0.037794946519645205), (1215, 0.037794118844740696), (2975, 0.03765687433880908), (3660, 0.037482376671181906), (2134, 0.03745223285057992), (1963, 0.037434703765583804), (34, 0.037411148065385), (2838, 0.03740654118275531), (2978, 0.037361665262937584), (2954, 0.037356072183446214), (3048, 0.03732915782289029), (2479, 0.0372919741954165), (860, 0.03720186395743882), (2076, 0.037153847613894904), (251, 0.036970664837617885), (512, 0.036963828641309655), (1133, 0.03695099755302347), (1697, 0.036936310489731033), (2578, 0.036892912906126965), (1018, 0.03687336884010058), (167, 0.03686711778453316), (2911, 0.03686366393118045), (3407, 0.0367938319307391), (1355, 0.03678683384855511), (472, 0.036657066322064814), (1252, 0.03662889387426865), (1259, 0.03658499400342747), (1783, 0.036568480888458835), (3405, 0.036513490165336775), (1030, 0.036508570845338734), (731, 0.03650452635201947), (838, 0.036495840513232486), (2485, 0.03643741927931953), (1247, 0.03643170152901479), (3222, 0.036382180400064426), (60, 0.03627082001493925), (604, 0.03617216244344365), (503, 0.03616097890718314), (2383, 0.03600456099313239), (2307, 0.03598324077042889), (1975, 0.03597523819840092), (982, 0.035974188994345985), (428, 0.0359675309566347), (2908, 0.035920985961216546), (412, 0.03592036909860266), (548, 0.03590979584035624), (248, 0.03589098718490364), (1213, 0.035859120798917135), (322, 0.035829936829146154), (671, 0.03581631450527725), (181, 0.035769197672825805), (1266, 0.03560595662028628), (667, 0.03559716047366464), (1973, 0.03559375657798134), (24, 0.0355705246035463), (1834, 0.035564301828328725), (752, 0.03547834906647729), (683, 0.03545999462655622), (2013, 0.03544773824393268), (3063, 0.03535939065780079), (888, 0.03533299158355425), (3170, 0.03532867582342043), (119, 0.0352507196912558), (1728, 0.03523863811938242), (1679, 0.03522833542337345), (3301, 0.03521950132535924), (1894, 0.03521293957885894), (329, 0.035200215449318034), (1680, 0.03516923705362214), (3010, 0.03515347098465634), (2569, 0.03512634629769654), (883, 0.035124676542700024), (270, 0.03504065933507877), (3686, 0.03503777610392144), (342, 0.03501353034465892), (315, 0.03499789123274643), (3202, 0.03496402576604743), (3577, 0.034795525130936186), (2434, 0.034772732744018), (1919, 0.03476828701509997), (370, 0.03475394692848816), (2727, 0.03475371672110154), (1923, 0.034709260602926145), (3089, 0.03466010425170553), (687, 0.03465785485725815), (2155, 0.034653004568379976), (586, 0.03464991283869673), (2894, 0.03463345209168868), (2220, 0.03456562907836798), (3536, 0.03448445907277242), (2035, 0.03442162248212388), (3383, 0.03432172696960867), (1117, 0.03429424926965005), (2791, 0.03421070807842641), (2065, 0.03412042894249699), (2463, 0.03402984467150557), (1059, 0.03399875230410157), (2246, 0.033875738130878144), (3246, 0.03381220287395395), (1550, 0.03380966256224559), (607, 0.0337947584989947), (1487, 0.03379001608449158), (958, 0.03366058345384598), (780, 0.033638406095531155), (384, 0.03353827582525135), (3051, 0.033442281277085525), (2760, 0.03339461997720573), (2924, 0.0333749402822458), (2754, 0.03334343865244509), (3436, 0.03331176130221372), (1862, 0.03321640837363854), (2020, 0.033193749846328814), (858, 0.03316411449926494), (2965, 0.03315493782829923), (685, 0.033132790167231994), (2456, 0.033128920483263505), (246, 0.033127933769141686), (3534, 0.033091787705263234), (972, 0.03307987909726112), (1293, 0.03306260457905247), (633, 0.033042324817251466), (2670, 0.03301214951314726), (3421, 0.03299992565609221), (1322, 0.03289337663916491), (494, 0.03288228056139373), (3064, 0.03286627569005653), (2991, 0.032860941686362666), (2687, 0.03285204960849119), (1437, 0.0328476178267592), (3159, 0.03284044642603816), (306, 0.03282649435943067), (2032, 0.03280976225155113), (1056, 0.0327453405231986), (1734, 0.032733893081464974), (3146, 0.03273077332058159), (2414, 0.032709942820067936), (1153, 0.032664000951825645), (180, 0.03263592619718958), (725, 0.0326013667718143), (880, 0.03252193123123852), (152, 0.032450745894258635), (264, 0.03244682205082549), (2082, 0.032427332181666074), (3230, 0.032412138833304655), (333, 0.03238967458421798), (3642, 0.032366422696146785), (189, 0.032365630663863304), (309, 0.03236379907191724), (2789, 0.03232179953819731), (3584, 0.03232029365557274), (1044, 0.03225933486333952), (2926, 0.032245039191099445), (2229, 0.03214192105543451), (1212, 0.0321084159540452), (2346, 0.032078011681293386), (1823, 0.032038947006900693), (1176, 0.032015303547985645), (3205, 0.03196197001085129), (994, 0.03193182091356869), (3250, 0.03192550932332955), (871, 0.03191780466480839), (1955, 0.03189601062032389), (1017, 0.03189557861013266), (2558, 0.031866492086297375), (3339, 0.031866223985265965), (863, 0.03185798707046038), (2126, 0.03185734684820863), (2491, 0.03168465235831218), (3522, 0.03167399526056511), (2906, 0.03164055203645742), (853, 0.031634006175677215), (2562, 0.03163367654044877), (3554, 0.0315760050585115), (2488, 0.03149051171435986), (3115, 0.03148171767760979), (1603, 0.0314639548050171), (1289, 0.031425933529634596), (2502, 0.03129376523119258), (2002, 0.031288939881918734), (455, 0.03128004145170097), (2172, 0.03127277539234445), (2845, 0.03127086990569006), (151, 0.03124376694073617), (3312, 0.031230146795989518), (1338, 0.03122106895804598), (1980, 0.031211544908045348), (1788, 0.03118488945057211), (2185, 0.03117789162036615), (2982, 0.031171591234831944), (1566, 0.031140683570979252), (2686, 0.031099382758660365), (1111, 0.031074179454042873), (2885, 0.031056251417390345), (2603, 0.031041122650543457), (1934, 0.03099061775005755), (17, 0.030941550180199073), (2802, 0.030883154638411316), (3658, 0.030855327227486944), (3258, 0.03084673488089337), (257, 0.030793890432657012), (2828, 0.030773765790675707), (262, 0.030740429890640575), (1831, 0.03072066386466791), (1356, 0.030704088079284493), (159, 0.030662436755953763), (985, 0.03063637745150644), (118, 0.03059935117012734), (1593, 0.030547699641996624), (1432, 0.030528390082865148), (1838, 0.030525549442009196), (2207, 0.030525105271875), (1659, 0.030517475007174815), (1274, 0.030468755673567806), (393, 0.030419340341169693), (2237, 0.030417560596561397), (637, 0.030397750906148126), (3354, 0.03027861480073909), (3603, 0.030269075783605007), (829, 0.030237258133707298), (1416, 0.030222609732768777), (779, 0.030210371904073198), (2847, 0.030180357624349476), (76, 0.030178223756610303), (120, 0.03017541195777806), (677, 0.03016494676192265), (1664, 0.03015368249067943), (279, 0.030133456266168198), (3711, 0.030108926273986827), (66, 0.030105422126758024), (3139, 0.03008727567057217), (394, 0.03006796271155216), (1924, 0.030057211963324913), (1223, 0.03002855988244041), (2438, 0.03000475205315985), (2111, 0.029967642616873198), (954, 0.029966290163948604), (1546, 0.02993833367829463), (2385, 0.02993189680478326), (2175, 0.029923929410389877), (3543, 0.029878475590857295), (996, 0.029849049965941885), (3724, 0.029822878871114573), (2066, 0.029791489868911007), (3130, 0.029789219123947937), (2458, 0.02976132336270859), (1692, 0.029744859530912503), (2115, 0.029736678863191788), (2353, 0.029704233002580637), (1140, 0.029691335466309622), (184, 0.029686516649051337), (482, 0.029674805920698336), (1347, 0.029664589973324863), (200, 0.029642157365192053), (2796, 0.02961800169474638), (2923, 0.02960565647067312), (1971, 0.029596426471347033), (1490, 0.029591344291685386), (3, 0.02958030897545473), (1588, 0.029552152509434458), (2078, 0.02954378710666725), (1015, 0.029516632528322234), (3175, 0.029500117926307096), (1762, 0.02949567316147355), (3287, 0.029473997903169562), (165, 0.029424661209800175), (807, 0.029410900402620076), (70, 0.029395927557161503), (1137, 0.029382257999914323), (3083, 0.02938055176992693), (3671, 0.029352834592338707), (1145, 0.029345359860202095), (2513, 0.029315733604477985), (544, 0.029300916694548457), (2555, 0.029256755129755507), (2305, 0.02918677072811534), (150, 0.029173727848951184), (734, 0.02914890692297638), (1206, 0.029114006454558562), (1574, 0.029106615840864016), (926, 0.029083030839929563), (3435, 0.029066679710629206), (3664, 0.029056354779892882), (670, 0.029053640926404768), (3689, 0.029049901135386105), (890, 0.028976454247119164), (2518, 0.02895643230570384), (1103, 0.02890798317233013), (3303, 0.02889881620912729), (567, 0.02888237265979228), (198, 0.028875012464839176), (2356, 0.028868668061945695), (0, 0.02884487841768262), (2340, 0.02878401927091232), (987, 0.028773015999743155), (3470, 0.028765933732812325), (335, 0.02873352179053503), (1990, 0.02871976390391867), (1608, 0.028662543750721158), (307, 0.0286508536364155), (1448, 0.028618552523077614), (183, 0.028583902331634842), (2551, 0.028538287877653497), (1319, 0.028519219323106776), (1229, 0.028514671595671594), (41, 0.02850681397770856), (552, 0.02848665061235664), (521, 0.0284487270479874), (1962, 0.028448277402683762), (163, 0.02837573358878949), (2804, 0.028364924355722337), (886, 0.028345275664762914), (3317, 0.028318142606232853), (2459, 0.028292910352056118), (625, 0.028283092108056133), (3066, 0.028247555060607703), (3278, 0.02820985213274594), (2786, 0.028199112555718994), (3687, 0.02818030379592495), (801, 0.028142641571203702), (719, 0.028130958081632164), (757, 0.02809823288476284), (1257, 0.028087211134366775), (429, 0.028002774205548066), (388, 0.027950502621618006), (493, 0.027938583332286694), (195, 0.027920718206738557), (3113, 0.027919966906567943), (1344, 0.02788948855828559), (2135, 0.02788660922286953), (1682, 0.02787187322917832), (3059, 0.02782423583263116), (2588, 0.027789527343903168), (3044, 0.027779263091394175), (2799, 0.02777740728423208), (1625, 0.0277565900368903), (1900, 0.02773335951049253), (3337, 0.027720299785598042), (1172, 0.027696688441494473), (2809, 0.027683269872148822), (1284, 0.027635219786301835), (2680, 0.027613030969091956), (872, 0.02759359851118351), (1020, 0.027511420541941126), (967, 0.027491640048459075), (276, 0.027488852425857774), (84, 0.027478454957026912), (2688, 0.02744518301180407), (1857, 0.027380715207116966), (1829, 0.027370586411689504), (722, 0.02734238478155235), (1534, 0.027329050170489932), (401, 0.027326800314971318), (1686, 0.027302371542135905), (2594, 0.027282437907879258), (1294, 0.027270563231793783), (2671, 0.02722306915823591), (3459, 0.027168545356159493), (3651, 0.027162589721021185), (222, 0.02712724834123038), (2036, 0.026985997567009888), (32, 0.026985082912372987), (2408, 0.0269686420315789), (1364, 0.026947399523703227), (1796, 0.026921255312470624), (3183, 0.02688059417301307), (1489, 0.026868808883821784), (859, 0.02686060622753342), (892, 0.026832718215891057), (640, 0.02681668711979503), (3135, 0.026813441672736426), (2886, 0.026792085941314568), (2486, 0.026785081160561313), (2373, 0.02678294058182104), (1978, 0.02673887014255694), (3322, 0.0267376631167819), (2522, 0.026733734770951215), (160, 0.026706511767816438), (2952, 0.02666445300822542), (1757, 0.026656364190158488), (751, 0.02665207575580352), (1960, 0.026646525627895348), (2538, 0.026645162429714396), (3255, 0.026625183473732734), (2528, 0.026614201548090497), (1472, 0.026571286042019818), (1100, 0.026554962742587247), (440, 0.026534730921009067), (2086, 0.026515403570440667), (3566, 0.026446087193762693), (350, 0.026444243961055377), (1419, 0.02643577731627379), (1253, 0.026431477092944723), (289, 0.026431410594658904), (3507, 0.026419086536187967), (2168, 0.02638856554830343), (2675, 0.0263861164853127), (214, 0.026379803965458748), (800, 0.02636363653784174), (106, 0.026341383086366625), (794, 0.026298320532936223), (2292, 0.026291913622516032), (570, 0.026288458233628846), (3373, 0.026280206136942083), (1508, 0.026277583367267005), (1152, 0.026252937956769504), (956, 0.026249518734068993), (983, 0.02624935867209067), (2737, 0.02623281844412408), (2732, 0.026226704158305778), (1354, 0.026176798434870755), (3340, 0.02616853242914174), (1024, 0.026138957441926045), (2681, 0.02613791904496491), (2405, 0.02610398428242874), (2361, 0.026100053556701266), (970, 0.02609752923673153), (2752, 0.026089257942639336), (1999, 0.026074184971013308), (1522, 0.026047137685600658), (2334, 0.026028124604541264), (2253, 0.025989661862509904), (2817, 0.025989201500260014), (2457, 0.025988257648132413), (1150, 0.025942249630418322), (520, 0.02593907923564912), (2122, 0.025936460043366954), (1995, 0.025889951659408474), (278, 0.025872243193085613), (3164, 0.02585259857860053), (2950, 0.02584862522125523), (2525, 0.02582222343511959), (3109, 0.025808111389477754), (208, 0.02578111534752987), (1427, 0.025776489226501307), (830, 0.02574848690972179), (2892, 0.025738790458888803), (1469, 0.025727725019570283), (2929, 0.025694653858671142), (2379, 0.02566038527349146), (2544, 0.025651096344962314), (1121, 0.025649504589399165), (3479, 0.02564161788843232), (182, 0.02562836557728023), (656, 0.025565469773818513), (875, 0.025553229975554148), (2849, 0.02555264249005442), (351, 0.02551709263383511), (3527, 0.02547701556872254), (2720, 0.02542942798797168), (2397, 0.02542336225503942), (920, 0.025404392685556627), (3474, 0.025397523520256895), (1631, 0.025356552103026217), (2539, 0.025340934379855122), (1719, 0.02533537724990968), (2415, 0.025327470192191358), (82, 0.025312110544871536), (2938, 0.025307816959980634), (885, 0.025288185758241304), (1939, 0.025274702541333093), (1904, 0.025236062434331845), (1763, 0.025224431747486335), (203, 0.025205471740429718), (1373, 0.025186026312565588), (308, 0.025184633240167766), (170, 0.025181817149864515), (1747, 0.025177688296751974), (2091, 0.025163848272857774), (352, 0.02516185490753472), (806, 0.025149205062670273), (903, 0.025105887608150627), (3267, 0.02507966558064757), (435, 0.025049963817100136), (1844, 0.02502299267610359), (598, 0.025012571204677286), (1528, 0.024986898712331267), (678, 0.02498114507332267), (1972, 0.02496230573875575), (514, 0.024955542216805918), (1874, 0.024942981430860385), (2985, 0.024927922800642127), (2336, 0.02491766936831421), (3675, 0.02489869190189235), (3001, 0.02489826253720347), (3277, 0.02488655755883059), (2140, 0.02485913821158928), (450, 0.024842702752451387), (3078, 0.024826727148806006), (1394, 0.024825594889793006), (434, 0.024817096396793394), (3079, 0.02476815205817409), (867, 0.02475367485152288), (1606, 0.02472911374900214), (1932, 0.024701123770937288), (1927, 0.02469799765337829), (2221, 0.02469681130505282), (2705, 0.024652738541315094), (891, 0.024646203008946523), (2612, 0.024640263637442657), (2099, 0.024608838822321864), (2874, 0.02459348656755236), (117, 0.0245745764769468), (1678, 0.02456129495012123), (3067, 0.02454922866822509), (2990, 0.024544265107101414), (23, 0.024516421016634447), (2058, 0.024484944284360398), (2179, 0.024441143851555762), (3486, 0.024415967921800598), (2359, 0.024414266505948315), (1766, 0.024410176291971987), (54, 0.02439210898098358), (1113, 0.024389222623249343), (2506, 0.024388576196381184), (1063, 0.024386757985373667), (1761, 0.02429902785384326), (1232, 0.024258169908301912), (204, 0.02425700088169796), (1661, 0.02425678373955313), (2275, 0.024243138381203864), (3009, 0.024198338843956557), (543, 0.02419609401576092), (3597, 0.024188516662966095), (2411, 0.02418558081629855), (2701, 0.024134836498815888), (1775, 0.024129755121591757), (356, 0.024117425161647055), (2205, 0.024099078567791105), (1202, 0.02409359921793159), (665, 0.024075187138069734), (1739, 0.024068064860172503), (893, 0.024022105644515738), (3455, 0.024013462215755104), (2128, 0.023996850560116086), (1231, 0.023994568586338753), (1787, 0.023985614840485888), (621, 0.02398009986514431), (1545, 0.023953224613745303), (1105, 0.02394317494836706), (2857, 0.023937782847281763), (65, 0.023899543390926273), (2042, 0.023893342307616826), (126, 0.023890238363090906), (3520, 0.02388428673617478), (298, 0.023880372462561587), (500, 0.02387528369699566), (2927, 0.023873717135076293), (337, 0.02384367554836951), (2743, 0.023842178299343493), (3296, 0.023840339795001542), (408, 0.023819543779751394), (360, 0.02380378957620401), (2130, 0.023797869989930467), (112, 0.023778785238626456), (862, 0.023776635358982404), (2364, 0.023768959202228497), (473, 0.02376840952231201), (1029, 0.023753010830059446), (1633, 0.023748491552808608), (2983, 0.023720417808338938), (1821, 0.023620501407941988), (2108, 0.023605710560191243), (1868, 0.023599422089849595), (2917, 0.02358393787501642), (1579, 0.02355271268473027), (2188, 0.02353736002353905), (1851, 0.02353314533534221), (1345, 0.023513528986175248), (3133, 0.023504374557157662), (2920, 0.023465001055036377), (1310, 0.0234508216015196), (2987, 0.023432931907088464), (1198, 0.023415404727271535), (3161, 0.023374883589513746), (3623, 0.023359760711636913), (332, 0.023358871541637835), (1535, 0.02334526703086811), (615, 0.023340745498760116), (2665, 0.0233322142924244), (2453, 0.02332078700597604), (2059, 0.023310567893876765), (2000, 0.023282372907663475), (1555, 0.023278665119286307), (3187, 0.02327822854300162), (1178, 0.02327231020090475), (1468, 0.023268972103075262), (327, 0.023268907515670612), (3569, 0.023261625493424552), (1094, 0.023257008323126008), (235, 0.023252633512078985), (290, 0.02324805512078678), (1774, 0.023242356647853034), (1820, 0.023236984518238066), (3574, 0.02320692508917704), (3515, 0.023203773181685948), (1329, 0.023198793247742346), (3653, 0.023187333998850576), (1169, 0.023182314586758467), (2416, 0.023180407014925533), (1586, 0.023171483528182785), (1060, 0.023171339674443795), (1553, 0.02314202029071412), (299, 0.023118844790314345), (227, 0.023043058645466102), (1348, 0.023022579879124757), (2206, 0.02300421860882875), (3382, 0.022977641706166427), (3091, 0.02296988157316735), (2758, 0.022909527754635686), (2310, 0.02289009478609923), (2131, 0.022883032059010235), (171, 0.02287361589175932), (3118, 0.02285501280639786), (655, 0.022852815637704353), (1179, 0.02283157965359969), (1360, 0.022781405960999288), (2345, 0.022773583629065494), (287, 0.022761468643414738), (906, 0.022720056233401637), (690, 0.02271042850476805), (3403, 0.022701724170032547), (3409, 0.02269057249539843), (303, 0.022680908014207628), (2096, 0.022656193580246637), (1452, 0.02261772809955021), (1805, 0.022616029237883865), (3685, 0.022594762624354586), (1299, 0.022580640210964037), (895, 0.022570480645783538), (436, 0.022558184217088162), (2241, 0.022535366022433768), (1034, 0.022518321047196123), (3119, 0.02247923713534397), (1333, 0.02245947471413671), (2792, 0.02245328634479728), (2182, 0.022442169332635434), (592, 0.0224261550027089), (2769, 0.02241273253522667), (1481, 0.022407279181330817), (103, 0.022399979544344036), (1918, 0.022392086320691187), (1866, 0.022385136945416044), (79, 0.022343099123771956), (2149, 0.02233615639982939), (682, 0.022330787745876206), (2519, 0.022299888171618903), (1645, 0.022273570733368955), (3643, 0.022269500260190596), (2333, 0.02223999696745556), (2037, 0.02223824445213988), (425, 0.022202332402279798), (3028, 0.022198608733650947), (532, 0.022196525548274285), (1794, 0.022150666462112955), (2642, 0.02214780901794428), (3378, 0.022146485020413668), (2756, 0.02214043932953228), (526, 0.022132949457744026), (179, 0.02213095486944723), (1635, 0.022127339672954483), (2873, 0.022106149474362673), (147, 0.022085089518754826), (3430, 0.02208364002380455), (1873, 0.022073826207178186), (58, 0.022065951546798954), (1082, 0.0220619660886828), (741, 0.02202180939382944), (1404, 0.02197817906822032), (3572, 0.021961952601896526), (445, 0.02196115893717519), (537, 0.021959871152232382), (834, 0.0219322398630973), (1543, 0.021919471635838288), (3144, 0.021914252275453308), (3491, 0.021913361775820626), (3342, 0.021868554149936548), (39, 0.021842750600296425), (380, 0.0217823929262113), (2257, 0.021781356404094343), (439, 0.021780514337339296), (1079, 0.021721676214635777), (93, 0.021707408795121716), (2736, 0.02170511392337942), (3699, 0.021699757737432594), (3460, 0.021699727040649132), (1007, 0.021681352687339617), (3548, 0.021659109519842665), (2409, 0.021656706118121073), (1264, 0.021655711365460132), (904, 0.021643654389824976), (224, 0.0216306899981906), (1726, 0.021568867687839808), (3046, 0.02155784673785257), (2981, 0.021537654529615452), (3384, 0.0215192303974242), (1378, 0.021502733470152344), (3531, 0.02149041421682814), (1767, 0.021456560736725944), (1011, 0.0214443858398162), (2816, 0.02142703306932099), (2730, 0.021420933921379007), (986, 0.0214098923066599), (305, 0.02136859115747752), (559, 0.021348363462296207), (1641, 0.021312600887659197), (1604, 0.021312365267293555), (1337, 0.021307708719513208), (1748, 0.021199450483242226), (750, 0.021176818086900064), (2921, 0.02117278714112665), (1390, 0.021157736849216804), (2523, 0.021150912534122965), (477, 0.021149290786321093), (283, 0.021137931158348486), (268, 0.021095316179357577), (989, 0.021083098703831953), (413, 0.021061182623186764), (1759, 0.021041060217784156), (2347, 0.02103501787222592), (1913, 0.021030161607536117), (2898, 0.021009911646533718), (980, 0.021007932792012306), (110, 0.021004617458247894), (3103, 0.02100272808169047), (3110, 0.02096336126434116), (386, 0.02095486224801715), (1417, 0.020939834915177428), (1423, 0.02092817402427781), (1858, 0.02090557954105068), (3114, 0.020900534646348997), (1084, 0.020894719318761794), (3477, 0.020892234908048313), (2159, 0.02088552599363782), (1845, 0.020870304098476636), (833, 0.020846759191795967), (2697, 0.020779770087823418), (3606, 0.020737114647246393), (3392, 0.020715366260333924), (2641, 0.020711638538593046), (1361, 0.020709504413320985), (1736, 0.020689016655785975), (2280, 0.020688673720825064), (2255, 0.020681562321876974), (2384, 0.02067418506392052), (513, 0.02063248234025033), (372, 0.020631351425494042), (3166, 0.020629719411242007), (456, 0.02059536660039096), (1922, 0.02058295070866595), (55, 0.020573945681525197), (3568, 0.020559583243142852), (2445, 0.02054363330503125), (2572, 0.020541566719449844), (2146, 0.02053471538301074), (574, 0.020524036588494908), (1366, 0.02049809798149647), (2645, 0.020460552342921632), (3613, 0.020458494417882327), (3595, 0.02045437122210049), (1917, 0.020447555505406077), (3364, 0.020437152601963136), (3629, 0.02040910437391491), (2607, 0.020396067958508925), (72, 0.020364930743506322), (2033, 0.020359537475470802), (2865, 0.020345023476381497), (2806, 0.020326978539839825), (3632, 0.020321802902014928), (549, 0.0202973101047721), (2102, 0.020292630745462753), (326, 0.020288763070908114), (1969, 0.020256298178521193), (3553, 0.020231390056018372), (565, 0.02022207836765793), (1816, 0.02018770456057697), (294, 0.020186777705078124), (1186, 0.020180274550020583), (254, 0.020173646180677372), (2504, 0.020162924518608488), (1824, 0.020155824628857046), (2370, 0.020154120800862357), (22, 0.020142032980303128), (3120, 0.0201368926380089), (3385, 0.020120317749447114), (2256, 0.020094842411910237), (870, 0.02006963544388613), (714, 0.02006665389413653), (2468, 0.020063853922489328), (857, 0.02005491617411872), (939, 0.02005087834656457), (1803, 0.02003162495265921), (3593, 0.02003025883728128), (835, 0.020010905879809714), (564, 0.020010598167416602), (1751, 0.019964771489958857), (142, 0.0199505739675283), (717, 0.019942577857977706), (1970, 0.01991867588426024), (1043, 0.019905811394011357), (1108, 0.019896478892611678), (822, 0.019892717961960474), (158, 0.01989268723171664), (148, 0.019889166003518463), (3053, 0.01988572957048737), (831, 0.019884274197160993), (2582, 0.019870153076838846), (805, 0.019858111789479244), (2199, 0.019856632837353408), (2029, 0.019850234319915228), (131, 0.019829575997756435), (2315, 0.019823582802958345), (2656, 0.019810324865436452), (2141, 0.019798136988932208), (1677, 0.019794128934262963), (3069, 0.019784527179769185), (3052, 0.019727241562599772), (269, 0.01972622245831425), (2571, 0.01972527938944982), (681, 0.01970070066894996), (318, 0.019683301758559375), (3242, 0.019669656298024633), (3524, 0.019625767631193187), (357, 0.019611543753465854), (1621, 0.019559012776322965), (1088, 0.019558404299503247), (1089, 0.019553749467022027), (1702, 0.0195498381228094), (1881, 0.019529382446980877), (1292, 0.01951033222295219), (755, 0.01950112714554103), (703, 0.019486844082591798), (1067, 0.01948084849582521), (2303, 0.01947552959894266), (2871, 0.019464189910596473), (3045, 0.019461062441467815), (2559, 0.019452320364287564), (2961, 0.019451289826148514), (1742, 0.019451088791229126), (924, 0.01944989820181197), (1012, 0.01944199621099021), (37, 0.019436263930556794), (2639, 0.01943038848412696), (3049, 0.019404932171263486), (620, 0.019398359019668555), (1626, 0.019392690290553398), (3147, 0.01935530690096869), (1148, 0.019354308589737017), (2283, 0.019348861345218165), (959, 0.01934516821812765), (2669, 0.01928436345666802), (1735, 0.019283510937608845), (2312, 0.019280769074232814), (397, 0.019280007897735325), (1595, 0.019277127073178486), (59, 0.019269597372695887), (1957, 0.01924226768646082), (36, 0.01921853575947801), (2136, 0.019207783285141247), (446, 0.019191843071502568), (1760, 0.019190230978664576), (201, 0.019176696858989147), (1914, 0.019151341056467958), (1896, 0.019141031608594785), (2699, 0.019129995223025803), (1407, 0.01912279271612126), (1769, 0.019108793025366128), (2410, 0.019086509618819598), (2767, 0.019078154880276428), (1027, 0.019074801801112488), (1155, 0.019071291674011365), (491, 0.01905726354406876), (852, 0.019034251650061836), (763, 0.019032969375292454), (1076, 0.01902479953966956), (1755, 0.01902098242577415), (1196, 0.019017566793935934), (3327, 0.019003770057596174), (993, 0.01899297161181026), (2787, 0.018982788447843554), (467, 0.018955191120644393), (1304, 0.01894940653914537), (856, 0.018944019554216082), (263, 0.01891932680314249), (2018, 0.018909304229980037), (2293, 0.018893379644004886), (2162, 0.0188747824522028), (900, 0.018867727482536522), (2366, 0.018843081065514022), (3243, 0.018828368747870885), (1143, 0.018825906779964274), (684, 0.018822926774568552), (3649, 0.01881577908987218), (1536, 0.01877700765742716), (3393, 0.018776095346430825), (3251, 0.018775348771505055), (700, 0.01875848089536293), (1239, 0.01874812336548049), (935, 0.01874078969541053), (1733, 0.018730499252359804), (1822, 0.018715009241211188), (2203, 0.018698692885942933), (2164, 0.01868591176511325), (3728, 0.01868368610220216), (1825, 0.01866618731206443), (1443, 0.018665176895347923), (1931, 0.01866205491743481), (1687, 0.018631659347788206), (3550, 0.018625141725017235), (1809, 0.018622637754043447), (317, 0.01861587442885367), (2543, 0.01859690085648918), (325, 0.018589369928568106), (3043, 0.01857323845736847), (316, 0.018566996282703464), (1359, 0.01856632812836966), (1142, 0.018560852482729397), (724, 0.018524808470490407), (1433, 0.018524340221812298), (1712, 0.01849558219945883), (2500, 0.018471656410677096), (2499, 0.01846550755893292), (3552, 0.018453805578497712), (2217, 0.01844264066453233), (1000, 0.018385729332748204), (1384, 0.01836273783136175), (2944, 0.018361087337698805), (641, 0.018360362444248435), (1577, 0.018359746789443257), (942, 0.018343702060265227), (1804, 0.018343138268497396), (1853, 0.018339398650242478), (1136, 0.018326639238832886), (2887, 0.018313988535053685), (2027, 0.018280519178977286), (1341, 0.018250129798418842), (632, 0.018249547555206275), (116, 0.018235494223297042), (2900, 0.018231899383313287), (3638, 0.018222047846860365), (2287, 0.018212265120573775), (2717, 0.01820997324844951), (2496, 0.018207072760692864), (1968, 0.018198871928975853), (2764, 0.01819036176697858), (1485, 0.01816583704086153), (1358, 0.018161161543758682), (3602, 0.018149055537362898), (3655, 0.018137096101096022), (3154, 0.018126432642268278), (3611, 0.018096136412578543), (1780, 0.01808443804133384), (962, 0.018056796706615908), (979, 0.018028268592683833), (1959, 0.018016327366781538), (2227, 0.01801199654247628), (207, 0.01799075171492417), (1673, 0.017950112027677028), (1458, 0.01793965725902832), (3137, 0.01793112367944821), (2780, 0.017908557843033922), (2157, 0.017906559142802727), (1483, 0.017893675153897746), (2509, 0.017864997337428364), (2708, 0.01786291923492942), (46, 0.017862487503823687), (1112, 0.01783163016161061), (950, 0.017826331405606393), (236, 0.017825321791632036), (8, 0.01782035491896538), (2731, 0.017782728885136437), (2352, 0.01776351537822146), (2100, 0.017757568738105352), (1840, 0.017750172704456883), (1399, 0.01774671202741609), (1376, 0.017743978157369555), (1187, 0.017742739127973632), (2556, 0.01772596977318852), (973, 0.017677543036077385), (1639, 0.017677462465991955), (3414, 0.017673381480883755), (261, 0.017660051954301047), (1268, 0.017649397340545908), (2691, 0.01763958114727875), (1151, 0.017624028864779435), (2725, 0.017616285119349394), (3369, 0.01759042076952983), (1884, 0.017579475480275955), (1414, 0.017578569233246744), (228, 0.017557569091882948), (1194, 0.01755641599789901), (884, 0.017551752277337254), (1870, 0.017541497492635484), (1961, 0.017537828863795013), (3406, 0.017534873808864582), (2412, 0.01752461331456521), (2482, 0.01750757581613884), (1511, 0.017506899447977148), (605, 0.01749260991279088), (1262, 0.01748109486370038), (522, 0.017456592243974504), (2308, 0.017447312016811198), (2244, 0.01744345610296138), (1300, 0.017440906024827285), (11, 0.017430168788898213), (589, 0.017379406164032617), (629, 0.01737023575713663), (2331, 0.01736293783317962), (1660, 0.017358164662773314), (353, 0.017357363014118766), (368, 0.017349961271539295), (485, 0.017343382000231233), (1979, 0.017342094153340173), (2698, 0.01733321750695263), (2851, 0.017322903657221465), (2110, 0.01732160971458758), (421, 0.01729073372601776), (2807, 0.017249156360349904), (1131, 0.017245728626045884), (1826, 0.0172424004035763), (1296, 0.01723758934328656), (1308, 0.017234492758294227), (2484, 0.01722823854064657), (907, 0.017206540958582307), (3325, 0.01719045676747323), (3498, 0.017188910764790042), (1370, 0.017171281693206995), (1454, 0.017169765011569582), (3271, 0.017154566306971104), (715, 0.017146856442323194), (2993, 0.017136894735214188), (506, 0.017134641333169876), (1876, 0.017126675631714713), (2289, 0.01712574725595419), (1764, 0.017113366462307083), (2784, 0.017110529490418976), (2285, 0.017093497345561603), (938, 0.01707786377616802), (818, 0.017070401136530192), (572, 0.017049881730897866), (2611, 0.017045576886486932), (143, 0.017001526825813323), (2738, 0.016993841609732052), (1589, 0.01699268881876317), (817, 0.016986613457646134), (3397, 0.016984249568002666), (424, 0.01697405169363806), (3706, 0.016973526142318188), (1460, 0.016953657807262185), (3575, 0.01693704501107891), (3264, 0.016933571927249598), (2655, 0.016905402431439884), (1707, 0.016889446711646244), (3408, 0.01686493126538683), (1278, 0.016863697780728132), (490, 0.016861158281219132), (2722, 0.016860552267864343), (1238, 0.01685821084393915), (974, 0.016852224773279953), (403, 0.016850661832204107), (320, 0.01681042466364758), (1204, 0.016790910269141233), (2064, 0.016785075620661574), (1045, 0.016784501289784738), (1118, 0.016784030227743177), (1116, 0.01678158238799682), (957, 0.016753681657843265), (1403, 0.016745708187292745), (1464, 0.016736395888214607), (3034, 0.016723711443283162), (2893, 0.01671980970393492), (1286, 0.016719145598098218), (3275, 0.016712669346845364), (1363, 0.01666069397940869), (839, 0.016603561453529272), (2598, 0.01659138414162741), (275, 0.0165863247872806), (1729, 0.016577851603933033), (3289, 0.016549964386691277), (1795, 0.016548688539214998), (1513, 0.016544280602850715), (2394, 0.016544144820928447), (1053, 0.016533757659041002), (1718, 0.016532968298930563), (2301, 0.016517116518723056), (3080, 0.016515235458499648), (2074, 0.016513192304296872), (2915, 0.016461123307689857), (3674, 0.01644137977001337), (608, 0.016439243471092265), (927, 0.01639970148572624), (3163, 0.01639229732848379), (62, 0.0163916912274703), (3062, 0.01639063804808238), (438, 0.016386049749096042), (1041, 0.016375526459733423), (1463, 0.01635984647739341), (2640, 0.016356709024365198), (2365, 0.01634414497956866), (723, 0.016337582954927994), (241, 0.01633337033996993), (916, 0.016331132477577986), (695, 0.016321958971001117), (1288, 0.01631180441341786), (1462, 0.01629129826848813), (3155, 0.01627271038661876), (2934, 0.016267061799652524), (1173, 0.016265978714933862), (1078, 0.016251404340150072), (1035, 0.016231971692711646), (1343, 0.01622532516506186), (3702, 0.01621328832317727), (1003, 0.016211219036995222), (3033, 0.0162062711800065), (1426, 0.01620489565632741), (909, 0.016200187377474223), (1022, 0.016199626658077226), (2837, 0.016177514551618716), (3394, 0.01616951671907092), (1539, 0.016154313199494084), (775, 0.016147449319108595), (2877, 0.01613939120421238), (516, 0.01613694073761361), (107, 0.016134434167027513), (808, 0.016121094653736977), (10, 0.016117921088503614), (321, 0.016110651087075278), (2095, 0.016072354847913372), (744, 0.016063853349993586), (3481, 0.016045365097168106), (3111, 0.016028716220572604), (2274, 0.016019740321552844), (2350, 0.016018443553627665), (679, 0.015991202240488722), (2272, 0.01598587765812384), (1061, 0.01597834915728684), (651, 0.015973647968076675), (2478, 0.015967088649584866), (3505, 0.015927519949825795), (2324, 0.015923758017813826), (2613, 0.015895139954163133), (3097, 0.015878691703506448), (489, 0.01583822158675273), (1527, 0.015825521114831917), (1449, 0.01578996073840117), (3125, 0.015789559935570473), (812, 0.01578543655383576), (1799, 0.015779216104050395), (3042, 0.015772161383928618), (418, 0.01576811619899147), (1492, 0.015756442572867464), (1199, 0.015750134756719793), (2473, 0.015745958799885534), (474, 0.015724946628556925), (1120, 0.015687238861677447), (3057, 0.015679777162861418), (851, 0.01567227946782019), (745, 0.015655309301529457), (43, 0.015655104309590794), (1182, 0.015622167976242583), (2542, 0.0156086817230497), (1916, 0.01555671250714528), (1951, 0.015553140193810577), (2746, 0.015548701450014735), (3726, 0.015541442671896426), (2474, 0.015537336148018641), (1573, 0.015526236070796333), (2822, 0.0155197141116043), (3426, 0.015513554046973216), (826, 0.015497237021596205), (2339, 0.015495744382360933), (2512, 0.015468731886152387), (865, 0.015465012718884483), (1602, 0.015464275364355245), (1267, 0.015461284538013428), (2296, 0.015457464062205911), (1135, 0.01543889093416402), (414, 0.015437614957298066), (2266, 0.015432021486244351), (1937, 0.015429581321766025), (1312, 0.01541849202348302), (638, 0.01541030198258044), (2145, 0.01540941244080737), (713, 0.015403881691078305), (1740, 0.015400699357244902), (1854, 0.015371168512448593), (1413, 0.015364162723216938), (1836, 0.01536320555669029), (2654, 0.015359171387370682), (2309, 0.015355877530526934), (3015, 0.015350153916199758), (366, 0.015326757222599824), (3068, 0.015320599024385699), (2557, 0.01531222569116585), (963, 0.015309178270301628), (2034, 0.015296986685661606), (1817, 0.015290266772580597), (213, 0.01525240759509722), (2907, 0.015247769028379467), (582, 0.015242818211684293), (675, 0.015238548370786292), (2236, 0.01523743564361682), (2278, 0.015237291283244296), (2218, 0.015226562597659784), (3065, 0.015221644248077778), (1583, 0.015209604357699177), (3388, 0.015207583641958915), (2741, 0.015200169570667294), (2672, 0.015172108155414556), (773, 0.015166348173388532), (3500, 0.015152976930143032), (1888, 0.015152880890860466), (3376, 0.015142403228710006), (951, 0.015137534066518122), (742, 0.015130357401113384), (2464, 0.015122973899152167), (3630, 0.015120957773424672), (534, 0.015108099092428008), (1301, 0.015104933836181677), (3240, 0.015094048400259588), (1161, 0.015092786349129732), (1875, 0.015077095485989702), (3708, 0.015071661689204392), (2245, 0.015062836476946688), (2431, 0.015045675300877371), (1842, 0.015044812471662502), (2139, 0.015036082417877225), (2277, 0.015034055659527012), (111, 0.015032019876471299), (785, 0.015030893928511316), (2819, 0.015014799442244136), (1882, 0.015013281240991177), (2515, 0.01500917695612454), (2377, 0.015000369576663158), (2660, 0.015000358074213186), (3656, 0.014992160770114072), (2317, 0.014983492353460802), (1164, 0.014982100595987837), (2566, 0.014981487139475062), (2761, 0.014976659244917161), (3351, 0.014968545699128172), (1207, 0.014901783460833816), (2808, 0.01489237524233204), (798, 0.014888352720661817), (3427, 0.014884995429800778), (196, 0.014884820088897664), (2402, 0.014877556054588022), (789, 0.014876063806221721), (3319, 0.014850319042682357), (1938, 0.014848882440832614), (1929, 0.014832262139135076), (301, 0.014811491268764885), (701, 0.014807631172604294), (2323, 0.01480713513883178), (1637, 0.014802927788201595), (1930, 0.014794606392281043), (2568, 0.014789946749895335), (1180, 0.014789901588919045), (101, 0.014775794871095517), (2599, 0.014771955092365112), (707, 0.01477150586656767), (778, 0.014766275755254157), (1406, 0.014756102529986074), (2673, 0.01474361412616526), (864, 0.014709183214428705), (3108, 0.01470038510707917), (861, 0.014691209548342238), (1157, 0.01468575481534336), (3179, 0.014671354439781127), (704, 0.01464270101206165), (937, 0.014642194769548865), (2492, 0.014640592519332604), (2282, 0.014634153156537724), (3122, 0.014605105141039746), (2176, 0.014594698303224147), (837, 0.014594374592680082), (3282, 0.014586739724425233), (1819, 0.014533774972030499), (1549, 0.014530022065043998), (2721, 0.014525660193582111), (1340, 0.014516431822468184), (99, 0.014500178241100614), (804, 0.014482521579026589), (776, 0.014465767404643202), (2514, 0.014465306520511059), (3529, 0.014461171994146236), (392, 0.014458293084849545), (2083, 0.014434014272114513), (627, 0.014425993891512627), (846, 0.014413955231444328), (2577, 0.014402836809641953), (968, 0.014376926814616662), (2178, 0.014367260063757253), (594, 0.014357595529804057), (764, 0.01434875094489304), (273, 0.014320575107649187), (304, 0.014318550212679531), (3489, 0.01429534082208777), (1195, 0.014290440599814533), (1167, 0.01427883223087449), (2943, 0.014277665365852506), (721, 0.01427168271715563), (758, 0.014271117483408206), (2351, 0.014268382477986912), (1953, 0.014247572459493056), (367, 0.014210369199521426), (732, 0.014198331807566791), (1701, 0.014194908421279248), (2650, 0.014173912375562925), (2325, 0.014157871570979894), (1765, 0.01414851852449856), (1203, 0.014097448942638577), (2062, 0.014079051147821726), (1558, 0.01407355708545343), (442, 0.014066961842620926), (2546, 0.014042815414279725), (1072, 0.014040530087589927), (104, 0.014039475407570902), (153, 0.014030321977947225), (3648, 0.014028757463180391), (1607, 0.014023854916203286), (1383, 0.014002366589244076), (947, 0.01399885630644336), (12, 0.01399093222669676), (1001, 0.0139906550717201), (3665, 0.013978283312992088), (555, 0.013973678368629356), (1275, 0.013972560482752097), (965, 0.013971655107430682), (1576, 0.013963342791762475), (1272, 0.0139387815711699), (2608, 0.013936641378476307), (3609, 0.013932045179342043), (2832, 0.013923820877725947), (2050, 0.01391261476732531), (2477, 0.013901850069094885), (2357, 0.013900617018010306), (1042, 0.013899944361331091), (410, 0.013888872792665836), (2615, 0.013885387972303327), (614, 0.013880390052235111), (3525, 0.0138621091034778), (1786, 0.013846420054444208), (2994, 0.013818056029037634), (1380, 0.013813381958806124), (1791, 0.013801854448792714), (1650, 0.013796329715877572), (878, 0.013795669627381275), (2047, 0.013786266474320776), (3326, 0.013769407501945415), (591, 0.013754986968748191), (1547, 0.013747748408947736), (821, 0.01374661030043981), (253, 0.013735454187905345), (2171, 0.013730432670357815), (2152, 0.013715589544625031), (1091, 0.013689620497806195), (658, 0.013655129970762944), (3657, 0.01364941824610695), (2133, 0.013642598834665485), (702, 0.013625081453484466), (3422, 0.013622985949443313), (2123, 0.013622919452613892), (2137, 0.01360256434470853), (2153, 0.013602264893667356), (3509, 0.013600523386047341), (470, 0.013584440633043877), (2726, 0.01358180737258862), (2745, 0.013580949412256033), (3387, 0.01357326492861317), (3300, 0.013549404649473198), (2630, 0.01353451188369652), (3218, 0.013493967494275758), (650, 0.013478774648380907), (2442, 0.013474486087246896), (2321, 0.013434062241235027), (323, 0.01341601035850732), (1554, 0.013408023634625265), (2235, 0.013401104663660136), (2505, 0.013393457840598528), (3362, 0.013367335503633268), (1491, 0.013363250089981503), (1662, 0.013353910855847112), (3151, 0.01335192174932573), (3640, 0.013319504919131638), (3374, 0.013309105288550614), (2812, 0.0133031664793209), (3371, 0.013299056865070592), (728, 0.013291135597651167), (166, 0.013290990383549335), (3315, 0.01328362607238832), (396, 0.013278310327299744), (793, 0.01325746230743685), (923, 0.013250092085483486), (2628, 0.013249134121656648), (1807, 0.013241987482905742), (3232, 0.013234946125892618), (3060, 0.013233372859082236), (2093, 0.013228247720305817), (2011, 0.013216973612774987), (192, 0.013213004206171835), (3594, 0.013188426994630312), (2040, 0.013183732232135969), (814, 0.01316395992040907), (3490, 0.013149363093373528), (1663, 0.013146482705814455), (3190, 0.013145000911855971), (2668, 0.013138654845714432), (3245, 0.013134409212938679), (63, 0.013131670811300268), (2902, 0.013118949711390946), (647, 0.013102802110111014), (2046, 0.013071987857678012), (3008, 0.013070824816183511), (2355, 0.013068985663371653), (1114, 0.0130633983110107), (3186, 0.013056313418993735), (2516, 0.013050329331550998), (2526, 0.013033473226278833), (487, 0.013030327181566253), (81, 0.01301080426882271), (260, 0.012971284310950154), (636, 0.01297047537944759), (19, 0.012937578667011954), (3294, 0.012915233133360373), (138, 0.012909896341095364), (3503, 0.012892413317483496), (2663, 0.012892143242226907), (1750, 0.012890682674175587), (847, 0.012872672194833264), (2941, 0.012870236296455565), (3177, 0.01286398662402682), (40, 0.012861865594003553), (902, 0.012857635440308088), (1327, 0.012857592471927031), (696, 0.012847929791797913), (3467, 0.012830218515778508), (69, 0.012827580360041033), (3732, 0.012825610625839423), (1191, 0.012820805702730139), (2489, 0.012794588209616372), (595, 0.01278710578182061), (2084, 0.012773794253804819), (230, 0.012754503665158942), (2087, 0.012736918847453758), (2881, 0.012734970322999807), (1965, 0.012731746925167629), (1397, 0.012722838296082322), (209, 0.012721667538979919), (488, 0.012718115037974747), (828, 0.01268863111415142), (3145, 0.012680450783727523), (71, 0.012673222535089115), (2570, 0.012671306099810901), (2798, 0.012655754699953477), (2156, 0.012634566307997228), (2878, 0.012631880157843861), (51, 0.012627424424428862), (2563, 0.012622511028142049), (444, 0.012617517799071977), (3259, 0.012597936484799345), (759, 0.012597084008248237), (2703, 0.012592501569741399), (1115, 0.012586525185640945), (1330, 0.012584215512789772), (1792, 0.012558967449606974), (2120, 0.012543281942537069), (3551, 0.01253726868559163), (783, 0.012524752966229697), (2425, 0.012514777503094555), (132, 0.0125112403263785), (2844, 0.012509624216347562), (2041, 0.01250717759238824), (1531, 0.012498743345553731), (3112, 0.012489896956335287), (2429, 0.01248251694905471), (2129, 0.012477842089273659), (3636, 0.012474064804697874), (2614, 0.012474010036824662), (3556, 0.012470974851125305), (2679, 0.012470102134949363), (1893, 0.012466378201843665), (452, 0.012458074299790609), (3618, 0.012420535167898648), (212, 0.012418877480653161), (2001, 0.012413023547464439), (2212, 0.012411672376823718), (282, 0.012409229658249182), (3605, 0.012402088685183946), (3452, 0.012398851931597106), (2870, 0.01239484208876936), (3439, 0.012391744639742283), (2707, 0.012389967796974105), (1316, 0.012375081866041403), (2231, 0.012371198083869175), (3458, 0.012370025352772842), (2609, 0.012368097849305822), (1062, 0.01236557948501303), (3241, 0.012365209614657188), (1706, 0.012359146456463257), (2319, 0.012346940505475842), (710, 0.012340408342142868), (1005, 0.01232953395409224), (792, 0.01231460863264936), (1367, 0.012309962886537885), (1616, 0.012309764846615168), (507, 0.012299772043815008), (1122, 0.012278210835241613), (2955, 0.012272885033739201), (1019, 0.012270911325370542), (3663, 0.01226011886496884), (3735, 0.012251359796884879), (3262, 0.012249985663579172), (3247, 0.012228777352202), (2689, 0.0122248547298492), (2633, 0.012219306879067363), (3208, 0.012211834396849502), (1987, 0.012210210461425149), (252, 0.012203730509743112), (1092, 0.01220049303077876), (277, 0.012195262056026904), (1224, 0.012186382899651177), (3718, 0.012182565597508454), (1107, 0.012171691261751244), (1126, 0.012170275444976316), (420, 0.01215690527821135), (2327, 0.012146716470986514), (2010, 0.01214084075522638), (3571, 0.012137929846430352), (3180, 0.012130870712309519), (2617, 0.012120175780201907), (1714, 0.012118957567444818), (542, 0.012117222229947561), (3029, 0.012116841594469227), (908, 0.012102497503940818), (2051, 0.012102227513745541), (743, 0.012099404250809185), (945, 0.012091766035949225), (2533, 0.012090779705569168), (612, 0.012080547463931916), (1456, 0.012076647964926406), (3095, 0.012064290098282093), (1439, 0.012061701166870775), (2180, 0.012056457940330252), (376, 0.012055843516779517), (1379, 0.012050003853276559), (292, 0.012042436727526461), (2937, 0.012038228612259878), (1871, 0.012036806267224327), (1887, 0.012035351120320732), (2621, 0.012025662639856338), (272, 0.012019082992618647), (588, 0.012018948935358063), (1565, 0.012017077485787859), (686, 0.012016457635064556), (1160, 0.012015819409965201), (1793, 0.012013854883410842), (1240, 0.01200182355563056), (1146, 0.012000015324689388), (3165, 0.0119832136912476), (3288, 0.011976433695713546), (2017, 0.011975778655817917), (100, 0.011972798251917147), (123, 0.011972708205672044), (661, 0.01196858503142163), (2999, 0.01193399583562198), (2928, 0.011916495046900694), (2974, 0.011904861970815014), (3714, 0.01190032710565366), (1897, 0.011899300824603156), (1372, 0.011897672516735937), (2055, 0.011893819121418892), (2432, 0.011893429320695436), (575, 0.011869108840833222), (2420, 0.01186707866144318), (1185, 0.011856570243847024), (2148, 0.011853980505864382), (453, 0.01184985869071477), (1386, 0.011847910118192912), (1031, 0.01183766884997806), (1926, 0.011830857566750112), (1269, 0.01182894551080612), (933, 0.011827560552150382), (3523, 0.01180341576746644), (80, 0.01178876981801281), (1428, 0.01178077035731638), (2735, 0.011778294734373479), (1395, 0.011775643111012837), (2890, 0.011763438737263297), (905, 0.011761684978465917), (1642, 0.011761149471286834), (2003, 0.011746550020268424), (3541, 0.011745935615111894), (649, 0.011741988443543272), (643, 0.011739144875630598), (3465, 0.011730771016900388), (765, 0.011728726508035296), (1542, 0.011720140389787644), (1518, 0.01171926672132624), (716, 0.011716039390658666), (2742, 0.011705549412484985), (1246, 0.011702658559569276), (3100, 0.011701607377157107), (64, 0.011693794623684344), (1571, 0.011690544544792698), (3036, 0.011684372750043734), (3156, 0.011680414932165026), (2805, 0.011679283953656808), (1557, 0.011672088895099447), (2593, 0.011665844646179025), (1630, 0.011660558775094025), (1046, 0.011659028634658704), (2903, 0.011658362977618573), (237, 0.011655187834823952), (49, 0.011654729263005635), (3447, 0.011644734323876972), (5, 0.011634316952463414), (2329, 0.01162977548711311), (1461, 0.011628224903760543), (2085, 0.01162636602737197), (3216, 0.011624177905398528), (3558, 0.011621795415416058), (2778, 0.01161364422454432), (2081, 0.011611407938920402), (2574, 0.011608348373996033), (21, 0.011607447152749948), (1638, 0.01159148720081023), (1493, 0.011580992012319557), (558, 0.01157782554380123), (1744, 0.011577572558144983), (802, 0.01157411967627636), (225, 0.011566393759413235), (3628, 0.01156574896414515), (1700, 0.011563960255799902), (2318, 0.01156123998296822), (3022, 0.011555757893902351), (441, 0.011552326895324205), (2165, 0.011550199016800293), (1738, 0.011533655671124183), (2243, 0.011530134137054986), (1703, 0.011528100865614994), (2980, 0.011521366281325631), (1430, 0.011516650138222465), (849, 0.011516286719175785), (2448, 0.011499463796139128), (437, 0.011496945748505539), (2184, 0.011489121447271666), (2635, 0.011475199284293192), (1784, 0.011471584898380894), (1725, 0.011439725947867649), (1928, 0.01142475063413312), (599, 0.011422684083929225), (1087, 0.011407557058198263), (3058, 0.011400436972258437), (164, 0.01139719516995319), (2462, 0.011387584645909549), (2775, 0.011373342123625858), (185, 0.011371538145669064), (735, 0.011353433961532346), (2376, 0.011347219460564797), (68, 0.011338237262961308), (2189, 0.011335079582061794), (981, 0.011334070120134621), (3501, 0.01133273818899202), (3668, 0.011329194178440874), (219, 0.011327026460572594), (2025, 0.011323808211102553), (1653, 0.011316857801222931), (3450, 0.01130902456470601), (1548, 0.011305091821949406), (1074, 0.011297707998976843), (1050, 0.011296366254502324), (3188, 0.01129331471573996), (469, 0.011257022491678526), (2363, 0.011247386322253477), (1981, 0.011236870857976162), (2080, 0.011229748802076913), (2262, 0.011226276451404137), (2751, 0.011221306522892039), (1813, 0.011216726757791388), (50, 0.011211059368264265), (2273, 0.011190140301420192), (2014, 0.011180069512888437), (1431, 0.01117739281325399), (174, 0.011171402539120868), (1270, 0.011168502014645755), (2567, 0.011163995507895878), (2161, 0.011155503522560253), (1221, 0.011151190840182094), (3445, 0.011123934459120206), (1415, 0.011122044467854275), (2913, 0.01111782125009711), (1306, 0.011115639791898023), (2166, 0.011100984374924638), (3279, 0.011100130331030512), (2447, 0.0110951552393163), (1776, 0.011093961350995569), (1324, 0.011073208556233761), (1276, 0.011072862509364161), (1305, 0.01106183649860538), (952, 0.011052374744155137), (533, 0.011052243750691347), (3412, 0.01105094499459312), (2451, 0.011050050672256412), (3142, 0.011043690909329966), (2507, 0.011039672561999826), (1516, 0.011034160421700452), (1328, 0.01102356691093041), (2945, 0.011021352763641312), (1915, 0.011017336053948201), (3061, 0.011008732708574543), (454, 0.011004602638768776), (843, 0.01100238763441553), (2682, 0.010987271314870045), (311, 0.010985162960237018), (1584, 0.01096608767645584), (1724, 0.010944065093628174), (1532, 0.010930798331834768), (824, 0.010927519069806251), (813, 0.01091726295447325), (3454, 0.010894067077975224), (2174, 0.010887526653342694), (3370, 0.010884369942884022), (881, 0.01088098800692856), (3544, 0.010880038004164972), (108, 0.01087846832158908), (1277, 0.010874080455086654), (1369, 0.010873790298672954), (2815, 0.010843095617841152), (2759, 0.0108421738946879), (1447, 0.010832188442944677), (1640, 0.010828519688071874), (1693, 0.010828079990603489), (1984, 0.01082308859917356), (1250, 0.010821706594846275), (1350, 0.010816274641127853), (946, 0.010811086099985046), (1672, 0.010810195500350974), (1948, 0.010804837721656833), (3514, 0.01080261326252127), (2723, 0.010802578863124926), (1097, 0.01080078921215949), (978, 0.01079815947263457), (3248, 0.010791954839479805), (2437, 0.01078335181819318), (1141, 0.010769586863713865), (1144, 0.010761759204443722), (2540, 0.010760935876051262), (2733, 0.010760204001036692), (3153, 0.010755189161729696), (3035, 0.010753767959083137), (3431, 0.010704229205605022), (1891, 0.010699031017626925), (2564, 0.01069831671235405), (943, 0.01069740640879583), (1049, 0.0106933892646859), (1445, 0.010682242113058436), (3616, 0.010652668527971953), (1841, 0.0106478479524467), (7, 0.010636254356029825), (2770, 0.010621869764611713), (3349, 0.01060800619782275), (2105, 0.010607065123228246), (419, 0.010607034177455645), (1279, 0.01060566002237142), (347, 0.010585074042164154), (1002, 0.010583777520057507), (2348, 0.0105814670088398), (1654, 0.01054583790708385), (601, 0.010534429198697539), (3473, 0.010532051148088426), (18, 0.010529270009188747), (3223, 0.010528418851821455), (2629, 0.01052176713106711), (86, 0.010517440933834448), (964, 0.010512973986394166), (2535, 0.01049235259925239), (1599, 0.010477732560435434), (754, 0.010476645875081916), (1666, 0.010469240398475976), (2089, 0.010468553537084884), (113, 0.01045674292294529), (1837, 0.010439134159643801), (2251, 0.01043821475298314), (3134, 0.010433661355470112), (2866, 0.01042665055697067), (1676, 0.010407897997756415), (145, 0.010395917721553079), (155, 0.010385734517632165), (3295, 0.010367744086748672), (3368, 0.010353855151844702), (2181, 0.010339045250846876), (2281, 0.010337531382558206), (1226, 0.01033450691001399), (2632, 0.010316894745046889), (334, 0.010308514499913907), (2537, 0.010289780741401534), (2470, 0.010286403300715044), (288, 0.010283525247371028), (936, 0.010281450439346883), (997, 0.010280157634088214), (2793, 0.010278261953504479), (1617, 0.010266593674979884), (3562, 0.010266237238367358), (2419, 0.01026504973513186), (1551, 0.01026037365693103), (3178, 0.010249467523180981), (2841, 0.010248476153844307), (3580, 0.010236428624008365), (345, 0.010233601267164608), (3733, 0.010212364416610204), (1839, 0.010212296699419079), (899, 0.010211414354015243), (3021, 0.010205429597064074), (2170, 0.010203901153956087), (1843, 0.010198014491800089), (2936, 0.010197287187828467), (3136, 0.010195408797083787), (832, 0.010195339962584819), (718, 0.010190671217321765), (2888, 0.01017967063102205), (1134, 0.010151779967558644), (1520, 0.010151723103995348), (468, 0.010150007191315482), (3361, 0.010141218330748263), (2855, 0.010135992166550329), (2211, 0.010115577178022124), (1717, 0.010095520283534052), (1556, 0.010093932847889776), (3356, 0.010082480197281746), (1159, 0.010082129836964713), (2187, 0.010081167582085642), (593, 0.010077053830584985), (6, 0.010066542471337075), (2964, 0.010061523565234553), (3652, 0.01006060456207942), (560, 0.01005738759006069), (1901, 0.01004789423753229), (2067, 0.010038849665988805), (1585, 0.010018693075524073), (1812, 0.00996872556874089), (2314, 0.009967216271951955), (2440, 0.009966709235273687), (172, 0.009963778253632136), (3094, 0.00996221966446539), (16, 0.00995611396012841), (1779, 0.00995236073217113), (186, 0.009950946869867711), (2766, 0.009949477301597318), (3487, 0.009944009557474674), (1591, 0.009942100207080126), (1902, 0.00993700632867374), (2782, 0.009931903985398784), (2497, 0.009916844056234424), (2674, 0.009910678290280684), (1313, 0.009903596171673756), (1530, 0.009900422694304477), (2077, 0.009895698454818165), (98, 0.009864425915126903), (128, 0.009861427112503355), (422, 0.009858287276730247), (1731, 0.009841418862188525), (1418, 0.009840137705322547), (75, 0.009836854115728523), (2590, 0.009830738442208053), (1410, 0.009828636528252832), (3318, 0.009823717494617717), (53, 0.009788890528237473), (1165, 0.00977738697230179), (2648, 0.0097337618750221), (1441, 0.009700536196965554), (3167, 0.009684457281752374), (3024, 0.009630345493491168), (2160, 0.00963025305746579), (3228, 0.009614843903636797), (480, 0.009613225915961674), (3302, 0.009611250683801737), (2481, 0.009601370187882962), (3705, 0.009588289025129886), (2797, 0.009578133152111961), (1622, 0.00957762775867048), (1514, 0.009577425263839628), (3360, 0.009574820304917896), (3121, 0.009564780112341558), (1282, 0.009559687482600245), (3306, 0.00953427897913729), (3484, 0.009519399046968656), (2043, 0.009515777311735998), (3157, 0.00950361838309378), (3456, 0.009487569310737801), (56, 0.009486244859801873), (3588, 0.009486145089776368), (3513, 0.009484022889315056), (1400, 0.009465510102342443), (748, 0.009453883090826449), (2328, 0.009452273109953021), (2196, 0.009448389009043738), (2765, 0.009443660523861468), (340, 0.00941823838703738), (3192, 0.009414971458918224), (3399, 0.009407358790816545), (3174, 0.009407310167800154), (139, 0.009401322781157039), (645, 0.009391510189051369), (2848, 0.009386158633486946), (1455, 0.009384255521017494), (1068, 0.00937487394451978), (206, 0.009340017258184834), (156, 0.009337490527449272), (3578, 0.009327396074200186), (1230, 0.009320094066831701), (733, 0.009293863196708748), (3420, 0.009293451821940954), (1856, 0.009287089975706904), (2433, 0.009260447354674685), (3688, 0.009257802127212559), (1488, 0.00924970777381851), (3075, 0.009243232022413181), (3193, 0.009234234951366608), (1567, 0.009221993208602178), (1057, 0.009195329109850558), (2151, 0.009191077975803583), (566, 0.009184815534540165), (3173, 0.009180685002494766), (3038, 0.0091532259568794), (3074, 0.009146066250954151), (3055, 0.009136814598567305), (1797, 0.009125790741271235), (1442, 0.009118294823754546), (606, 0.009111785127931796), (363, 0.009097320566131321), (1499, 0.009089729426093207), (3211, 0.009086104497461023), (1587, 0.009074276551293843), (3016, 0.00907088942816309), (1216, 0.009060082679007295), (568, 0.009059341903022707), (3682, 0.009057353281869514), (1405, 0.009056833459787306), (1880, 0.009048442547889297), (1848, 0.009042663508193535), (27, 0.009029829673369795), (2662, 0.009028867667897181), (932, 0.009028327998487873), (134, 0.009027456212887674), (2637, 0.009025415161991396), (1243, 0.009023748658058606), (580, 0.009021811651294915), (3729, 0.00902172083405739), (3213, 0.009013249608842283), (2776, 0.00900596074922205), (1130, 0.008997623583427023), (2620, 0.008996837338135352), (3416, 0.00899121446599555), (2388, 0.00898986775804658), (3502, 0.008989520459325101), (648, 0.008974386280729392), (1402, 0.008969284981251505), (2988, 0.008965458629572567), (3348, 0.008965074424261261), (868, 0.00896041702663598), (121, 0.008950483432599538), (496, 0.008946678338262713), (2112, 0.008942833051583401), (1255, 0.008939197776552657), (90, 0.008935629996825867), (706, 0.008931410941501607), (38, 0.008925376796422836), (1610, 0.00891333594836256), (1830, 0.008905285921043032), (1171, 0.00890423851614297), (1667, 0.008900703321663218), (129, 0.00889947329518127), (2260, 0.00889627846513413), (2576, 0.008889292111307682), (2530, 0.00888223594118059), (977, 0.008880798311871618), (2398, 0.008880740319560085), (2413, 0.00887143099545951), (3274, 0.008870698015675662), (1139, 0.008868639715087254), (2704, 0.008867184330207075), (3128, 0.008861750815338382), (3506, 0.00885106929102039), (2358, 0.008844531758620508), (390, 0.008834632428222022), (310, 0.008823324075414809), (2757, 0.008817400843597192), (2471, 0.008812724208744892), (433, 0.008811077851274194), (2706, 0.008807264657797418), (52, 0.008806817389863438), (3721, 0.008803705354991274), (3107, 0.00879692164756394), (3341, 0.008796437807900029), (1947, 0.00877638794731379), (3650, 0.008773399702740072), (1949, 0.008754509310585468), (2579, 0.008741950134163854), (3725, 0.008735269000703585), (3087, 0.008712910596949045), (2658, 0.008711876256244637), (1771, 0.008711582147363275), (3252, 0.008709813113526484), (1332, 0.008709499701731488), (2606, 0.008701759051605284), (1389, 0.008701234514166798), (2820, 0.008692690403573346), (2942, 0.008688827385160592), (463, 0.008678063878935872), (2916, 0.008677211687527175), (1699, 0.008676027443119086), (2460, 0.00867598364283974), (3336, 0.00867321983386216), (3321, 0.008668611323645), (1890, 0.00866451108455575), (3359, 0.008656417008867335), (2349, 0.008650078580981472), (295, 0.008642144394432989), (3696, 0.008634061959708124), (2788, 0.00862482535330765), (324, 0.008595137163621331), (1865, 0.008587576019222212), (1265, 0.00858130958413175), (3076, 0.008577004358490896), (3424, 0.008562028874102536), (2925, 0.008544093698413031), (3587, 0.00854326592001293), (3334, 0.008537998131240445), (3720, 0.008524618079139777), (596, 0.008519886585921083), (1261, 0.008508292926552625), (3381, 0.00849810408703219), (1741, 0.008492510579227504), (1039, 0.008491663143495797), (925, 0.008488204652794087), (1552, 0.008475866442522451), (2428, 0.008473263221061724), (402, 0.008473095416380111), (2038, 0.008465182070024564), (1681, 0.008459850635027832), (3219, 0.008452272354396925), (2643, 0.008450245436793706), (2763, 0.008439807966479411), (3538, 0.008422773170326659), (2891, 0.00842254369828985), (3003, 0.008416902820999366), (1517, 0.008415359737540826), (825, 0.008408202415488014), (319, 0.008400218199246962), (461, 0.008399741203899143), (3497, 0.00839898912103822), (1614, 0.008394804684061867), (1629, 0.008390447945502847), (1598, 0.008389448295454604), (2422, 0.008389402631026631), (1504, 0.008373687337069304), (3512, 0.008369535350880142), (917, 0.008362015460644625), (1847, 0.008351641459001928), (2291, 0.00834208808372302), (3096, 0.008340062273107556), (1716, 0.008338772500297473), (2740, 0.008336849440647325), (515, 0.008336700912486356), (31, 0.008331045024327037), (2079, 0.008329092389668918), (663, 0.008322785489609498), (2739, 0.008319876304442192), (1921, 0.008298708714919218), (3466, 0.008286916102833913), (1335, 0.00828615662873208), (1624, 0.008282833667312514), (1879, 0.008280721096792397), (3184, 0.008275706442777708), (202, 0.008270658235999411), (1396, 0.008269546722211484), (2719, 0.00826022370159414), (2967, 0.008255354002333674), (3210, 0.008253981566899939), (3634, 0.00825394633392862), (2683, 0.008247551547512631), (2239, 0.008241124522146514), (1933, 0.00823694016924082), (339, 0.008229366231698934), (2279, 0.00822264954841579), (3231, 0.008220042015212696), (1104, 0.008214386062488591), (2390, 0.008213706981363651), (3027, 0.008213621603910414), (1298, 0.008208604536226223), (427, 0.008208081983533221), (2194, 0.00820755706051064), (2068, 0.008203406696793637), (223, 0.008201623799550379), (2012, 0.008178811333757027), (499, 0.008167004570890462), (1101, 0.008166633317790778), (2624, 0.008163936574015493), (2976, 0.008160120333290138), (1710, 0.008159450302001558), (2958, 0.008154882915020955), (385, 0.008150924151981948), (2311, 0.008150332756426787), (2190, 0.008142208879784), (976, 0.008141057237909368), (3273, 0.00813416192921275), (1998, 0.00813000209678929), (42, 0.008123412899880595), (2101, 0.00811408087334804), (1451, 0.008111321679582551), (2238, 0.008110605492565582), (365, 0.008108329715634325), (293, 0.00810718474314602), (2063, 0.008087214370953886), (2619, 0.00808146214965173), (1444, 0.00807463058164906), (1129, 0.008074074889819285), (762, 0.008072248709392256), (767, 0.008071061811339268), (3635, 0.00806968007701828), (3357, 0.008067011595716364), (1501, 0.008066862726491791), (1651, 0.008058513940615545), (1643, 0.00805483499670867), (2127, 0.0080495262333174), (3006, 0.008029999885213879), (2963, 0.008024401095747273), (2396, 0.00802312090630041), (1523, 0.008020774959538984), (1192, 0.008016060093212743), (1886, 0.00801356538300991), (2634, 0.0080072607066432), (2192, 0.008004903695950017), (447, 0.007995885773549913), (646, 0.007987093263825813), (3235, 0.007984311084986387), (914, 0.007983815678590777), (1620, 0.007983718978071989), (3162, 0.007980202326391708), (3712, 0.007976578230163692), (709, 0.007964185857694485), (3429, 0.007963737540114672), (2825, 0.00795799773438478), (2596, 0.007957617645508345), (971, 0.007932852730711877), (1674, 0.007927263503618224), (3443, 0.007925966337706921), (955, 0.007925429217257486), (2049, 0.00792248229477414), (2208, 0.007919833211715892), (992, 0.007916930456749969), (738, 0.007915751550112187), (2258, 0.007912937828923371), (460, 0.00790327240504824), (1473, 0.00789719302264642), (941, 0.00789535356019103), (3713, 0.007889342237434082), (88, 0.007888959830348768), (2144, 0.007887372458374092), (2657, 0.007882990973876477), (1814, 0.007876169930580743), (3468, 0.007874658095000825), (1352, 0.00786045377644732), (3073, 0.00785246375263319), (3519, 0.007845908508339779), (2744, 0.007845486249788501), (1721, 0.007839132236242103), (1071, 0.007837921927212832), (2475, 0.007824248623485734), (2814, 0.0078091107032729565), (1421, 0.007807084577291028), (3098, 0.0077979799401295576), (953, 0.007794632725711349), (2693, 0.007784751420089162), (1860, 0.007781572795807474), (464, 0.007781057196413384), (1529, 0.0077804931778198624), (697, 0.007777472708760084), (769, 0.0077759390721655105), (1123, 0.007774518108203523), (930, 0.007765911466779728), (2811, 0.007760277326416397), (2882, 0.007755792305963953), (2810, 0.00775575960720778), (1519, 0.007744300557710579), (1023, 0.0077393862127145205), (2541, 0.007738609814288371), (2972, 0.007712403550335612), (2216, 0.0077091699801199445), (1770, 0.0077072600633085984), (1459, 0.007704533578775397), (1561, 0.007702942289523847), (3257, 0.007696384789191402), (1632, 0.007681028505995776), (2053, 0.007675515130937775), (312, 0.007667974908808071), (3598, 0.007661603173263713), (3331, 0.0076525755366648445), (109, 0.0076519713809523205), (1037, 0.007648620551030171), (215, 0.007648240506202361), (1986, 0.007637812419848146), (756, 0.007636489767932121), (1401, 0.007629009443040138), (3101, 0.007611243151848702), (3542, 0.0076083398113199925), (3182, 0.00760789392423715), (1977, 0.007607100485981709), (1033, 0.007602211315947929), (210, 0.007599443733288259), (1077, 0.007594648219492831), (2511, 0.007589014100913233), (1295, 0.007582549372269846), (2007, 0.007564768396871517), (255, 0.007561704632672805), (1533, 0.007552192454580012), (1495, 0.00754889033245899), (928, 0.007534022285734609), (2465, 0.007528009693727883), (2104, 0.007525147156937622), (3386, 0.0075208988536911905), (2200, 0.007516744851148659), (3007, 0.007503763049193469), (2071, 0.007496930017740128), (2899, 0.007479894284405712), (3678, 0.007477779806854367), (3323, 0.007477665825427239), (1434, 0.007473309839272891), (819, 0.007463807926061791), (281, 0.007463442984271947), (749, 0.007434860892925923), (3132, 0.007430016601220918), (2210, 0.007413687121641657), (770, 0.007411358626452896), (3461, 0.0073970824950595525), (545, 0.007395375278644623), (1521, 0.007392218505832012), (3365, 0.007391153416528061), (3485, 0.007385375080410565), (2480, 0.007375697433692499), (2106, 0.007356950086325819), (768, 0.0073555154529551465), (573, 0.007330967060020459), (3019, 0.007328020459136535), (1408, 0.00732450963037517), (3402, 0.0072739579462909295), (1470, 0.007272235289468899), (2186, 0.007253094473965738), (2589, 0.0072276966450949415), (1665, 0.007202494776260677), (1815, 0.007201793494122073), (918, 0.007197059953233161), (3344, 0.007197016720173081), (3292, 0.007181861571445512), (666, 0.007179274852236651), (1147, 0.0071701961593858814), (2225, 0.007116782482879696), (157, 0.007108843702789809), (2676, 0.0070954867307704336), (1190, 0.007092553825852412), (3626, 0.007088142244695988), (94, 0.0070674815759976094), (173, 0.007066699371367388), (786, 0.007061285133617376), (1781, 0.007054196876991791), (2977, 0.0070280442858447175), (73, 0.007006703896971033), (1685, 0.00698692085281534), (2054, 0.006970577016682463), (1351, 0.00696494898383518), (1210, 0.0069588597393655275), (3679, 0.006957081362836323), (3099, 0.006927209170865009), (1263, 0.006917488212658871), (1683, 0.006913778509411068), (901, 0.0069091661974067615), (3002, 0.006903477632503322), (2276, 0.006888681684333835), (1234, 0.006873651165223111), (2487, 0.006860329604971463), (3673, 0.0068589712194771285), (3518, 0.006839962494320995), (2777, 0.006835620192493334), (1245, 0.006834783556916224), (348, 0.006806990576849839), (2779, 0.006790256213336341), (873, 0.006790147807412487), (3680, 0.006788266388439922), (2371, 0.0067850524131417515), (1260, 0.006762830144624952), (1711, 0.00674355808329119), (653, 0.006711239525676049), (415, 0.0066611647453925), (451, 0.006598578490290007), (2219, 0.006521991746634228), (2483, 0.006506772877142644), (3411, 0.006504530417027364), (2232, 0.006476660446841195), (1920, 0.006451296427028533), (3195, 0.006450445920186807), (1605, 0.006416338009021862), (2552, 0.006398589274247491), (2360, 0.00618499617500934), (3005, 0.00618284632704031), (3281, 0.00616188651723513), (330, 0.006151582816835006), (3441, 0.006124196550285937), (3451, 0.006100576213730375), (777, 0.006083329114503247), (3286, 0.00604702931361157), (2836, 0.006023755772654675), (694, 0.006020285655844356), (3600, 0.005975504711862313), (458, 0.005953042065766693), (3238, 0.005935438171400338), (3333, 0.005908779082459315), (3559, 0.005872986700047191), (1237, 0.005866079144513928), (877, 0.005838106056358488), (657, 0.005800798729203218), (3483, 0.00577763266839799), (2048, 0.005751808368742574), (2646, 0.005741882277801869), (3249, 0.005725588622924817), (836, 0.005723935356240899), (3345, 0.005709069628912012), (3592, 0.005697204407495512), (3472, 0.005686951926536263), (1946, 0.0056789231171148445), (3090, 0.005671951145153166), (359, 0.005668442350857962), (2391, 0.005654398389978007), (1273, 0.005652869803436001), (1989, 0.005649056076759396), (1388, 0.005640042098291569), (3727, 0.005631562735864501), (399, 0.005631013704635966), (630, 0.005628528930222796), (3560, 0.005627907703972255), (929, 0.005611701348615567), (3316, 0.005604601050251511), (3567, 0.005601448042408495), (3561, 0.005587222676420882), (774, 0.005586053491667322), (2109, 0.005580620556722025), (616, 0.005578412183612352), (2856, 0.005569139220492151), (1205, 0.005557894188944645), (2223, 0.005551586430928941), (344, 0.005544447148320428), (1156, 0.005543797376879115), (234, 0.005543057262081045), (3463, 0.005535225637685518), (3328, 0.005522766042428568), (2935, 0.005518878979838679), (3014, 0.005514936094828796), (341, 0.005507048199833959), (3106, 0.0054953421874541), (1695, 0.00549096346628474), (2288, 0.005480751790722639), (2895, 0.005479828162725622), (995, 0.005479279161203466), (911, 0.005471540667802971), (3622, 0.005463000829378333), (2249, 0.00545100938606374), (2269, 0.00543873563034423), (2508, 0.005436435354504996), (3475, 0.005434364028478491), (626, 0.0054327982585062416), (3116, 0.005430200862331911), (2031, 0.005428033900973728), (2971, 0.0054229762096981125), (133, 0.005414611091021267), (3415, 0.005411625628495084), (2118, 0.005384184951431459), (1009, 0.005379038681667111), (2565, 0.005375130590371291), (1852, 0.005372725138548338), (3723, 0.005369319904175011), (1392, 0.005365878744162129), (1905, 0.005356265123270556), (395, 0.005352894779901516), (711, 0.005351601275341301), (1052, 0.005337645140356579), (1649, 0.005334652578480624), (1484, 0.005332195581715581), (2889, 0.005330266934287654), (3293, 0.005325516258968783), (2830, 0.0053236474942033145), (3343, 0.0053160123392449665), (3504, 0.005308895918625458), (1789, 0.005306243643321828), (2209, 0.005303652856312698), (1227, 0.005299218593936733), (1102, 0.00529120661258887), (495, 0.005290637477488048), (3171, 0.005282617671856639), (2222, 0.005277050295633259), (2910, 0.005276489109729479), (1471, 0.005274903915103215), (3530, 0.0052746904679187336), (3627, 0.005271072040019092), (3413, 0.005270338829380055), (3691, 0.005266958205743245), (3462, 0.005264189613184655), (2684, 0.005258078762317678), (931, 0.005255066711337517), (1315, 0.0052485669340451594), (3040, 0.005248424516794843), (391, 0.0052463003266290924), (3533, 0.005245818077483344), (1943, 0.005242842350247112), (1323, 0.005242434718341748), (9, 0.005242119757473876), (3661, 0.005241559522068511), (1193, 0.005238535802729379), (2601, 0.005238505025253273), (844, 0.005233537914131195), (2545, 0.00522344329450074), (1090, 0.005219346463558325), (705, 0.005217751524087308), (551, 0.005213816523239599), (2270, 0.0052137462058881945), (1708, 0.005207785323198198), (541, 0.005200846499763762), (2344, 0.005200640250738701), (1846, 0.005197222385180685), (3168, 0.005194386812740447), (2946, 0.005192190975261463), (1801, 0.005190294932708298), (1320, 0.005188997152679377), (3539, 0.0051874954866707595), (2813, 0.0051872277881454066), (3332, 0.005183098244509462), (730, 0.005181603262820555), (1594, 0.0051802066598796645), (940, 0.005170573285259542), (2090, 0.005164270110201629), (855, 0.005162817835863404), (1064, 0.005161543637261132), (1010, 0.00516124158663777), (3545, 0.005160790457363848), (3350, 0.005159591375930582), (3669, 0.00515865487507427), (3199, 0.005158378680438404), (188, 0.0051573322704510345), (3625, 0.005151879367418707), (1047, 0.005148963813138351), (1562, 0.005143527761049519), (1477, 0.005141868863193889), (57, 0.00513562451846605), (1422, 0.005129608023967177), (2716, 0.005122523210394771), (2626, 0.005117870351440659), (2850, 0.0051149447933368656), (1698, 0.005112367217769212), (654, 0.0051101977248229034), (2443, 0.005108114741782334), (3305, 0.005108107477506258), (803, 0.005105340945147618), (3011, 0.005103212575613424), (3717, 0.005102379489197478), (2302, 0.005099234212474516), (2631, 0.005098452480692043), (2581, 0.005097038002841994), (1065, 0.0050942832837782065), (2623, 0.005088346063964277), (1510, 0.005078200270627912), (2834, 0.005076503308215494), (1014, 0.005066321036523818), (674, 0.005066097607196762), (2618, 0.0050635468896753095), (991, 0.005059036149952495), (581, 0.005053138843045504), (1474, 0.00504824644457319), (1357, 0.00504742448032369), (1254, 0.005044004971648428), (2393, 0.005043493433158906), (619, 0.0050376779384266514), (1872, 0.005036455426544625), (1486, 0.005034713193035849), (3449, 0.005029907313866975), (1967, 0.005028283558733252), (2060, 0.0050270074335098955), (1727, 0.005024640550839669), (3662, 0.005021049953350723), (1569, 0.005020971635222991), (848, 0.005013756714936831), (2875, 0.005012594136222106), (1280, 0.005006776337165826), (1038, 0.005004020370969205), (2173, 0.004999838759601288), (1601, 0.004998699218345707), (2524, 0.004997624131019368), (2748, 0.0049893744372527), (2407, 0.0049867911585278115), (3444, 0.004986711098161588), (2143, 0.004986401025774014), (1124, 0.004983788987642358), (379, 0.0049825379123707), (1749, 0.004974435849029458), (2337, 0.004972943223682459), (2197, 0.004971623215923234), (1512, 0.0049698237490497475), (784, 0.004969104442071261), (3169, 0.004969076174918534), (887, 0.004968806886776446), (1093, 0.00496876313493924), (3380, 0.004967333361277042), (3564, 0.004964662085059908), (280, 0.004962968568179538), (519, 0.004962179348451697), (177, 0.00495766860311771), (3703, 0.004955920699894205), (1095, 0.0049537738301246425), (2933, 0.0049477290337755645), (2158, 0.004945600916714683), (3206, 0.004943241416261064), (2997, 0.004941068552319222), (1689, 0.0049367023091583485), (2583, 0.004936160065321583), (1850, 0.004934176637245243), (2097, 0.004928429404851871), (2762, 0.004916050247109325), (48, 0.004910807922373075), (2831, 0.00490554240929205), (562, 0.004900496674769936), (274, 0.0048991271429370455), (2424, 0.004899074110248484), (3404, 0.004898593677068096), (2295, 0.004893004352740928), (1208, 0.004886712096858749), (2073, 0.004886380359874048), (1694, 0.0048856021699890985), (3434, 0.004883512096431437), (3214, 0.004882193083364952), (3400, 0.0048790519267489065), (563, 0.004876239591800503), (3260, 0.004870082126674666), (466, 0.004868956334205422), (432, 0.004868797216619561), (3056, 0.004864977423236157), (3644, 0.004856091004990299), (381, 0.004852425538243092), (1132, 0.0048494912109276166), (2771, 0.0048466441679121735), (3030, 0.0048451103193349054), (3457, 0.0048374602127332815), (505, 0.004831692587014987), (2072, 0.004830507646905027), (1964, 0.004830223306775534), (2715, 0.004823225349877441), (243, 0.004806004762122392), (2939, 0.004804134704338272), (416, 0.004801818676647548), (3215, 0.004796720634064917), (2773, 0.004796301879304699), (1424, 0.004795820162918216), (346, 0.004794169734985407), (3526, 0.004793797768849223), (168, 0.00478616100985272), (144, 0.004785063246189685), (727, 0.004780905049987097), (3037, 0.004780475031868757), (845, 0.004779005395582313), (3085, 0.004773198708341862), (2948, 0.004772877087437258), (1241, 0.004769440780020699), (2326, 0.004764708492420366), (712, 0.00476173910082023), (3236, 0.004758188795087959), (2392, 0.004757479712428366), (1374, 0.0047566916321720495), (1878, 0.00475567079696419), (1128, 0.004753616507195508), (3581, 0.004753333847580576), (3433, 0.004751698843206342), (1412, 0.004749197065202997), (265, 0.004743263064743536), (1506, 0.004740934843914309), (256, 0.004739406869164709), (2930, 0.004737701702546884), (1754, 0.004731573243400863), (2931, 0.004731294797845561), (242, 0.004730121849907956), (2299, 0.004725130387085837), (1425, 0.004724639386896134), (1956, 0.00471974848375748), (2852, 0.004712722564506601), (3290, 0.004710200032721934), (2550, 0.004709427081727452), (1644, 0.004708804191340352), (162, 0.0046970484190751016), (1168, 0.004693929484291242), (3266, 0.0046906878714132), (220, 0.0046904446651623265), (1705, 0.004685820963140672), (2694, 0.004685375984803546), (2962, 0.00468099199251605), (2768, 0.00467636605595802), (3716, 0.004673051996214869), (3698, 0.004668305202148794), (2259, 0.004665197744992235), (966, 0.00466455014661818), (291, 0.004663156954493428), (2649, 0.0046593796622151126), (1988, 0.0046488557093243375), (3528, 0.004645983845436132), (1615, 0.0046447976619642915), (3615, 0.004641441266788376), (2912, 0.004635066878319916), (3590, 0.004634887011034414), (3464, 0.004633545488335909), (2467, 0.004633015865780124), (1992, 0.004632674709984811), (3621, 0.00463102441263975), (1054, 0.0046302147528845304), (431, 0.004624969638759765), (688, 0.0046242670142515605), (1743, 0.004622519908979111), (2652, 0.004622289255636266), (492, 0.0046221353291654435), (673, 0.004617591784796878), (611, 0.004612725400705853), (2056, 0.004607306788145462), (2710, 0.00460096211763834), (2947, 0.004600529152432436), (417, 0.004595313546229258), (3639, 0.0045942234810841505), (3050, 0.004589349632620255), (3212, 0.004585133146584447), (2979, 0.004578346927863961), (314, 0.004574110452062767), (1138, 0.004572967391152832), (2026, 0.00456260419887344), (1613, 0.004558030335863647), (1225, 0.004557320024724286), (1944, 0.004557248094950821), (889, 0.004547455146217827), (3160, 0.004546634959074546), (1590, 0.004546334169130424), (77, 0.004541126741823654), (3272, 0.004540617882039469), (1864, 0.0045389152589294865), (1737, 0.004536674794542353), (91, 0.00453542401791289), (3123, 0.004535163399212444), (2254, 0.004533962866202999), (423, 0.004531966924128235), (3324, 0.004531938274067201), (1457, 0.004530994745605566), (1446, 0.004529241519449323), (387, 0.004525754037955797), (2306, 0.004524048957569105), (3377, 0.00451736161309455), (2286, 0.004517142381306634), (331, 0.004510766266829973), (3555, 0.00450875847103881), (820, 0.004505907875685582), (449, 0.004505495447496685), (3715, 0.004504999183672678), (999, 0.004504127555968609), (3335, 0.00450071621663693), (2846, 0.00449717260234069), (622, 0.004494947162147095), (2653, 0.004494587821561912), (140, 0.004492466628425901), (2016, 0.004490287736874607), (2230, 0.004483924673349538), (672, 0.0044702515280126195), (2263, 0.004469855394709892), (1219, 0.00446804279472446), (3072, 0.004466191979964415), (3020, 0.004463307345613119), (1609, 0.0044596685430760875), (462, 0.004458803420540735), (2069, 0.004458524498305888), (3018, 0.004454140306493349), (912, 0.004447032168253483), (1996, 0.004442371538520532), (2867, 0.004441675716254756), (3620, 0.004440328952091356), (1925, 0.004438310141170548), (362, 0.004437470115152853), (3591, 0.004437047038007224), (1476, 0.004436538380901181), (373, 0.004435655603021974), (2494, 0.004434232533838385), (2430, 0.004433659569472684), (405, 0.004433150348774341), (1974, 0.004431798367473154), (2044, 0.004426421607421474), (2215, 0.004426009287948146), (3707, 0.004425995533000782), (1559, 0.004424428510757595), (2114, 0.004422502258774673), (20, 0.004418068830866224), (771, 0.004397973553774064), (2341, 0.0043945482418691235), (3492, 0.004389285631289482), (3599, 0.004387160452565229), (1368, 0.004382348617976021), (193, 0.004378520340927974), (1233, 0.0043781911402387165), (371, 0.004374984321921885), (3330, 0.004364560035794593), (698, 0.004361541277567411), (1110, 0.004352506601060224), (3576, 0.004352196044030502), (2498, 0.004350922275285839), (1758, 0.004348917535800572), (1885, 0.004348810038860985), (1291, 0.004348782530628458), (1910, 0.0043482736284580666), (662, 0.004345967041550885), (1242, 0.004344904441034623), (2469, 0.004344119916654447), (465, 0.004343034726990581), (4, 0.004342011164737862), (3140, 0.004339113410934615), (3366, 0.004337925506205627), (1085, 0.004337166810232219), (1596, 0.004331165333673406), (1818, 0.004327260172465959), (3071, 0.004322995570171373), (535, 0.004320764065174288), (2117, 0.0043166908721397395), (3540, 0.0043166562985843485), (33, 0.004313542468348317), (502, 0.004313393240233027), (3298, 0.0043124855548814615), (2827, 0.004311820776226445), (3495, 0.00430915131452244), (1906, 0.004305382800368034), (3471, 0.004297045765404893), (1109, 0.004295566783024866), (1438, 0.004294055042763742), (539, 0.004289263806061936), (3000, 0.004287531731620375), (1568, 0.004284479362504265), (1217, 0.00427943042663766), (2677, 0.0042748636408890435), (1188, 0.004270844924987211), (1325, 0.004268332260900137), (1248, 0.004260866282747915), (3573, 0.004259021978087091), (1942, 0.004252361513085884), (471, 0.0042512920258007975), (2, 0.004249436095870873), (1578, 0.004248818718973849), (1026, 0.004244967267833269), (2968, 0.004244636794495069), (3181, 0.004242141593840404), (1600, 0.004240575250236021), (2833, 0.004238428424585328), (3428, 0.004237957445178058), (3310, 0.004235643576171818), (1772, 0.0042340665771913), (3077, 0.004232212179661828), (2527, 0.0042285305091471275), (2404, 0.004228518711935725), (1075, 0.004227309191965636), (1073, 0.004225549319679192), (1228, 0.00422292803561926), (693, 0.004221712171416536), (961, 0.004218739606048652), (602, 0.0042111006965328945), (669, 0.004198583043798768), (1899, 0.004198213275822933), (1720, 0.004197560758017263), (3025, 0.00419350338140788), (3244, 0.004192883097611476), (1119, 0.004186231208784702), (1326, 0.00418540809840475), (590, 0.004183133368839378), (2989, 0.00418191956891864), (3004, 0.004181362960408527), (1912, 0.004177988310589215), (3704, 0.004173157246284524), (3547, 0.004168116593280718), (587, 0.004166678272427629), (2271, 0.004163347872215686), (2755, 0.004160734886071977), (2826, 0.004160317532975574), (1752, 0.004160193168096866), (3683, 0.004158204743215825), (3297, 0.00415694985684412), (579, 0.0041530594489944984), (2028, 0.004152912356884845), (3722, 0.004150168777817854), (2389, 0.004148163771014955), (1036, 0.00414723999860694), (1778, 0.004140850063259513), (2330, 0.004140011116607331), (1782, 0.004139681623891385), (2862, 0.004137439545264382), (2107, 0.004137017183833683), (1611, 0.0041356041264080925), (2240, 0.004129945815419227), (2380, 0.004124762800495422), (2666, 0.004118510971433525), (1008, 0.004117710873605004), (349, 0.004115724709828866), (85, 0.00411325245044253), (2441, 0.004109017432720168), (1183, 0.00410343169992062), (1220, 0.00409832826118637), (1668, 0.004097898271784015), (3172, 0.004097825567656458), (1058, 0.0040971926119298865), (2224, 0.004090835472846573), (3254, 0.004090548031954213), (1429, 0.004086684283411909), (231, 0.0040857145688756626), (2202, 0.004079787395979736), (378, 0.0040783957218267905), (531, 0.004076572080990562), (1895, 0.004076247894455875), (2783, 0.004072953128444568), (3256, 0.004069653204004577), (2880, 0.004067240356017745), (910, 0.004067103349229006), (2651, 0.004066114953882053), (2476, 0.004065545443369494), (2969, 0.004062262065789449), (1496, 0.004061784537642916), (3423, 0.004059536056536368), (2986, 0.00405835420661809), (3684, 0.0040521388347084675), (1016, 0.004050534271759228), (3448, 0.00404979422493171), (2781, 0.004048203476567149), (95, 0.004045992137376707), (736, 0.004041421062597171), (1730, 0.004039431351598894), (328, 0.004033282656384788), (3730, 0.004032620356993955), (3701, 0.004025971870107927), (2300, 0.004024204015944429), (483, 0.0040215901166251585), (2472, 0.004021584748870746), (1670, 0.004015828070293558), (2560, 0.0040118450508719004), (2113, 0.004010691386803027), (25, 0.00400973049452549), (1287, 0.004009224055391704), (1021, 0.004009014896505276), (3220, 0.003999171237223059), (1162, 0.0039989612793256265), (3198, 0.00399843984667231), (1544, 0.00399407341067563), (3496, 0.003991474416705814), (1365, 0.003981725792897989), (2342, 0.0039720886216926396), (1855, 0.003970651915925169), (2996, 0.0039702894611482), (3633, 0.003970161513974075), (1936, 0.003970098736079137), (3700, 0.0039699234988593915), (2869, 0.003964876261982789), (1362, 0.003957146195984276), (3666, 0.003956767387125384), (2879, 0.003947120428124885), (1028, 0.003943065577417084), (3299, 0.0039423737757167225), (617, 0.003933103831063912), (3482, 0.00392959978196486), (2228, 0.003926995637999718), (2368, 0.0039239703941981495), (3017, 0.003923088727773221), (190, 0.003921799920272521), (2265, 0.003917616047907208), (1704, 0.003916252437248375), (1952, 0.00391484215237842), (2304, 0.003913910138276634), (122, 0.003913778093340344), (3226, 0.003908892261767976), (2316, 0.003907379215431728), (948, 0.00390694611073168), (30, 0.0039057491176897174), (2824, 0.003902771119667522), (221, 0.0038976684849990513), (3047, 0.0038974060922284262), (2403, 0.0038935675479964144), (146, 0.003888515625279718), (258, 0.003881424928070488), (2840, 0.0038777552259218985), (2193, 0.003872846420107802), (1013, 0.003868816116888241), (199, 0.003865099304824479), (2690, 0.0038626813212927855), (550, 0.0038584396107919864), (377, 0.003840016883011603), (1515, 0.003838301163464425), (772, 0.003834821391831896), (1619, 0.003829673202616975), (130, 0.003820593958671077), (2592, 0.003819753936281363), (517, 0.003818255798796323), (3041, 0.0038173844769685585), (1537, 0.0038102536036212498), (894, 0.003804794659937838), (556, 0.003800273868859787), (3493, 0.0037978355809942356), (2261, 0.0037978184343714517), (841, 0.0037916276219148006), (1346, 0.003791029946940648), (3596, 0.003787517183454599), (1671, 0.003786475660633226), (2103, 0.0037850914240942783), (430, 0.0037843323778215675), (2774, 0.0037840689651674237), (3054, 0.0037804345552855468), (2859, 0.003778074039006529), (1541, 0.0037758638694810422), (338, 0.0037740759639596617), (797, 0.0037658998869362042), (3353, 0.003762581173458731), (1713, 0.0037611732040686765), (3276, 0.003755180438207272), (536, 0.0037519940017843954), (3204, 0.0037466519266935085), (3546, 0.0037426184554589354), (3537, 0.003732518978362485), (149, 0.003727004914598315), (266, 0.0037228099615171937), (791, 0.0037146641475869643), (1997, 0.003712213438625568), (3141, 0.003709445746667127), (922, 0.0037060174375480137), (2919, 0.0037041165135409983), (3207, 0.0036997178916492934), (2015, 0.0036895676437230045), (250, 0.003676958634238903), (2021, 0.0036740142811839), (1184, 0.003669594740570666), (2132, 0.0036689731175151867), (187, 0.0036649531194797385), (89, 0.003662107704794403), (3395, 0.0036498822901387673), (2369, 0.003647734078587871), (3693, 0.00364542523468573), (3176, 0.003583839412458971), (343, 0.0035823113595402772), (267, 0.0035795474771287477), (2932, 0.003570557796885165), (2125, 0.0035601920308965984), (1334, 0.003556784541578628), (508, 0.003546776342167129), (406, 0.0035447177742564786), (3307, 0.003531791910993195), (578, 0.003519737316206932), (2381, 0.0035111732640364865), (1889, 0.003508399318593533), (1249, 0.0035063489175621203), (1055, 0.003504558874143587), (569, 0.003502471463566299), (2150, 0.0034984610214141786), (583, 0.003497381569615463), (1658, 0.003490438572748572), (1099, 0.0034895944418804614), (1070, 0.0034880028617591567), (2696, 0.003453615900898851), (2747, 0.003443679423107418), (1526, 0.003426384309962182), (2561, 0.0034081560331128747), (815, 0.0033827777182036767), (2734, 0.0033728023010381734), (753, 0.003362368148296728), (2914, 0.0033596619418638785), (866, 0.0033484752378105027), (1197, 0.003347903211950445), (2510, 0.003313186707591815), (2858, 0.0032855674251781254), (2119, 0.003273125778698359), (175, 0.003222280363059285), (2378, 0.0032073589808889443), (528, 0.0031887120315561355), (404, 0.0031512801679335267), (1849, 0.0031423315315207557), (3607, 0.0031222734961630734), (1214, 0.003014598734454328), (766, 0.002911237226675946), (374, 0.0028768376095856555), (1732, 0.0028036269472442046), (1081, 0.002784893426372316), (576, 0.002773622046339705), (1500, 0.002687092466696968), (448, 0.002676538413543769), (3480, 0.002661259564462361), (597, 0.002642798414257589), (3398, 0.002638117663706953), (2213, 0.0026130581237172133), (795, 0.0026083348364509917), (178, 0.0026029867347851328), (249, 0.002581442407995301), (1502, 0.0025398095331705044), (15, 0.0025336171170244385), (1106, 0.002519682745691718), (2267, 0.0025130602160116865), (2226, 0.002505013631898431), (1004, 0.0024933551517707622), (141, 0.0024757017234325884), (3672, 0.002468369628499429), (2332, 0.0024526511494637883), (2714, 0.002300267216719781), (238, 0.0022825196365303664), (426, 0.0022654643595776255), (2984, 0.0022638315059993466), (2959, 0.0019880030686176818), (2214, 0.0013775320015518087), (2454, 0.0013004402965525734), (3690, 0.001285923595491531), (1154, 0.001268495450347735), (2367, 0.0012346160657301147), (1420, 0.0012206198297419536), (2829, 0.0012187585178415011), (3617, 0.0012186312115943336), (1048, 0.0012182479184471406), (3221, 0.0012155777165699312), (2904, 0.0012147846206418884), (3469, 0.0012142935893925426), (3200, 0.0012072990753327038), (790, 0.0012034548554425975), (2449, 0.0012032086128462853), (1991, 0.0011966458079556742), (2052, 0.0011952131644781666), (3521, 0.0011949168883559117), (2695, 0.0011906647401713868), (3676, 0.0011906070684337194), (194, 0.0011875430384305277), (2320, 0.0011862652098774363), (3372, 0.0011853380526372517), (1892, 0.0011843871615648707), (631, 0.0011838533456872806), (2338, 0.001182514622706589), (3453, 0.0011808916852945083), (613, 0.0011807380206257229), (3263, 0.001179528738444212), (2587, 0.0011790019160491196), (1811, 0.0011785856002100629), (2711, 0.0011775872628806126), (1935, 0.0011774290430937126), (124, 0.0011767313136606568), (1283, 0.0011759487087979205), (2884, 0.0011737341865503087), (1798, 0.001173489269549677), (3023, 0.0011685080042991847), (546, 0.0011677780949979795), (509, 0.0011639491413572593), (2956, 0.0011629618416510053), (3086, 0.0011608724342487046), (635, 0.001159021230729509), (67, 0.0011582456274875118), (1976, 0.0011525475217312503), (2995, 0.001152467975192829), (284, 0.0011519356529212542), (97, 0.0011512988648720447), (2627, 0.001149646323389097), (476, 0.0011490296251336811), (1954, 0.0011482667162118518), (475, 0.0011478704657754137), (3225, 0.001147718620371029), (3105, 0.0011441054730824299), (3589, 0.0011439062175127208), (1907, 0.0011437706358501847), (2169, 0.001143135693980039), (1066, 0.0011427512535114493), (2573, 0.0011422990382665983), (2446, 0.0011416115510164556), (3194, 0.0011406988153108428), (1475, 0.0011396238186906493), (969, 0.0011349267830884097), (3304, 0.0011342394717919714), (3579, 0.001134103578896258), (2839, 0.0011337411372156821), (3081, 0.0011332052060679728), (1570, 0.0011329271450158628), (169, 0.0011328251109061058), (3224, 0.0011316545473041228), (3129, 0.0011315688438215492), (1982, 0.001131411750359768), (3442, 0.0011303928074810304), (3239, 0.0011301411102665165), (3719, 0.0011298838609473357), (2335, 0.0011297978758339226), (3031, 0.0011278163586069272), (2602, 0.0011261979121541244), (3227, 0.0011254536116651248), (913, 0.0011237311575976303), (2800, 0.0011233931753515617), (3126, 0.0011220114021370262), (2418, 0.001120141199680185), (2098, 0.0011199450458713523), (3367, 0.0011188103609860553), (3217, 0.0011169918978033296), (1336, 0.0011156266561969956), (1810, 0.0011141159220938199), (2729, 0.001113766326049325), (1411, 0.0011136060352148602), (898, 0.0011131338453982667), (3511, 0.001112551229469781), (1086, 0.0011124476631184561), (1478, 0.0011115611416086105), (3535, 0.0011114393089461895), (2142, 0.0011113702643444807), (1174, 0.0011110039242029307), (2604, 0.001110868628889721), (2973, 0.0011100495137043465), (3570, 0.001110014334403912), (3517, 0.0011094171625013346), (1222, 0.0011078504610166505), (300, 0.0011063323692632994), (1908, 0.0011062848987750643), (2750, 0.0011061933182626759), (882, 0.0011047675498868338), (1465, 0.0011040896718330388), (3149, 0.0011037435037792164), (2386, 0.001103259210238675), (1634, 0.0011025929328947555), (3070, 0.0011024166167500895), (26, 0.0011014747134654621), (478, 0.0010969383475071383), (3127, 0.001095844836365686), (3237, 0.0010940424022493386), (2595, 0.001094033281535523), (2094, 0.001091241506397763), (2647, 0.001089912860324641), (2636, 0.0010897019758521742), (92, 0.0010891064307448953), (2493, 0.0010889723516923455), (3563, 0.0010876405106462186), (3446, 0.0010851848557593864), (921, 0.0010835694380807001), (960, 0.0010820449955021858), (1983, 0.001081905157938798), (1746, 0.0010816173576520395), (2868, 0.0010816125985725665), (3346, 0.0010808460431635063), (2897, 0.0010807891709077708), (3695, 0.0010807807668361095), (3510, 0.001080248328499145), (529, 0.0010795103200173582), (3104, 0.0010789064889514517), (1861, 0.0010784900314594697), (1806, 0.0010767682751341816), (547, 0.0010763648121639875), (2503, 0.001075218220420547), (1832, 0.0010744743533651377), (840, 0.0010741353311831765), (137, 0.001072924806912564), (3641, 0.0010725208246805042), (2803, 0.001071965447981924), (2896, 0.0010713301604346568), (3508, 0.0010708043472770251), (3117, 0.0010703890711489766), (2531, 0.0010700947935500936), (2234, 0.001069328124198288), (3314, 0.0010691768949898932), (660, 0.001068801616037799), (1309, 0.0010681116582590708), (29, 0.001068008069070712), (240, 0.0010675535163068679), (1393, 0.0010664963464472983), (3229, 0.001066132637329203), (2854, 0.0010653233346840946), (247, 0.0010647669886731175), (3269, 0.0010643657047454248), (1163, 0.001063234762443233), (2529, 0.00106226207746307), (3709, 0.0010622236565375105), (2864, 0.0010615472427124835), (2772, 0.0010612666625416855), (3494, 0.0010611284332717366), (3516, 0.001059541624688187), (571, 0.001059368588199098), (3347, 0.0010591519239527144), (2439, 0.0010585819545085027), (1339, 0.001056967802476492), (3697, 0.0010537958778890273), (226, 0.0010535236275152225), (3601, 0.0010531475098649109), (3670, 0.0010528859408636816), (1581, 0.0010525083447853816), (3375, 0.0010523018077323901), (1189, 0.0010518778961741712), (1479, 0.0010506767525335443), (511, 0.0010503801450596519), (398, 0.001049981826413778), (668, 0.0010498248681131395), (623, 0.0010494691289515104), (78, 0.0010494110798451824), (218, 0.0010491493796489506), (2138, 0.001047777956979494), (1450, 0.0010476455354930525), (3734, 0.001047383502474674), (2382, 0.001046863790341366), (3432, 0.0010462800371747148), (1158, 0.0010459981109094017), (1251, 0.0010447174843169543), (2823, 0.0010437359363603457), (114, 0.0010429052199088175), (1768, 0.001041416703655411), (1777, 0.0010409872844574786), (1497, 0.0010407131866744428), (229, 0.0010407082010538582), (1149, 0.001040570634073622), (2553, 0.0010405511573551242), (584, 0.0010398678978315843), (1032, 0.001039421409506412), (664, 0.001039041207117333), (1166, 0.0010390151099467465), (1509, 0.0010386561844041905), (3419, 0.001038574214325772), (2860, 0.001038342912283703), (3396, 0.001038225576650819), (354, 0.0010380766084506195), (2248, 0.0010378802233415932), (3268, 0.0010375678122878237), (585, 0.0010373972049864406), (1385, 0.0010372224095187093), (854, 0.001036989240339857), (3092, 0.0010363967419070282), (3390, 0.0010345158652946605), (1297, 0.0010343349848280893), (87, 0.0010341747925744255), (2423, 0.0010340232939792843), (2030, 0.001033955081138497), (525, 0.001033319090500947), (3667, 0.0010305957343863697), (761, 0.0010303140295561332), (1802, 0.0010297731007746465), (689, 0.0010293012297443466), (3488, 0.0010291268302887876), (3614, 0.0010290591007046611), (1209, 0.001028962166280348), (1482, 0.001028865061484446), (1790, 0.0010270365474883013), (2940, 0.0010266738803711773), (1883, 0.0010261480788979753), (1773, 0.0010257206388296647), (498, 0.0010257203935840253), (2918, 0.001025057229427747), (3647, 0.001023261070842845), (1127, 0.0010213831108970312), (369, 0.0010209869384196805), (3150, 0.0010207826884505021), (2116, 0.001019852740767507), (3619, 0.0010194196640176897), (3189, 0.0010184920753481808), (2297, 0.001018156164303306), (975, 0.0010159596620456994), (1828, 0.0010159449131397526), (2427, 0.001015393181564292), (3410, 0.0010150963935629908), (2998, 0.0010142308106658616), (1181, 0.0010129504808861244), (2009, 0.0010127582778905711), (2957, 0.0010119662265277735), (1507, 0.0010108219767446353), (3093, 0.001008762325711676), (2597, 0.0010081503847300874), (2450, 0.0010057639344537444), (2584, 0.0010036508545357514), (3026, 0.0010036389838756017), (2853, 0.0010007235928489481), (3082, 0.00100000919865593), (2905, 0.0009998688375443781), (2536, 0.0009991027862776508), (2495, 0.0009981106335200242), (3234, 0.0009967667571086085), (2605, 0.0009962366686470565), (3039, 0.0009956021518576197), (1993, 0.0009955847451833372), (3131, 0.0009953835072580067), (2960, 0.0009950355415386655), (3645, 0.000993731200563113), (2610, 0.0009930975336932776), (2250, 0.0009918224372163784), (523, 0.0009900119640635506), (1435, 0.0009887094649590389), (44, 0.0009884155530789911), (2753, 0.0009872907323323248), (1040, 0.0009867550398172118), (1869, 0.0009855423540510108), (1440, 0.0009854138753049378), (1080, 0.0009851082325717908), (2501, 0.000982937763755313), (3425, 0.0009827775505424825), (2163, 0.000982686342098149), (530, 0.0009801404042967408), (2154, 0.000980040502885795), (2426, 0.0009789115718435465), (3124, 0.0009783692352857804), (358, 0.0009781282508062631), (600, 0.0009766186048009492), (2901, 0.0009761576914271104), (642, 0.0009756608618218919), (361, 0.0009754660970823778), (1648, 0.0009753860137970431), (285, 0.000974461705133547), (1175, 0.0009734299935168739), (3401, 0.0009734059389398523), (296, 0.0009731810692353335), (3285, 0.0009697901549999392), (35, 0.0009697278335863558), (2520, 0.0009680337094959225), (3352, 0.0009679936709896807), (375, 0.0009669509993285295), (3610, 0.0009665503978580453), (1409, 0.0009647129938274569), (2600, 0.000963934857121162), (2264, 0.0009628131816971742), (2549, 0.0009623773792108309), (1652, 0.0009620950137895407), (3358, 0.0009619394998591185), (3379, 0.0009604900648420661), (3138, 0.0009594347560100718), (3270, 0.0009538023829257578), (1525, 0.0009532584606849672), (934, 0.0009513726365954272), (2953, 0.000949825376341866), (1, 0.0009486737271664181), (876, 0.0009483483157123578), (1290, 0.0009427445976318484), (2876, 0.0009427359634175137), (2045, 0.0009392169247765978), (45, 0.0009382558958571269), (3084, 0.0009373697506588466), (3201, 0.0009345453199409445), (1177, 0.0009303164970129664), (176, 0.0009301617810388289), (2455, 0.0009289294454429102), (2343, 0.0009285435270878269), (2966, 0.000928483247517411), (3612, 0.0009249117462988492), (3499, 0.0009242696051059192), (1467, 0.0009236493967200197), (3586, 0.0009236098469086818), (355, 0.0009235937128829704), (2749, 0.0009211873322654983), (3308, 0.0009170572924818637), (96, 0.0009169574738812255), (1564, 0.000916835724184876), (3209, 0.0009127499317972779), (2322, 0.0009119415630723203), (553, 0.000911340463134594), (1690, 0.0009107830502575255), (2709, 0.0009090737978400931), (577, 0.0009057493914793227), (3391, 0.0008983676135687819), (2374, 0.0008979062211805373), (1342, 0.0008967082576496049), (2667, 0.0008880356139390812), (1236, 0.0008853760233508657), (998, 0.0008826764236752567), (2547, 0.0008801996226887956), (3604, 0.0008726692074171519), (2863, 0.0008699704381866461), (271, 0.0008686915204653764), (411, 0.0008682134849787025), (554, 0.000864998020280255), (2247, 0.000863774247727886), (409, 0.0008610982792139913), (154, 0.0008574783703428191), (3233, 0.0008564578727767673), (1859, 0.0008553164226487162), (810, 0.0008509633839124335), (1453, 0.0008478990164871156), (3731, 0.0008294575833758187), (74, 0.0008016139710569145), (3417, 0.0007886282721844523), (2022, 0.0007609022070517648), (2821, 0.0007009916950403933), (518, 0.0), (988, 0.0), (1170, 0.0), (1498, 0.0), (1612, 0.0), (1657, 0.0), (1966, 0.0), (2201, 0.0), (2591, 0.0), (2794, 0.0), (3631, 0.0)]\n"
          ]
        }
      ]
    },
    {
      "cell_type": "code",
      "source": [
        "print('Top 10 Movies Suggested for You :\\n')\n",
        "i=1\n",
        "for movie in Sorted_Similar_Movies:\n",
        "  index=movie[0]\n",
        "  title_from_index = df[df.index==index]['Movie_Title'].values[0]\n",
        "  if(i<11):\n",
        "    print(i,'-',title_from_index)\n",
        "    i+=1"
      ],
      "metadata": {
        "colab": {
          "base_uri": "https://localhost:8080/"
        },
        "id": "_Qpp-fV5wtSk",
        "outputId": "9cfc0393-5f45-4bf5-f45d-44306f0ef053"
      },
      "execution_count": 39,
      "outputs": [
        {
          "output_type": "stream",
          "name": "stdout",
          "text": [
            "Top 10 Movies Suggested for You :\n",
            "\n",
            "1 - Niagara\n",
            "2 - True Lies\n",
            "3 - The Grudge 2\n",
            "4 - Straightheads\n",
            "5 - Funny People\n",
            "6 - Fair Game\n",
            "7 - The Innkeepers\n",
            "8 - Rachel Getting Married\n",
            "9 - Date Movie\n",
            "10 - Krull\n"
          ]
        }
      ]
    },
    {
      "cell_type": "code",
      "source": [
        "Movie_Name = input('Enter your favourite movie name :')\n",
        "list_of_all_titles = df['Movie_Title'].tolist()\n",
        "Find_Close_Match = difflib.get_close_matches(Movie_Name,list_of_all_titles)\n",
        "Close_Match = Find_Close_Match[0]\n",
        "Index_of_Movie = df[df.Movie_Title == Close_Match]['Movie_ID'].values[0]\n",
        "Recommendation_Score = list(enumerate(Similarity_Score[Index_of_Movie]))\n",
        "sorted_similar_movies=sorted(Recommendation_Score,key = lambda x:x[1], reverse=True)\n",
        "print('Top 10 Movies suggested for you :\\n')\n",
        "i=1\n",
        "for movie in sorted_similar_movies:\n",
        "  index=movie[0]\n",
        "  title_from_index = df[df.Movie_ID==index]['Movie_Title'].values\n",
        "  if(i<11):\n",
        "    print(i,'-',title_from_index)\n",
        "    i+=1\n"
      ],
      "metadata": {
        "colab": {
          "base_uri": "https://localhost:8080/"
        },
        "id": "QZvZR7cGxmjf",
        "outputId": "3448a1be-a341-4b84-d4be-db2f8a249e72"
      },
      "execution_count": 43,
      "outputs": [
        {
          "output_type": "stream",
          "name": "stdout",
          "text": [
            "Enter your favourite movie name :catch me if you can\n",
            "Top 10 Movies suggested for you :\n",
            "\n",
            "1 - ['Catch Me If You Can']\n",
            "2 - ['Annie Hall']\n",
            "3 - ['Requiem for a Dream']\n",
            "4 - ['The Wizard of Oz']\n",
            "5 - [\"Bridget Jones's Diary\"]\n",
            "6 - ['When Harry Met Sally...']\n",
            "7 - ['Gremlins 2: The New Batch']\n",
            "8 - [\"Rosemary's Baby\"]\n",
            "9 - ['Good Boy!']\n",
            "10 - ['Femme Fatale']\n"
          ]
        }
      ]
    }
  ]
}